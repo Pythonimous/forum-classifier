{
  "nbformat": 4,
  "nbformat_minor": 0,
  "metadata": {
    "kernelspec": {
      "display_name": "Python 3",
      "language": "python",
      "name": "python3"
    },
    "language_info": {
      "codemirror_mode": {
        "name": "ipython",
        "version": 3
      },
      "file_extension": ".py",
      "mimetype": "text/x-python",
      "name": "python",
      "nbconvert_exporter": "python",
      "pygments_lexer": "ipython3",
      "version": "3.6.9"
    },
    "colab": {
      "name": "Conv2D.ipynb",
      "provenance": [],
      "collapsed_sections": []
    },
    "accelerator": "GPU"
  },
  "cells": [
    {
      "cell_type": "code",
      "metadata": {
        "id": "LwFExL0AaU7G",
        "colab_type": "code",
        "outputId": "c5b00352-b43b-46c2-c024-d3d2ce14eed1",
        "colab": {
          "base_uri": "https://localhost:8080/",
          "height": 129
        }
      },
      "source": [
        "from google.colab import drive\n",
        "drive.mount('/content/gdrive')"
      ],
      "execution_count": 1,
      "outputs": [
        {
          "output_type": "stream",
          "text": [
            "Go to this URL in a browser: https://accounts.google.com/o/oauth2/auth?client_id=947318989803-6bn6qk8qdgf4n4g3pfee6491hc0brc4i.apps.googleusercontent.com&redirect_uri=urn%3aietf%3awg%3aoauth%3a2.0%3aoob&response_type=code&scope=email%20https%3a%2f%2fwww.googleapis.com%2fauth%2fdocs.test%20https%3a%2f%2fwww.googleapis.com%2fauth%2fdrive%20https%3a%2f%2fwww.googleapis.com%2fauth%2fdrive.photos.readonly%20https%3a%2f%2fwww.googleapis.com%2fauth%2fpeopleapi.readonly\n",
            "\n",
            "Enter your authorization code:\n",
            "··········\n",
            "Mounted at /content/gdrive\n"
          ],
          "name": "stdout"
        }
      ]
    },
    {
      "cell_type": "code",
      "metadata": {
        "id": "NwMUupd3c__M",
        "colab_type": "code",
        "colab": {}
      },
      "source": [
        "import os\n",
        "os.chdir('gdrive/My Drive/data')"
      ],
      "execution_count": 0,
      "outputs": []
    },
    {
      "cell_type": "code",
      "metadata": {
        "id": "kvELXJAf-A3H",
        "colab_type": "code",
        "colab": {}
      },
      "source": [
        "import tensorflow as tf\n",
        "import numpy as np\n",
        "from utils import load_data, train_dev_test, make_map_from_nested, word_vectors, trigram_vectors, all_vectors\n",
        "from sklearn.preprocessing import LabelEncoder"
      ],
      "execution_count": 0,
      "outputs": []
    },
    {
      "cell_type": "code",
      "metadata": {
        "id": "S1ZPhQ_M-A3R",
        "colab_type": "code",
        "colab": {}
      },
      "source": [
        "import tensorflow.keras as keras\n",
        "from tensorflow.keras import Model\n",
        "from tensorflow.keras.models import Sequential\n",
        "from tensorflow.keras.layers import Embedding, Reshape, Input, Dense, Dropout, Flatten, Concatenate, Conv2D, MaxPooling2D, BatchNormalization\n",
        "from tensorflow.keras import backend as K\n",
        "from tensorflow.keras.utils import to_categorical\n",
        "from tensorflow.keras.preprocessing.sequence import pad_sequences\n",
        "\n",
        "from tensorflow.keras.callbacks import EarlyStopping, ModelCheckpoint\n",
        "\n",
        "from tensorflow_addons.losses import SigmoidFocalCrossEntropy"
      ],
      "execution_count": 0,
      "outputs": []
    },
    {
      "cell_type": "code",
      "metadata": {
        "id": "57nkfPUU-A3Y",
        "colab_type": "code",
        "colab": {}
      },
      "source": [
        "seed = 42\n",
        "database, top_tokens = load_data('./')"
      ],
      "execution_count": 0,
      "outputs": []
    },
    {
      "cell_type": "code",
      "metadata": {
        "id": "sstlkuiy-A3l",
        "colab_type": "code",
        "colab": {}
      },
      "source": [
        "classes = list(set(database['class']))\n",
        "classes.sort()"
      ],
      "execution_count": 0,
      "outputs": []
    },
    {
      "cell_type": "code",
      "metadata": {
        "id": "_IF5byAZ-A3q",
        "colab_type": "code",
        "colab": {}
      },
      "source": [
        "train, dev, test = train_dev_test(database, seed)"
      ],
      "execution_count": 0,
      "outputs": []
    },
    {
      "cell_type": "code",
      "metadata": {
        "id": "_QF5bTxjnnNu",
        "colab_type": "code",
        "outputId": "6846e0da-84db-44e0-e85d-72525160884e",
        "colab": {
          "base_uri": "https://localhost:8080/",
          "height": 35
        }
      },
      "source": [
        "len(train), len(dev), len(test)"
      ],
      "execution_count": 14,
      "outputs": [
        {
          "output_type": "execute_result",
          "data": {
            "text/plain": [
              "(170840, 9491, 9492)"
            ]
          },
          "metadata": {
            "tags": []
          },
          "execution_count": 14
        }
      ]
    },
    {
      "cell_type": "code",
      "metadata": {
        "id": "_ZMmvV52-A3w",
        "colab_type": "code",
        "colab": {}
      },
      "source": [
        "class_map = {classes[idx]:idx for idx in range(len(classes))}  # class mapping to integers\n",
        "word_map = make_map_from_nested(top_tokens['top_words'].values())\n",
        "trigram_map = make_map_from_nested(top_tokens['top_trigrams'].values())"
      ],
      "execution_count": 0,
      "outputs": []
    },
    {
      "cell_type": "code",
      "metadata": {
        "id": "ed6r9rLh-A32",
        "colab_type": "code",
        "colab": {}
      },
      "source": [
        "y_train_ints = np.array([class_map[label] for label in train['class']])\n",
        "y_dev_ints = np.array([class_map[label] for label in dev['class']])\n",
        "y_test_ints = np.array([class_map[label] for label in test['class']])"
      ],
      "execution_count": 0,
      "outputs": []
    },
    {
      "cell_type": "code",
      "metadata": {
        "id": "iCOEzdp2-A35",
        "colab_type": "code",
        "colab": {}
      },
      "source": [
        "y_train = to_categorical(y_train_ints, 10)\n",
        "y_dev = to_categorical(y_dev_ints, 10)\n",
        "y_test = to_categorical(y_test_ints, 10)"
      ],
      "execution_count": 0,
      "outputs": []
    },
    {
      "cell_type": "code",
      "metadata": {
        "id": "kOeQjl1oFJ0t",
        "colab_type": "code",
        "colab": {}
      },
      "source": [
        "results = set()\n",
        "for sen in train['text']:\n",
        "    results.update(sen.split())\n",
        "all_map = {w:i for i, w in enumerate(list(results))}"
      ],
      "execution_count": 0,
      "outputs": []
    },
    {
      "cell_type": "code",
      "metadata": {
        "id": "A65E01Oe-A4B",
        "colab_type": "code",
        "colab": {}
      },
      "source": [
        "X_train_words = word_vectors(train['text'], word_map)\n",
        "X_train_trigrams = trigram_vectors(train['text'], trigram_map)\n",
        "X_train_all = all_vectors(train['text'], all_map)\n",
        "X_dev_words = word_vectors(dev['text'], word_map)\n",
        "X_dev_trigrams = trigram_vectors(dev['text'], trigram_map)\n",
        "X_dev_all = all_vectors(dev['text'], all_map)\n",
        "X_test_words = word_vectors(test['text'], word_map)\n",
        "X_test_trigrams = trigram_vectors(test['text'], trigram_map)\n",
        "X_test_all = all_vectors(test['text'], all_map)"
      ],
      "execution_count": 0,
      "outputs": []
    },
    {
      "cell_type": "code",
      "metadata": {
        "id": "zzvYcfXF-A4K",
        "colab_type": "code",
        "colab": {}
      },
      "source": [
        "max_word_len = max([len(s) for s in X_train_words])\n",
        "max_tri_len = max([len(s) for s in X_train_trigrams])\n",
        "max_all_len = max([len(s) for s in X_train_all])"
      ],
      "execution_count": 0,
      "outputs": []
    },
    {
      "cell_type": "code",
      "metadata": {
        "id": "3Hfi-51Bn3O6",
        "colab_type": "code",
        "outputId": "6d3c4167-bd99-42e3-8ff0-e8dde0d51fba",
        "colab": {
          "base_uri": "https://localhost:8080/",
          "height": 35
        }
      },
      "source": [
        "max_all_len"
      ],
      "execution_count": 21,
      "outputs": [
        {
          "output_type": "execute_result",
          "data": {
            "text/plain": [
              "30"
            ]
          },
          "metadata": {
            "tags": []
          },
          "execution_count": 21
        }
      ]
    },
    {
      "cell_type": "code",
      "metadata": {
        "id": "ZqvhHIfr-A4S",
        "colab_type": "code",
        "colab": {}
      },
      "source": [
        "X_train_w = pad_sequences(X_train_words, max_word_len, padding='post')\n",
        "X_train_t = pad_sequences(X_train_trigrams, max_tri_len, padding='post')\n",
        "X_train_a = pad_sequences(X_train_all, max_all_len, padding='post')\n",
        "X_dev_w = pad_sequences(X_dev_words, max_word_len, padding='post')\n",
        "X_dev_t = pad_sequences(X_dev_trigrams, max_tri_len, padding='post')\n",
        "X_dev_a = pad_sequences(X_dev_all, max_all_len, padding='post')\n",
        "X_test_w = pad_sequences(X_test_words, max_word_len, padding='post')\n",
        "X_test_t = pad_sequences(X_test_trigrams, max_tri_len, padding='post')\n",
        "X_test_a = pad_sequences(X_test_all, max_all_len, padding='post')"
      ],
      "execution_count": 0,
      "outputs": []
    },
    {
      "cell_type": "markdown",
      "metadata": {
        "id": "iMmvU5uT-A4Z",
        "colab_type": "text"
      },
      "source": [
        "X_train_w = np.expand_dims(X_train_t, axis=2)\n",
        "X_dev_w = np.expand_dims(X_dev_t, axis=2)\n",
        "X_test_w = np.expand_dims(X_test_t, axis=2)\n",
        "X_train_t = np.expand_dims(X_train_t, axis=2)\n",
        "X_dev_t = np.expand_dims(X_dev_t, axis=2)\n",
        "X_test_t = np.expand_dims(X_test_t, axis=2)"
      ]
    },
    {
      "cell_type": "code",
      "metadata": {
        "id": "j2kQSvDi-A4b",
        "colab_type": "code",
        "colab": {}
      },
      "source": [
        "def build_model(word_vocab_size, word_embedding_size, word_input_length,\n",
        "                trigram_vocab_size, trigram_embedding_size, trigram_input_length,\n",
        "                all_vocab_size, all_embedding_size, all_input_length,\n",
        "                cnn_nodes, connected, dropout_rate, num_classes):\n",
        "    word_input = Input(shape=(word_input_length,))\n",
        "    trigram_input = Input(shape=(trigram_input_length,))\n",
        "    all_input = Input(shape=(all_input_length,))\n",
        "\n",
        "    word_embedding = Embedding(input_dim=word_vocab_size,\n",
        "                               output_dim=word_embedding_size,\n",
        "                               input_length=word_input_length,\n",
        "                               trainable=True)(word_input)\n",
        "    x1 = Reshape((word_input_length, word_embedding_size, 1))(word_embedding)\n",
        "    x1 = Conv2D(cnn_nodes, (3,3), activation='relu', padding='same')(x1)\n",
        "    x1 = MaxPooling2D((2,2))(x1)\n",
        "    x1 = Conv2D(cnn_nodes*2, (7,7), activation='relu', padding='same')(x1)\n",
        "    x1 = MaxPooling2D((2,2))(x1)\n",
        "    x1 = Flatten()(x1)\n",
        "    x1 = BatchNormalization(trainable=True)(x1)\n",
        "    x1 = Model(inputs=word_input, outputs=x1)\n",
        "\n",
        "    trigram_embedding = Embedding(input_dim=trigram_vocab_size,\n",
        "                               output_dim=trigram_embedding_size,\n",
        "                               input_length=trigram_input_length,\n",
        "                               trainable=True)(trigram_input)\n",
        "    x2 = Reshape((trigram_input_length, trigram_embedding_size, 1))(trigram_embedding)\n",
        "    x2 = Conv2D(cnn_nodes, (3,3), activation='relu', padding='same')(x2)\n",
        "    x2 = MaxPooling2D((2,2))(x2)\n",
        "    x2 = Conv2D(cnn_nodes*2, (7,7), activation='relu', padding='same')(x2)\n",
        "    x2 = MaxPooling2D((2,2))(x2)\n",
        "    x2 = Flatten()(x2)\n",
        "    x2 = BatchNormalization(trainable=True)(x2)\n",
        "    x2 = Model(inputs=trigram_input, outputs=x2)\n",
        "\n",
        "    all_embedding = Embedding(input_dim=all_vocab_size,\n",
        "                              output_dim=all_embedding_size,\n",
        "                              input_length=all_input_length,\n",
        "                              trainable=True)(all_input)\n",
        "    x3 = Reshape((all_input_length, all_embedding_size, 1))(all_embedding)\n",
        "    x3 = Conv2D(cnn_nodes, (3,3), activation='relu', padding='same')(x3)\n",
        "    x3 = MaxPooling2D((2,2))(x3)\n",
        "    x3 = Conv2D(cnn_nodes*2, (7,7), activation='relu', padding='same')(x3)\n",
        "    x3 = MaxPooling2D((2,2))(x3)\n",
        "    x3 = Flatten()(x3)\n",
        "    x3 = BatchNormalization(trainable=True)(x3)\n",
        "    x3 = Model(inputs=all_input, outputs=x3)\n",
        "\n",
        "    combined = Concatenate()([x1.output, x2.output, x3.output])\n",
        "    z = Dense(connected*2, activation='relu')(combined)\n",
        "    z = BatchNormalization(trainable=True)(z)\n",
        "    z = Dropout(dropout_rate)(z)\n",
        "    z = Dense(connected, activation='relu')(z)\n",
        "    z = BatchNormalization(trainable=True)(z)\n",
        "    z = Dropout(dropout_rate)(z)\n",
        "    z = Dense(num_classes, activation='softmax')(z)\n",
        "\n",
        "    model = Model(inputs=[x1.input, x2.input, x3.input], outputs=z)\n",
        "\n",
        "    return model"
      ],
      "execution_count": 0,
      "outputs": []
    },
    {
      "cell_type": "code",
      "metadata": {
        "id": "dlGx-oA2-A4h",
        "colab_type": "code",
        "colab": {}
      },
      "source": [
        "word_vocab_size = len(word_map) + 1  # Adding 1 because of reserved 0 index\n",
        "word_embedding_size = 70\n",
        "trigram_vocab_size = len(trigram_map) + 1\n",
        "trigram_embedding_size = 70\n",
        "all_vocab_size = len(all_map) + 1\n",
        "all_embedding_size = 100\n",
        "cnn_nodes = 13\n",
        "connected = 256\n",
        "dropout_rate = 0.5\n",
        "batch_size = 512\n",
        "epochs = 100\n",
        "num_classes = 10"
      ],
      "execution_count": 0,
      "outputs": []
    },
    {
      "cell_type": "code",
      "metadata": {
        "id": "BJI7RbI1-A44",
        "colab_type": "code",
        "colab": {}
      },
      "source": [
        "model = build_model(word_vocab_size, word_embedding_size, max_word_len,\n",
        "                    trigram_vocab_size, trigram_embedding_size, max_tri_len,\n",
        "                    all_vocab_size, all_embedding_size, max_all_len,\n",
        "                    cnn_nodes, connected, dropout_rate, num_classes)"
      ],
      "execution_count": 0,
      "outputs": []
    },
    {
      "cell_type": "code",
      "metadata": {
        "id": "WzRoOTeB-A5G",
        "colab_type": "code",
        "colab": {}
      },
      "source": [
        "earlystop = EarlyStopping(monitor='val_accuracy', patience=2)\n",
        "mc = ModelCheckpoint('best_model_2d.h5', monitor='val_accuracy', mode='auto', save_best_only=True)"
      ],
      "execution_count": 0,
      "outputs": []
    },
    {
      "cell_type": "code",
      "metadata": {
        "id": "YhDTEYCzBRqf",
        "colab_type": "code",
        "colab": {}
      },
      "source": [
        "focal_loss = SigmoidFocalCrossEntropy()"
      ],
      "execution_count": 0,
      "outputs": []
    },
    {
      "cell_type": "code",
      "metadata": {
        "id": "tL-lruk6-A5N",
        "colab_type": "code",
        "outputId": "39af2dc2-ad91-49a8-ec42-5da65ebdc45e",
        "colab": {
          "base_uri": "https://localhost:8080/",
          "height": 1000
        }
      },
      "source": [
        "model.compile(loss=focal_loss,\n",
        "              optimizer='adam',\n",
        "              metrics=['accuracy'])\n",
        "print(model.summary())"
      ],
      "execution_count": 59,
      "outputs": [
        {
          "output_type": "stream",
          "text": [
            "Model: \"model_11\"\n",
            "__________________________________________________________________________________________________\n",
            "Layer (type)                    Output Shape         Param #     Connected to                     \n",
            "==================================================================================================\n",
            "input_7 (InputLayer)            [(None, 25)]         0                                            \n",
            "__________________________________________________________________________________________________\n",
            "input_8 (InputLayer)            [(None, 51)]         0                                            \n",
            "__________________________________________________________________________________________________\n",
            "input_9 (InputLayer)            [(None, 30)]         0                                            \n",
            "__________________________________________________________________________________________________\n",
            "embedding_6 (Embedding)         (None, 25, 70)       119980      input_7[0][0]                    \n",
            "__________________________________________________________________________________________________\n",
            "embedding_7 (Embedding)         (None, 51, 70)       102340      input_8[0][0]                    \n",
            "__________________________________________________________________________________________________\n",
            "embedding_8 (Embedding)         (None, 30, 100)      13075700    input_9[0][0]                    \n",
            "__________________________________________________________________________________________________\n",
            "reshape_6 (Reshape)             (None, 25, 70, 1)    0           embedding_6[0][0]                \n",
            "__________________________________________________________________________________________________\n",
            "reshape_7 (Reshape)             (None, 51, 70, 1)    0           embedding_7[0][0]                \n",
            "__________________________________________________________________________________________________\n",
            "reshape_8 (Reshape)             (None, 30, 100, 1)   0           embedding_8[0][0]                \n",
            "__________________________________________________________________________________________________\n",
            "conv2d_12 (Conv2D)              (None, 25, 70, 13)   130         reshape_6[0][0]                  \n",
            "__________________________________________________________________________________________________\n",
            "conv2d_14 (Conv2D)              (None, 51, 70, 13)   130         reshape_7[0][0]                  \n",
            "__________________________________________________________________________________________________\n",
            "conv2d_16 (Conv2D)              (None, 30, 100, 13)  130         reshape_8[0][0]                  \n",
            "__________________________________________________________________________________________________\n",
            "max_pooling2d_12 (MaxPooling2D) (None, 12, 35, 13)   0           conv2d_12[0][0]                  \n",
            "__________________________________________________________________________________________________\n",
            "max_pooling2d_14 (MaxPooling2D) (None, 25, 35, 13)   0           conv2d_14[0][0]                  \n",
            "__________________________________________________________________________________________________\n",
            "max_pooling2d_16 (MaxPooling2D) (None, 15, 50, 13)   0           conv2d_16[0][0]                  \n",
            "__________________________________________________________________________________________________\n",
            "conv2d_13 (Conv2D)              (None, 12, 35, 26)   16588       max_pooling2d_12[0][0]           \n",
            "__________________________________________________________________________________________________\n",
            "conv2d_15 (Conv2D)              (None, 25, 35, 26)   16588       max_pooling2d_14[0][0]           \n",
            "__________________________________________________________________________________________________\n",
            "conv2d_17 (Conv2D)              (None, 15, 50, 26)   16588       max_pooling2d_16[0][0]           \n",
            "__________________________________________________________________________________________________\n",
            "max_pooling2d_13 (MaxPooling2D) (None, 6, 17, 26)    0           conv2d_13[0][0]                  \n",
            "__________________________________________________________________________________________________\n",
            "max_pooling2d_15 (MaxPooling2D) (None, 12, 17, 26)   0           conv2d_15[0][0]                  \n",
            "__________________________________________________________________________________________________\n",
            "max_pooling2d_17 (MaxPooling2D) (None, 7, 25, 26)    0           conv2d_17[0][0]                  \n",
            "__________________________________________________________________________________________________\n",
            "flatten_6 (Flatten)             (None, 2652)         0           max_pooling2d_13[0][0]           \n",
            "__________________________________________________________________________________________________\n",
            "flatten_7 (Flatten)             (None, 5304)         0           max_pooling2d_15[0][0]           \n",
            "__________________________________________________________________________________________________\n",
            "flatten_8 (Flatten)             (None, 4550)         0           max_pooling2d_17[0][0]           \n",
            "__________________________________________________________________________________________________\n",
            "batch_normalization_10 (BatchNo (None, 2652)         10608       flatten_6[0][0]                  \n",
            "__________________________________________________________________________________________________\n",
            "batch_normalization_11 (BatchNo (None, 5304)         21216       flatten_7[0][0]                  \n",
            "__________________________________________________________________________________________________\n",
            "batch_normalization_12 (BatchNo (None, 4550)         18200       flatten_8[0][0]                  \n",
            "__________________________________________________________________________________________________\n",
            "concatenate_2 (Concatenate)     (None, 12506)        0           batch_normalization_10[0][0]     \n",
            "                                                                 batch_normalization_11[0][0]     \n",
            "                                                                 batch_normalization_12[0][0]     \n",
            "__________________________________________________________________________________________________\n",
            "dense_6 (Dense)                 (None, 512)          6403584     concatenate_2[0][0]              \n",
            "__________________________________________________________________________________________________\n",
            "batch_normalization_13 (BatchNo (None, 512)          2048        dense_6[0][0]                    \n",
            "__________________________________________________________________________________________________\n",
            "dropout_4 (Dropout)             (None, 512)          0           batch_normalization_13[0][0]     \n",
            "__________________________________________________________________________________________________\n",
            "dense_7 (Dense)                 (None, 256)          131328      dropout_4[0][0]                  \n",
            "__________________________________________________________________________________________________\n",
            "batch_normalization_14 (BatchNo (None, 256)          1024        dense_7[0][0]                    \n",
            "__________________________________________________________________________________________________\n",
            "dropout_5 (Dropout)             (None, 256)          0           batch_normalization_14[0][0]     \n",
            "__________________________________________________________________________________________________\n",
            "dense_8 (Dense)                 (None, 10)           2570        dropout_5[0][0]                  \n",
            "==================================================================================================\n",
            "Total params: 19,938,752\n",
            "Trainable params: 19,912,204\n",
            "Non-trainable params: 26,548\n",
            "__________________________________________________________________________________________________\n",
            "None\n"
          ],
          "name": "stdout"
        }
      ]
    },
    {
      "cell_type": "code",
      "metadata": {
        "id": "3gKW1JDF-A5c",
        "colab_type": "code",
        "outputId": "1ed6c82f-74f8-4d5d-bfef-13926ec277b2",
        "colab": {
          "base_uri": "https://localhost:8080/",
          "height": 237
        }
      },
      "source": [
        "history=model.fit([X_train_w, X_train_t, X_train_a], y_train,\n",
        "          batch_size=batch_size,\n",
        "          epochs=epochs,\n",
        "          callbacks = [mc, earlystop],\n",
        "          verbose=1,\n",
        "          validation_data=([X_dev_w, X_dev_t, X_dev_a], y_dev))"
      ],
      "execution_count": 60,
      "outputs": [
        {
          "output_type": "stream",
          "text": [
            "Epoch 1/100\n",
            "334/334 [==============================] - 60s 181ms/step - loss: 0.1970 - accuracy: 0.7568 - val_loss: 0.2155 - val_accuracy: 0.6540\n",
            "Epoch 2/100\n",
            "334/334 [==============================] - 59s 178ms/step - loss: 0.0384 - accuracy: 0.9461 - val_loss: 0.0564 - val_accuracy: 0.9118\n",
            "Epoch 3/100\n",
            "334/334 [==============================] - 59s 176ms/step - loss: 0.0132 - accuracy: 0.9822 - val_loss: 0.0678 - val_accuracy: 0.9225\n",
            "Epoch 4/100\n",
            "334/334 [==============================] - 60s 179ms/step - loss: 0.0063 - accuracy: 0.9916 - val_loss: 0.0691 - val_accuracy: 0.9367\n",
            "Epoch 5/100\n",
            "334/334 [==============================] - 57s 170ms/step - loss: 0.0041 - accuracy: 0.9947 - val_loss: 0.1106 - val_accuracy: 0.9092\n",
            "Epoch 6/100\n",
            "334/334 [==============================] - 56s 169ms/step - loss: 0.0037 - accuracy: 0.9952 - val_loss: 0.0880 - val_accuracy: 0.9297\n"
          ],
          "name": "stdout"
        }
      ]
    },
    {
      "cell_type": "code",
      "metadata": {
        "id": "PW_ON4PgBqiE",
        "colab_type": "code",
        "colab": {}
      },
      "source": [
        "import matplotlib.pyplot as plt\n",
        "import numpy as np\n",
        "%matplotlib inline"
      ],
      "execution_count": 0,
      "outputs": []
    },
    {
      "cell_type": "code",
      "metadata": {
        "id": "6pCw2vvJ-A5m",
        "colab_type": "code",
        "outputId": "bdfe571b-f155-4e23-f791-d73d83cbd05a",
        "colab": {
          "base_uri": "https://localhost:8080/",
          "height": 295
        }
      },
      "source": [
        "acc = history.history['accuracy']\n",
        "val_acc = history.history['val_accuracy']\n",
        "epochs = range(1, len(acc) + 1)\n",
        "\n",
        "plt.plot(epochs, acc, 'r', label='Training acc')\n",
        "plt.plot(epochs, val_acc, 'b', label='Validation acc')\n",
        "plt.title('Training and validation accuracy')\n",
        "plt.xlabel('Epochs')\n",
        "plt.ylabel('Accuracy')\n",
        "plt.legend()\n",
        "\n",
        "plt.show()"
      ],
      "execution_count": 62,
      "outputs": [
        {
          "output_type": "display_data",
          "data": {
            "image/png": "[encoded data removed]",
            "text/plain": [
              "<Figure size 432x288 with 1 Axes>"
            ]
          },
          "metadata": {
            "tags": [],
            "needs_background": "light"
          }
        }
      ]
    },
    {
      "cell_type": "code",
      "metadata": {
        "id": "f1Nri6Z3Br7a",
        "colab_type": "code",
        "outputId": "d995e86f-e6f3-4996-f877-a0bb7671a7d9",
        "colab": {
          "base_uri": "https://localhost:8080/",
          "height": 295
        }
      },
      "source": [
        "loss = history.history['loss']\n",
        "val_loss = history.history['val_loss']\n",
        "epochs = range(1, len(acc) + 1)\n",
        "\n",
        "plt.plot(epochs, loss, 'r', label='Training loss')\n",
        "plt.plot(epochs, val_loss, 'b', label='Validation loss')\n",
        "plt.title('Training and validation loss')\n",
        "plt.xlabel('Epochs')\n",
        "plt.ylabel('Loss')\n",
        "plt.legend()\n",
        "\n",
        "plt.show()"
      ],
      "execution_count": 63,
      "outputs": [
        {
          "output_type": "display_data",
          "data": {
            "image/png": "[encoded data removed]",
            "text/plain": [
              "<Figure size 432x288 with 1 Axes>"
            ]
          },
          "metadata": {
            "tags": [],
            "needs_background": "light"
          }
        }
      ]
    },
    {
      "cell_type": "code",
      "metadata": {
        "id": "RdQp6qjEaaY3",
        "colab_type": "code",
        "colab": {}
      },
      "source": [
        "model.load_weights('best_model_2d.h5')"
      ],
      "execution_count": 0,
      "outputs": []
    },
    {
      "cell_type": "code",
      "metadata": {
        "id": "3trkvtFHBtH9",
        "colab_type": "code",
        "outputId": "d8f041f4-3fca-4405-8985-0c65456dff1c",
        "colab": {
          "base_uri": "https://localhost:8080/",
          "height": 54
        }
      },
      "source": [
        "score = model.evaluate([X_test_w, X_test_t, X_test_a], y_test, verbose=0)\n",
        "print('Test loss:', score[0])\n",
        "print('Test accuracy:', score[1])"
      ],
      "execution_count": 65,
      "outputs": [
        {
          "output_type": "stream",
          "text": [
            "Test loss: 0.07056478410959244\n",
            "Test accuracy: 0.9344711303710938\n"
          ],
          "name": "stdout"
        }
      ]
    },
    {
      "cell_type": "code",
      "metadata": {
        "id": "NsITGf4za4E2",
        "colab_type": "code",
        "colab": {}
      },
      "source": [
        "from sklearn.metrics import confusion_matrix, classification_report"
      ],
      "execution_count": 0,
      "outputs": []
    },
    {
      "cell_type": "code",
      "metadata": {
        "id": "xQ5P7XioeMu1",
        "colab_type": "code",
        "colab": {}
      },
      "source": [
        "y_preds = model.predict([X_test_w, X_test_t, X_test_a]).argmax(axis=1)"
      ],
      "execution_count": 0,
      "outputs": []
    },
    {
      "cell_type": "code",
      "metadata": {
        "id": "HFmbQ-FmezVz",
        "colab_type": "code",
        "outputId": "ba39a409-c6fb-4b61-a6e3-03c84d00200e",
        "colab": {
          "base_uri": "https://localhost:8080/",
          "height": 201
        }
      },
      "source": [
        "confusion_matrix(y_test_ints, y_preds)"
      ],
      "execution_count": 68,
      "outputs": [
        {
          "output_type": "execute_result",
          "data": {
            "text/plain": [
              "array([[ 221,    2,   18,    7,    4,    2,   23,    4,    0,    1],\n",
              "       [   2,  133,   23,   18,    1,    1,    9,    4,    3,    2],\n",
              "       [   3,    1, 1186,   25,   18,    4,   45,   10,    2,    8],\n",
              "       [   1,    3,   27,  551,    5,    4,   14,    5,    0,    1],\n",
              "       [   2,    0,    9,    5,  596,    1,   11,    1,    4,    5],\n",
              "       [   0,    0,    8,   10,    2, 2065,   24,    7,    1,    5],\n",
              "       [   4,    3,   32,   21,    7,   11, 3075,    6,    2,    3],\n",
              "       [   1,    3,   19,   13,    7,    6,   19,  736,    0,    3],\n",
              "       [   0,    2,    2,    1,    5,    2,   10,    3,   90,    3],\n",
              "       [   0,    0,    4,    7,    8,    4,    3,    4,    9,  217]])"
            ]
          },
          "metadata": {
            "tags": []
          },
          "execution_count": 68
        }
      ]
    },
    {
      "cell_type": "code",
      "metadata": {
        "id": "PxPbOo2QeUGH",
        "colab_type": "code",
        "outputId": "01967f73-7513-4af1-bc73-4e0553c4a7f6",
        "colab": {
          "base_uri": "https://localhost:8080/",
          "height": 329
        }
      },
      "source": [
        "print(classification_report(y_test_ints, y_preds))"
      ],
      "execution_count": 69,
      "outputs": [
        {
          "output_type": "stream",
          "text": [
            "              precision    recall  f1-score   support\n",
            "\n",
            "           0       0.94      0.78      0.86       282\n",
            "           1       0.90      0.68      0.78       196\n",
            "           2       0.89      0.91      0.90      1302\n",
            "           3       0.84      0.90      0.87       611\n",
            "           4       0.91      0.94      0.93       634\n",
            "           5       0.98      0.97      0.98      2122\n",
            "           6       0.95      0.97      0.96      3164\n",
            "           7       0.94      0.91      0.93       807\n",
            "           8       0.81      0.76      0.79       118\n",
            "           9       0.88      0.85      0.86       256\n",
            "\n",
            "    accuracy                           0.93      9492\n",
            "   macro avg       0.91      0.87      0.88      9492\n",
            "weighted avg       0.93      0.93      0.93      9492\n",
            "\n"
          ],
          "name": "stdout"
        }
      ]
    },
    {
      "cell_type": "code",
      "metadata": {
        "id": "Cqfi1HO4ti_i",
        "colab_type": "code",
        "colab": {}
      },
      "source": [
        ""
      ],
      "execution_count": 0,
      "outputs": []
    }
  ]
}