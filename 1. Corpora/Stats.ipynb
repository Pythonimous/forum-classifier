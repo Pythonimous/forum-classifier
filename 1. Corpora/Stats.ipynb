{
 "cells": [
  {
   "cell_type": "code",
   "execution_count": 26,
   "metadata": {},
   "outputs": [],
   "source": [
    "from nltk.tokenize import sent_tokenize, word_tokenize\n",
    "import string, os"
   ]
  },
  {
   "cell_type": "code",
   "execution_count": 38,
   "metadata": {},
   "outputs": [],
   "source": [
    "def analyse_file(f):\n",
    "    with open(f, 'r', encoding='utf-8') as file:\n",
    "        texts = file.read().split('\\nNEWTEXT\\n')\n",
    "    file.close()\n",
    "    \n",
    "    text_string = ' '.join(texts).replace('\\n', ' ').strip()\n",
    "    sen_tokens = sent_tokenize(text_string)\n",
    "    word_tokens = word_tokenize(text_string)\n",
    "    word_tokens = [i for i in word_tokens if i not in string.punctuation + '—–...`']\n",
    "    \n",
    "    avg_text_len = len(word_tokens) / len(texts) \n",
    "    avg_sen_len = len(word_tokens) / len(sen_tokens)\n",
    "    \n",
    "    print('{} statistics:\\nSentence tokens: {};\\nWord tokens: {};\\nAvg text: {};\\nAvg sen: {}'\n",
    "          .format(f, len(sen_tokens), len(word_tokens), avg_text_len, avg_sen_len))"
   ]
  },
  {
   "cell_type": "code",
   "execution_count": 39,
   "metadata": {},
   "outputs": [
    {
     "name": "stdout",
     "output_type": "stream",
     "text": [
      "Football.txt statistics:\n",
      "Sentence tokens: 111951;\n",
      "Word tokens: 1400314;\n",
      "Avg text: 60.27003529310493;\n",
      "Avg sen: 12.508275942153263\n",
      "\n",
      "\n",
      "Books.txt statistics:\n",
      "Sentence tokens: 60237;\n",
      "Word tokens: 863698;\n",
      "Avg text: 86.37843784378438;\n",
      "Avg sen: 14.338330262131247\n",
      "\n",
      "\n",
      "Travel.txt statistics:\n",
      "Sentence tokens: 15212;\n",
      "Word tokens: 193070;\n",
      "Avg text: 100.87251828631139;\n",
      "Avg sen: 12.69195372074678\n",
      "\n",
      "\n",
      "Art.txt statistics:\n",
      "Sentence tokens: 7270;\n",
      "Word tokens: 98215;\n",
      "Avg text: 83.58723404255319;\n",
      "Avg sen: 13.509628610729024\n",
      "\n",
      "\n",
      "Anime.txt statistics:\n",
      "Sentence tokens: 13945;\n",
      "Word tokens: 188424;\n",
      "Avg text: 58.64425770308123;\n",
      "Avg sen: 13.511939763356041\n",
      "\n",
      "\n",
      "Games.txt statistics:\n",
      "Sentence tokens: 151834;\n",
      "Word tokens: 2001324;\n",
      "Avg text: 67.72670050761421;\n",
      "Avg sen: 13.181000302962445\n",
      "\n",
      "\n",
      "Films.txt statistics:\n",
      "Sentence tokens: 28679;\n",
      "Word tokens: 417130;\n",
      "Avg text: 71.158307744797;\n",
      "Avg sen: 14.544788869904808\n",
      "\n",
      "\n",
      "Food.txt statistics:\n",
      "Sentence tokens: 30786;\n",
      "Word tokens: 386307;\n",
      "Avg text: 65.85526764405046;\n",
      "Avg sen: 12.548138764373416\n",
      "\n",
      "\n",
      "Music.txt statistics:\n",
      "Sentence tokens: 37931;\n",
      "Word tokens: 497097;\n",
      "Avg text: 62.339729119638825;\n",
      "Avg sen: 13.105296459360417\n",
      "\n",
      "\n",
      "Nature.txt statistics:\n",
      "Sentence tokens: 4465;\n",
      "Word tokens: 60754;\n",
      "Avg text: 57.47776726584674;\n",
      "Avg sen: 13.606718924972004\n",
      "\n",
      "\n"
     ]
    }
   ],
   "source": [
    "for filename in os.listdir():\n",
    "    if filename.endswith('.txt'):\n",
    "        analyse_file(filename)\n",
    "        print('\\n')"
   ]
  },
  {
   "cell_type": "code",
   "execution_count": null,
   "metadata": {},
   "outputs": [],
   "source": []
  }
 ],
 "metadata": {
  "kernelspec": {
   "display_name": "Python 3",
   "language": "python",
   "name": "python3"
  },
  "language_info": {
   "codemirror_mode": {
    "name": "ipython",
    "version": 3
   },
   "file_extension": ".py",
   "mimetype": "text/x-python",
   "name": "python",
   "nbconvert_exporter": "python",
   "pygments_lexer": "ipython3",
   "version": "3.6.7"
  }
 },
 "nbformat": 4,
 "nbformat_minor": 2
}
