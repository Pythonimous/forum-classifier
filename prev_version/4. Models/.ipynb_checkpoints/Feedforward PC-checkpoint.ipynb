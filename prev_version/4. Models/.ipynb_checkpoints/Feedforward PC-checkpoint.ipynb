{
 "cells": [
  {
   "cell_type": "code",
   "execution_count": 1,
   "metadata": {},
   "outputs": [],
   "source": [
    "import pickle as pkl\n",
    "import numpy as np"
   ]
  },
  {
   "cell_type": "code",
   "execution_count": 2,
   "metadata": {},
   "outputs": [],
   "source": [
    "input_dim = 320"
   ]
  },
  {
   "cell_type": "code",
   "execution_count": 3,
   "metadata": {},
   "outputs": [
    {
     "data": {
      "text/plain": [
       "(87844, 320)"
      ]
     },
     "execution_count": 3,
     "metadata": {},
     "output_type": "execute_result"
    }
   ],
   "source": [
    "with open('Train_'+str(input_dim)+'.pkl', 'rb') as tr:\n",
    "    X_train = pkl.load(tr)\n",
    "tr.close()\n",
    "# X_train = X_train.reshape(X_train.shape[0], X_train.shape[1], 1)\n",
    "X_train.shape"
   ]
  },
  {
   "cell_type": "code",
   "execution_count": 4,
   "metadata": {},
   "outputs": [
    {
     "data": {
      "text/plain": [
       "(1000, 320)"
      ]
     },
     "execution_count": 4,
     "metadata": {},
     "output_type": "execute_result"
    }
   ],
   "source": [
    "with open('Val_'+str(input_dim)+'.pkl', 'rb') as val:\n",
    "    X_val = pkl.load(val)\n",
    "val.close()\n",
    "# X_val = X_val.reshape(X_val.shape[0], X_val.shape[1], 1)\n",
    "X_val.shape"
   ]
  },
  {
   "cell_type": "code",
   "execution_count": 5,
   "metadata": {},
   "outputs": [
    {
     "data": {
      "text/plain": [
       "(1000, 320)"
      ]
     },
     "execution_count": 5,
     "metadata": {},
     "output_type": "execute_result"
    }
   ],
   "source": [
    "with open('Test_'+str(input_dim)+'.pkl', 'rb') as test:\n",
    "    X_test = pkl.load(test)\n",
    "test.close()\n",
    "# X_test = X_test.reshape(X_test.shape[0], X_test.shape[1], 1)\n",
    "X_test.shape"
   ]
  },
  {
   "cell_type": "code",
   "execution_count": 6,
   "metadata": {},
   "outputs": [
    {
     "data": {
      "text/plain": [
       "87844"
      ]
     },
     "execution_count": 6,
     "metadata": {},
     "output_type": "execute_result"
    }
   ],
   "source": [
    "with open('Train_labels.txt', 'r') as l:\n",
    "    train_labels = l.read().split('\\n')\n",
    "l.close()\n",
    "len(train_labels)"
   ]
  },
  {
   "cell_type": "code",
   "execution_count": 7,
   "metadata": {},
   "outputs": [
    {
     "data": {
      "text/plain": [
       "1000"
      ]
     },
     "execution_count": 7,
     "metadata": {},
     "output_type": "execute_result"
    }
   ],
   "source": [
    "with open('Val_labels.txt', 'r') as v:\n",
    "    val_labels = v.read().split('\\n')\n",
    "v.close()\n",
    "len(val_labels)"
   ]
  },
  {
   "cell_type": "code",
   "execution_count": 8,
   "metadata": {},
   "outputs": [
    {
     "data": {
      "text/plain": [
       "1000"
      ]
     },
     "execution_count": 8,
     "metadata": {},
     "output_type": "execute_result"
    }
   ],
   "source": [
    "with open('Test_labels.txt', 'r') as t:\n",
    "    test_labels = t.read().split('\\n')\n",
    "t.close()\n",
    "len(test_labels)"
   ]
  },
  {
   "cell_type": "code",
   "execution_count": 9,
   "metadata": {},
   "outputs": [
    {
     "data": {
      "text/plain": [
       "LabelEncoder()"
      ]
     },
     "execution_count": 9,
     "metadata": {},
     "output_type": "execute_result"
    }
   ],
   "source": [
    "from sklearn.preprocessing import LabelEncoder\n",
    "enc = LabelEncoder()\n",
    "enc.fit(train_labels)"
   ]
  },
  {
   "cell_type": "code",
   "execution_count": 10,
   "metadata": {},
   "outputs": [
    {
     "data": {
      "text/plain": [
       "(87844,)"
      ]
     },
     "execution_count": 10,
     "metadata": {},
     "output_type": "execute_result"
    }
   ],
   "source": [
    "y_train_labels = enc.transform(train_labels)\n",
    "y_train_labels.shape"
   ]
  },
  {
   "cell_type": "code",
   "execution_count": 11,
   "metadata": {},
   "outputs": [
    {
     "data": {
      "text/plain": [
       "(1000,)"
      ]
     },
     "execution_count": 11,
     "metadata": {},
     "output_type": "execute_result"
    }
   ],
   "source": [
    "y_val_labels = enc.transform(val_labels)\n",
    "y_val_labels.shape"
   ]
  },
  {
   "cell_type": "code",
   "execution_count": 12,
   "metadata": {},
   "outputs": [
    {
     "data": {
      "text/plain": [
       "(1000,)"
      ]
     },
     "execution_count": 12,
     "metadata": {},
     "output_type": "execute_result"
    }
   ],
   "source": [
    "y_test_labels = enc.transform(test_labels)\n",
    "y_test_labels.shape"
   ]
  },
  {
   "cell_type": "code",
   "execution_count": 13,
   "metadata": {},
   "outputs": [
    {
     "name": "stderr",
     "output_type": "stream",
     "text": [
      "Using TensorFlow backend.\n",
      "c:\\users\\1\\appdata\\local\\programs\\python\\python36\\lib\\site-packages\\tensorflow\\python\\framework\\dtypes.py:523: FutureWarning: Passing (type, 1) or '1type' as a synonym of type is deprecated; in a future version of numpy, it will be understood as (type, (1,)) / '(1,)type'.\n",
      "  _np_qint8 = np.dtype([(\"qint8\", np.int8, 1)])\n",
      "c:\\users\\1\\appdata\\local\\programs\\python\\python36\\lib\\site-packages\\tensorflow\\python\\framework\\dtypes.py:524: FutureWarning: Passing (type, 1) or '1type' as a synonym of type is deprecated; in a future version of numpy, it will be understood as (type, (1,)) / '(1,)type'.\n",
      "  _np_quint8 = np.dtype([(\"quint8\", np.uint8, 1)])\n",
      "c:\\users\\1\\appdata\\local\\programs\\python\\python36\\lib\\site-packages\\tensorflow\\python\\framework\\dtypes.py:525: FutureWarning: Passing (type, 1) or '1type' as a synonym of type is deprecated; in a future version of numpy, it will be understood as (type, (1,)) / '(1,)type'.\n",
      "  _np_qint16 = np.dtype([(\"qint16\", np.int16, 1)])\n",
      "c:\\users\\1\\appdata\\local\\programs\\python\\python36\\lib\\site-packages\\tensorflow\\python\\framework\\dtypes.py:526: FutureWarning: Passing (type, 1) or '1type' as a synonym of type is deprecated; in a future version of numpy, it will be understood as (type, (1,)) / '(1,)type'.\n",
      "  _np_quint16 = np.dtype([(\"quint16\", np.uint16, 1)])\n",
      "c:\\users\\1\\appdata\\local\\programs\\python\\python36\\lib\\site-packages\\tensorflow\\python\\framework\\dtypes.py:527: FutureWarning: Passing (type, 1) or '1type' as a synonym of type is deprecated; in a future version of numpy, it will be understood as (type, (1,)) / '(1,)type'.\n",
      "  _np_qint32 = np.dtype([(\"qint32\", np.int32, 1)])\n",
      "c:\\users\\1\\appdata\\local\\programs\\python\\python36\\lib\\site-packages\\tensorflow\\python\\framework\\dtypes.py:532: FutureWarning: Passing (type, 1) or '1type' as a synonym of type is deprecated; in a future version of numpy, it will be understood as (type, (1,)) / '(1,)type'.\n",
      "  np_resource = np.dtype([(\"resource\", np.ubyte, 1)])\n"
     ]
    }
   ],
   "source": [
    "import keras\n",
    "from keras.models import Sequential\n",
    "from keras.layers import Dense\n",
    "from keras.utils import to_categorical\n",
    "from sklearn.preprocessing import LabelEncoder, StandardScaler\n",
    "from sklearn.metrics import classification_report, confusion_matrix\n",
    "from keras.callbacks import EarlyStopping"
   ]
  },
  {
   "cell_type": "code",
   "execution_count": 14,
   "metadata": {},
   "outputs": [
    {
     "data": {
      "text/plain": [
       "(87844, 10)"
      ]
     },
     "execution_count": 14,
     "metadata": {},
     "output_type": "execute_result"
    }
   ],
   "source": [
    "y_train = to_categorical(y_train_labels)\n",
    "y_train.shape"
   ]
  },
  {
   "cell_type": "code",
   "execution_count": 15,
   "metadata": {},
   "outputs": [
    {
     "data": {
      "text/plain": [
       "(1000, 10)"
      ]
     },
     "execution_count": 15,
     "metadata": {},
     "output_type": "execute_result"
    }
   ],
   "source": [
    "y_val = to_categorical(y_val_labels)\n",
    "y_val.shape"
   ]
  },
  {
   "cell_type": "code",
   "execution_count": 16,
   "metadata": {},
   "outputs": [
    {
     "data": {
      "text/plain": [
       "(1000, 10)"
      ]
     },
     "execution_count": 16,
     "metadata": {},
     "output_type": "execute_result"
    }
   ],
   "source": [
    "y_test = to_categorical(y_test_labels)\n",
    "y_test.shape"
   ]
  },
  {
   "cell_type": "code",
   "execution_count": 17,
   "metadata": {},
   "outputs": [],
   "source": [
    "from sklearn.utils.class_weight import compute_class_weight"
   ]
  },
  {
   "cell_type": "code",
   "execution_count": 18,
   "metadata": {},
   "outputs": [],
   "source": [
    "# Instantiate the label encoder\n",
    "le = LabelEncoder()\n",
    "\n",
    "# Fit the label encoder to our label series\n",
    "le.fit(list(y_train_labels))\n",
    "\n",
    "# Create integer based labels Series\n",
    "y_integers = le.transform(list(y_train_labels))"
   ]
  },
  {
   "cell_type": "code",
   "execution_count": 19,
   "metadata": {},
   "outputs": [],
   "source": [
    "class_weights = compute_class_weight('balanced', np.unique(y_train_labels), y_train_labels)\n",
    "class_weights_dict = dict(zip(le.transform(list(le.classes_)), class_weights))"
   ]
  },
  {
   "cell_type": "code",
   "execution_count": 20,
   "metadata": {},
   "outputs": [],
   "source": [
    "# Parameters\n",
    "batch_size = 512\n",
    "epochs = 100\n",
    "num_classes = 10"
   ]
  },
  {
   "cell_type": "code",
   "execution_count": 30,
   "metadata": {},
   "outputs": [],
   "source": [
    "model = Sequential()\n",
    "model.add(Dense(32, activation='relu', input_shape=(320,)))\n",
    "model.add(Dense(32, activation='relu'))\n",
    "model.add(Dense(num_classes, activation='softmax'))"
   ]
  },
  {
   "cell_type": "code",
   "execution_count": 31,
   "metadata": {},
   "outputs": [
    {
     "name": "stdout",
     "output_type": "stream",
     "text": [
      "Model: \"sequential_2\"\n",
      "_________________________________________________________________\n",
      "Layer (type)                 Output Shape              Param #   \n",
      "=================================================================\n",
      "dense_5 (Dense)              (None, 32)                10272     \n",
      "_________________________________________________________________\n",
      "dense_6 (Dense)              (None, 32)                1056      \n",
      "_________________________________________________________________\n",
      "dense_7 (Dense)              (None, 10)                330       \n",
      "=================================================================\n",
      "Total params: 11,658\n",
      "Trainable params: 11,658\n",
      "Non-trainable params: 0\n",
      "_________________________________________________________________\n",
      "None\n"
     ]
    }
   ],
   "source": [
    "model.compile(loss=keras.losses.categorical_crossentropy,\n",
    "              optimizer=keras.optimizers.Adam(),\n",
    "              metrics=['accuracy'])\n",
    "print(model.summary())"
   ]
  },
  {
   "cell_type": "code",
   "execution_count": 32,
   "metadata": {},
   "outputs": [],
   "source": [
    "earlystop = EarlyStopping(monitor='val_acc', min_delta = 0.0001, patience=5, verbose=1, mode='auto')\n",
    "callbacks_list = [earlystop]"
   ]
  },
  {
   "cell_type": "code",
   "execution_count": 33,
   "metadata": {
    "scrolled": true
   },
   "outputs": [
    {
     "name": "stdout",
     "output_type": "stream",
     "text": [
      "Train on 87844 samples, validate on 1000 samples\n",
      "Epoch 1/100\n",
      "87844/87844 [==============================] - 1s 17us/step - loss: 1.8360 - acc: 0.4314 - val_loss: 1.3468 - val_acc: 0.5810\n",
      "Epoch 2/100\n",
      "87844/87844 [==============================] - 1s 10us/step - loss: 1.2002 - acc: 0.6652 - val_loss: 1.1013 - val_acc: 0.6420\n",
      "Epoch 3/100\n",
      "87844/87844 [==============================] - 1s 10us/step - loss: 1.0195 - acc: 0.7143 - val_loss: 0.9690 - val_acc: 0.6790\n",
      "Epoch 4/100\n",
      "87844/87844 [==============================] - 1s 10us/step - loss: 0.9155 - acc: 0.7407 - val_loss: 0.8811 - val_acc: 0.7200\n",
      "Epoch 5/100\n",
      "87844/87844 [==============================] - 1s 10us/step - loss: 0.8451 - acc: 0.7575 - val_loss: 0.8266 - val_acc: 0.7430\n",
      "Epoch 6/100\n",
      "87844/87844 [==============================] - 1s 11us/step - loss: 0.8007 - acc: 0.7684 - val_loss: 0.7923 - val_acc: 0.7510\n",
      "Epoch 7/100\n",
      "87844/87844 [==============================] - 1s 10us/step - loss: 0.7722 - acc: 0.7748 - val_loss: 0.7671 - val_acc: 0.7610\n",
      "Epoch 8/100\n",
      "87844/87844 [==============================] - 1s 11us/step - loss: 0.7525 - acc: 0.7801 - val_loss: 0.7520 - val_acc: 0.7780\n",
      "Epoch 9/100\n",
      "87844/87844 [==============================] - 1s 10us/step - loss: 0.7393 - acc: 0.7817 - val_loss: 0.7368 - val_acc: 0.7760\n",
      "Epoch 10/100\n",
      "87844/87844 [==============================] - 1s 10us/step - loss: 0.7299 - acc: 0.7845 - val_loss: 0.7317 - val_acc: 0.7760\n",
      "Epoch 11/100\n",
      "87844/87844 [==============================] - 1s 10us/step - loss: 0.7211 - acc: 0.7860 - val_loss: 0.7247 - val_acc: 0.7760\n",
      "Epoch 12/100\n",
      "87844/87844 [==============================] - 1s 11us/step - loss: 0.7147 - acc: 0.7883 - val_loss: 0.7179 - val_acc: 0.7790\n",
      "Epoch 13/100\n",
      "87844/87844 [==============================] - 1s 10us/step - loss: 0.7081 - acc: 0.7896 - val_loss: 0.7168 - val_acc: 0.7810\n",
      "Epoch 14/100\n",
      "87844/87844 [==============================] - 1s 10us/step - loss: 0.7029 - acc: 0.7909 - val_loss: 0.7121 - val_acc: 0.7810\n",
      "Epoch 15/100\n",
      "87844/87844 [==============================] - 1s 11us/step - loss: 0.6989 - acc: 0.7916 - val_loss: 0.7084 - val_acc: 0.7790\n",
      "Epoch 16/100\n",
      "87844/87844 [==============================] - 1s 10us/step - loss: 0.6938 - acc: 0.7922 - val_loss: 0.7067 - val_acc: 0.7830\n",
      "Epoch 17/100\n",
      "87844/87844 [==============================] - 1s 10us/step - loss: 0.6907 - acc: 0.7931 - val_loss: 0.7156 - val_acc: 0.7760\n",
      "Epoch 18/100\n",
      "87844/87844 [==============================] - 1s 10us/step - loss: 0.6868 - acc: 0.7948 - val_loss: 0.6993 - val_acc: 0.7830\n",
      "Epoch 19/100\n",
      "87844/87844 [==============================] - 1s 10us/step - loss: 0.6857 - acc: 0.7953 - val_loss: 0.7021 - val_acc: 0.7810\n",
      "Epoch 20/100\n",
      "87844/87844 [==============================] - 1s 11us/step - loss: 0.6818 - acc: 0.7964 - val_loss: 0.6980 - val_acc: 0.7820\n",
      "Epoch 21/100\n",
      "87844/87844 [==============================] - 1s 11us/step - loss: 0.6787 - acc: 0.7960 - val_loss: 0.6952 - val_acc: 0.7800\n",
      "Epoch 00021: early stopping\n"
     ]
    },
    {
     "data": {
      "text/plain": [
       "<keras.callbacks.History at 0x7ab64fc438>"
      ]
     },
     "execution_count": 33,
     "metadata": {},
     "output_type": "execute_result"
    }
   ],
   "source": [
    "model.fit(X_train, y_train, batch_size=batch_size, epochs=epochs, callbacks=callbacks_list,\n",
    "          validation_data=(X_val, y_val), class_weight = class_weights_dict, verbose=1) # "
   ]
  },
  {
   "cell_type": "code",
   "execution_count": 34,
   "metadata": {},
   "outputs": [
    {
     "name": "stdout",
     "output_type": "stream",
     "text": [
      "Val loss: 0.6951664218902588\n",
      "Val accuracy: 0.78\n"
     ]
    }
   ],
   "source": [
    "scores = model.evaluate(X_val, y_val, verbose=0)\n",
    "print('Val loss:', scores[0])\n",
    "print('Val accuracy:', scores[1])"
   ]
  },
  {
   "cell_type": "code",
   "execution_count": 35,
   "metadata": {},
   "outputs": [
    {
     "data": {
      "text/plain": [
       "array([[69,  2,  2,  2,  1,  0,  4,  3,  0,  1],\n",
       "       [ 2, 75,  6,  2,  0,  1,  2,  0,  1,  4],\n",
       "       [ 6,  5, 83,  1,  0,  1,  1,  2,  0,  3],\n",
       "       [ 8,  4,  1, 81,  0,  0,  4,  3,  0,  1],\n",
       "       [ 0,  2,  1,  1, 86,  1,  2,  2,  7,  8],\n",
       "       [ 4,  0,  1,  2,  1, 86,  3,  3,  1,  5],\n",
       "       [ 5,  2,  0,  4,  0,  3, 79,  5,  1,  2],\n",
       "       [ 1,  3,  3,  5,  0,  1,  3, 75,  4,  2],\n",
       "       [ 0,  6,  1,  0,  7,  2,  0,  3, 76,  4],\n",
       "       [ 5,  1,  2,  2,  5,  5,  2,  4, 10, 70]], dtype=int64)"
      ]
     },
     "execution_count": 35,
     "metadata": {},
     "output_type": "execute_result"
    }
   ],
   "source": [
    "y_pred = model.predict_classes(X_val)\n",
    "confusion_matrix(y_pred, y_val_labels)"
   ]
  },
  {
   "cell_type": "code",
   "execution_count": 36,
   "metadata": {},
   "outputs": [
    {
     "name": "stdout",
     "output_type": "stream",
     "text": [
      "Test loss: 0.7480816982984543\n",
      "Test accuracy: 0.775\n"
     ]
    }
   ],
   "source": [
    "test_scores = model.evaluate(X_test, y_test, verbose=0)\n",
    "print('Test loss:', test_scores[0])\n",
    "print('Test accuracy:', test_scores[1])"
   ]
  },
  {
   "cell_type": "code",
   "execution_count": 37,
   "metadata": {},
   "outputs": [
    {
     "data": {
      "text/plain": [
       "array([[80,  2,  1,  2,  1,  1,  1,  1,  2,  1],\n",
       "       [ 3, 79,  2,  1,  1,  0,  0,  4,  6,  3],\n",
       "       [ 1,  2, 79,  0,  0,  1,  1,  4,  1,  1],\n",
       "       [ 3,  1,  3, 76,  1,  1,  0,  6,  0,  1],\n",
       "       [ 1,  2,  1,  0, 81,  1,  1,  0, 13,  6],\n",
       "       [ 1,  1,  3,  8,  1, 84,  1,  3,  0,  1],\n",
       "       [ 7,  5,  5,  8,  2,  5, 86,  5,  0,  0],\n",
       "       [ 1,  3,  2,  3,  0,  4,  5, 70,  5,  3],\n",
       "       [ 1,  4,  2,  0,  7,  3,  2,  3, 63,  7],\n",
       "       [ 2,  1,  2,  2,  6,  0,  3,  4, 10, 77]], dtype=int64)"
      ]
     },
     "execution_count": 37,
     "metadata": {},
     "output_type": "execute_result"
    }
   ],
   "source": [
    "y_pred = model.predict_classes(X_test)\n",
    "confusion_matrix(y_pred, y_test_labels)"
   ]
  },
  {
   "cell_type": "code",
   "execution_count": 38,
   "metadata": {},
   "outputs": [
    {
     "name": "stdout",
     "output_type": "stream",
     "text": [
      "              precision    recall  f1-score   support\n",
      "\n",
      "           0       0.80      0.87      0.83        92\n",
      "           1       0.79      0.80      0.79        99\n",
      "           2       0.79      0.88      0.83        90\n",
      "           3       0.76      0.83      0.79        92\n",
      "           4       0.81      0.76      0.79       106\n",
      "           5       0.84      0.82      0.83       103\n",
      "           6       0.86      0.70      0.77       123\n",
      "           7       0.70      0.73      0.71        96\n",
      "           8       0.63      0.68      0.66        92\n",
      "           9       0.77      0.72      0.74       107\n",
      "\n",
      "    accuracy                           0.78      1000\n",
      "   macro avg       0.78      0.78      0.78      1000\n",
      "weighted avg       0.78      0.78      0.77      1000\n",
      "\n"
     ]
    }
   ],
   "source": [
    "print(classification_report(y_pred, y_test_labels))"
   ]
  },
  {
   "cell_type": "code",
   "execution_count": null,
   "metadata": {},
   "outputs": [],
   "source": [
    "from keras.utils.vis_utils import plot_model\n",
    "plot_model(model, to_file='model_plot feedforward.png', show_shapes=True, show_layer_names=True)"
   ]
  }
 ],
 "metadata": {
  "kernelspec": {
   "display_name": "Python 3",
   "language": "python",
   "name": "python3"
  },
  "language_info": {
   "codemirror_mode": {
    "name": "ipython",
    "version": 3
   },
   "file_extension": ".py",
   "mimetype": "text/x-python",
   "name": "python",
   "nbconvert_exporter": "python",
   "pygments_lexer": "ipython3",
   "version": "3.6.4"
  }
 },
 "nbformat": 4,
 "nbformat_minor": 2
}
