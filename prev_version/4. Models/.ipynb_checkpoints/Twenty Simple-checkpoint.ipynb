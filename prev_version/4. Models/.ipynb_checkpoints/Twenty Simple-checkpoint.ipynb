{
 "cells": [
  {
   "cell_type": "code",
   "execution_count": 1,
   "metadata": {},
   "outputs": [],
   "source": [
    "import pickle as pkl\n",
    "import numpy as np"
   ]
  },
  {
   "cell_type": "code",
   "execution_count": 2,
   "metadata": {},
   "outputs": [
    {
     "data": {
      "text/plain": [
       "array([[0.12903225, 0.        , 0.03225806, ..., 0.        , 0.        ,\n",
       "        0.        ],\n",
       "       [0.05      , 0.        , 0.        , ..., 0.        , 0.        ,\n",
       "        0.        ],\n",
       "       [0.10204082, 0.02040816, 0.02040816, ..., 0.        , 0.        ,\n",
       "        0.        ],\n",
       "       ...,\n",
       "       [0.        , 0.        , 0.        , ..., 0.00409836, 0.00819672,\n",
       "        0.04098361],\n",
       "       [0.        , 0.        , 0.        , ..., 0.        , 0.04201681,\n",
       "        0.02521008],\n",
       "       [0.        , 0.        , 0.        , ..., 0.        , 0.02272727,\n",
       "        0.04545455]], dtype=float32)"
      ]
     },
     "execution_count": 2,
     "metadata": {},
     "output_type": "execute_result"
    }
   ],
   "source": [
    "with open('Train_twenty.pkl', 'rb') as tr:\n",
    "    X_train = pkl.load(tr)\n",
    "tr.close()\n",
    "X_train"
   ]
  },
  {
   "cell_type": "code",
   "execution_count": 3,
   "metadata": {},
   "outputs": [
    {
     "data": {
      "text/plain": [
       "array([[0.01941748, 0.        , 0.        , ..., 0.00516796, 0.01808785,\n",
       "        0.02583979],\n",
       "       [0.0625    , 0.        , 0.0625    , ..., 0.        , 0.01538462,\n",
       "        0.01538462],\n",
       "       [0.09090909, 0.        , 0.        , ..., 0.        , 0.01107011,\n",
       "        0.03321033],\n",
       "       ...,\n",
       "       [0.        , 0.        , 0.        , ..., 0.        , 0.00625   ,\n",
       "        0.03125   ],\n",
       "       [0.        , 0.        , 0.        , ..., 0.        , 0.01329787,\n",
       "        0.03457447],\n",
       "       [0.01666667, 0.        , 0.00833333, ..., 0.00217391, 0.00978261,\n",
       "        0.03586956]], dtype=float32)"
      ]
     },
     "execution_count": 3,
     "metadata": {},
     "output_type": "execute_result"
    }
   ],
   "source": [
    "with open('Val_twenty.pkl', 'rb') as val:\n",
    "    X_val = pkl.load(val)\n",
    "val.close()\n",
    "X_val"
   ]
  },
  {
   "cell_type": "code",
   "execution_count": 4,
   "metadata": {},
   "outputs": [
    {
     "data": {
      "text/plain": [
       "array([[0.04761905, 0.        , 0.        , ..., 0.        , 0.02121212,\n",
       "        0.00606061],\n",
       "       [0.16666667, 0.        , 0.04166667, ..., 0.        , 0.02873563,\n",
       "        0.01724138],\n",
       "       [0.12903225, 0.        , 0.        , ..., 0.00395257, 0.01976285,\n",
       "        0.01581028],\n",
       "       ...,\n",
       "       [0.01612903, 0.        , 0.01612903, ..., 0.00425532, 0.00212766,\n",
       "        0.02340426],\n",
       "       [0.        , 0.        , 0.00555556, ..., 0.00153492, 0.01458173,\n",
       "        0.02532617],\n",
       "       [0.        , 0.        , 0.        , ..., 0.        , 0.01052632,\n",
       "        0.03157895]], dtype=float32)"
      ]
     },
     "execution_count": 4,
     "metadata": {},
     "output_type": "execute_result"
    }
   ],
   "source": [
    "with open('Test_twenty.pkl', 'rb') as test:\n",
    "    X_test = pkl.load(test)\n",
    "test.close()\n",
    "X_test"
   ]
  },
  {
   "cell_type": "code",
   "execution_count": 5,
   "metadata": {},
   "outputs": [
    {
     "data": {
      "text/plain": [
       "87719"
      ]
     },
     "execution_count": 5,
     "metadata": {},
     "output_type": "execute_result"
    }
   ],
   "source": [
    "with open('Train_labels.txt', 'r') as l:\n",
    "    train_labels = l.read().split('\\n')\n",
    "l.close()\n",
    "len(train_labels)"
   ]
  },
  {
   "cell_type": "code",
   "execution_count": 6,
   "metadata": {},
   "outputs": [
    {
     "data": {
      "text/plain": [
       "998"
      ]
     },
     "execution_count": 6,
     "metadata": {},
     "output_type": "execute_result"
    }
   ],
   "source": [
    "with open('Val_labels.txt', 'r') as v:\n",
    "    val_labels = v.read().split('\\n')\n",
    "v.close()\n",
    "len(val_labels)"
   ]
  },
  {
   "cell_type": "code",
   "execution_count": 7,
   "metadata": {},
   "outputs": [
    {
     "data": {
      "text/plain": [
       "999"
      ]
     },
     "execution_count": 7,
     "metadata": {},
     "output_type": "execute_result"
    }
   ],
   "source": [
    "with open('Test_labels.txt', 'r') as t:\n",
    "    test_labels = t.read().split('\\n')\n",
    "t.close()\n",
    "len(test_labels)"
   ]
  },
  {
   "cell_type": "code",
   "execution_count": 8,
   "metadata": {},
   "outputs": [],
   "source": [
    "from sklearn.metrics import confusion_matrix"
   ]
  },
  {
   "cell_type": "markdown",
   "metadata": {},
   "source": [
    "## BAYES"
   ]
  },
  {
   "cell_type": "code",
   "execution_count": 9,
   "metadata": {},
   "outputs": [],
   "source": [
    "from sklearn.naive_bayes import GaussianNB, MultinomialNB, ComplementNB, BernoulliNB"
   ]
  },
  {
   "cell_type": "code",
   "execution_count": 10,
   "metadata": {},
   "outputs": [
    {
     "data": {
      "text/plain": [
       "GaussianNB(priors=None, var_smoothing=1e-09)"
      ]
     },
     "execution_count": 10,
     "metadata": {},
     "output_type": "execute_result"
    }
   ],
   "source": [
    "gauss = GaussianNB()\n",
    "gauss.fit(X_train, train_labels)"
   ]
  },
  {
   "cell_type": "code",
   "execution_count": 11,
   "metadata": {},
   "outputs": [
    {
     "data": {
      "text/plain": [
       "(0.6432865731462926, 0.6276276276276276)"
      ]
     },
     "execution_count": 11,
     "metadata": {},
     "output_type": "execute_result"
    }
   ],
   "source": [
    "gauss.score(X_val, val_labels), gauss.score(X_test, test_labels)"
   ]
  },
  {
   "cell_type": "code",
   "execution_count": 46,
   "metadata": {},
   "outputs": [
    {
     "data": {
      "text/plain": [
       "array([[72,  0, 11, 16,  0,  0, 10,  4,  2,  3],\n",
       "       [ 4, 77,  2,  0,  2,  1,  2,  7,  3,  4],\n",
       "       [ 3,  7, 61,  3,  0,  0,  0,  4,  2,  0],\n",
       "       [ 1,  3,  2, 60,  1,  1,  0,  3,  0,  2],\n",
       "       [ 0,  1,  1,  1, 74,  1,  2,  0, 12,  5],\n",
       "       [ 3,  4, 13,  7, 11, 84, 43, 34, 18, 43],\n",
       "       [ 9,  2,  2,  5,  1,  6, 33,  5,  7,  2],\n",
       "       [ 6,  2,  1,  8,  0,  4,  4, 35,  8,  3],\n",
       "       [ 1,  2,  1,  0,  7,  1,  2,  2, 44,  3],\n",
       "       [ 1,  2,  6,  0,  4,  2,  4,  5,  4, 35]])"
      ]
     },
     "execution_count": 46,
     "metadata": {},
     "output_type": "execute_result"
    }
   ],
   "source": [
    "confusion_matrix(gauss.predict(X_test), test_labels)"
   ]
  },
  {
   "cell_type": "code",
   "execution_count": 12,
   "metadata": {},
   "outputs": [
    {
     "data": {
      "text/plain": [
       "0.5755755755755756"
      ]
     },
     "execution_count": 12,
     "metadata": {},
     "output_type": "execute_result"
    }
   ],
   "source": [
    "gauss.fit(X_val, val_labels)\n",
    "gauss.score(X_test, test_labels)"
   ]
  },
  {
   "cell_type": "code",
   "execution_count": 13,
   "metadata": {},
   "outputs": [
    {
     "data": {
      "text/plain": [
       "MultinomialNB(alpha=1.0, class_prior=None, fit_prior=True)"
      ]
     },
     "execution_count": 13,
     "metadata": {},
     "output_type": "execute_result"
    }
   ],
   "source": [
    "multinom = MultinomialNB()\n",
    "multinom.fit(X_train, train_labels)"
   ]
  },
  {
   "cell_type": "code",
   "execution_count": 14,
   "metadata": {},
   "outputs": [
    {
     "data": {
      "text/plain": [
       "(0.12324649298597194, 0.11411411411411411)"
      ]
     },
     "execution_count": 14,
     "metadata": {},
     "output_type": "execute_result"
    }
   ],
   "source": [
    "multinom.score(X_val, val_labels), multinom.score(X_test, test_labels)"
   ]
  },
  {
   "cell_type": "code",
   "execution_count": 15,
   "metadata": {},
   "outputs": [
    {
     "data": {
      "text/plain": [
       "0.6166166166166166"
      ]
     },
     "execution_count": 15,
     "metadata": {},
     "output_type": "execute_result"
    }
   ],
   "source": [
    "multinom.fit(X_val, val_labels)\n",
    "multinom.score(X_test, test_labels)"
   ]
  },
  {
   "cell_type": "code",
   "execution_count": 16,
   "metadata": {},
   "outputs": [
    {
     "data": {
      "text/plain": [
       "array([[72,  3,  2,  2,  0,  0,  3,  2,  0,  2],\n",
       "       [ 2, 72,  1,  0,  0,  0,  0,  2,  3,  2],\n",
       "       [ 5,  3, 66,  1,  1,  2,  3,  7,  2,  3],\n",
       "       [ 2,  4,  6, 79,  1,  4,  4,  9,  1,  4],\n",
       "       [ 2,  1,  1,  1, 76,  1,  2,  2, 10,  5],\n",
       "       [ 2,  2,  2,  1,  2, 62,  9,  3,  1,  6],\n",
       "       [ 0,  0,  0,  3,  0,  1, 18,  1,  3,  1],\n",
       "       [ 7,  4,  5,  5,  2,  5,  9, 40,  2,  2],\n",
       "       [ 1,  5,  4,  2,  8,  6, 13, 12, 67, 11],\n",
       "       [ 7,  6, 13,  6, 10, 19, 39, 21, 11, 64]])"
      ]
     },
     "execution_count": 16,
     "metadata": {},
     "output_type": "execute_result"
    }
   ],
   "source": [
    "confusion_matrix(multinom.predict(X_test), test_labels)"
   ]
  },
  {
   "cell_type": "code",
   "execution_count": 17,
   "metadata": {},
   "outputs": [
    {
     "data": {
      "text/plain": [
       "ComplementNB(alpha=1.0, class_prior=None, fit_prior=True, norm=False)"
      ]
     },
     "execution_count": 17,
     "metadata": {},
     "output_type": "execute_result"
    }
   ],
   "source": [
    "comp = ComplementNB()\n",
    "comp.fit(X_train, train_labels)"
   ]
  },
  {
   "cell_type": "code",
   "execution_count": 18,
   "metadata": {},
   "outputs": [
    {
     "data": {
      "text/plain": [
       "(0.5340681362725451, 0.5325325325325325)"
      ]
     },
     "execution_count": 18,
     "metadata": {},
     "output_type": "execute_result"
    }
   ],
   "source": [
    "comp.score(X_val, val_labels), comp.score(X_test, test_labels)"
   ]
  },
  {
   "cell_type": "code",
   "execution_count": 19,
   "metadata": {},
   "outputs": [
    {
     "data": {
      "text/plain": [
       "0.6126126126126126"
      ]
     },
     "execution_count": 19,
     "metadata": {},
     "output_type": "execute_result"
    }
   ],
   "source": [
    "comp.fit(X_val, val_labels).score(X_test, test_labels)"
   ]
  },
  {
   "cell_type": "code",
   "execution_count": 20,
   "metadata": {},
   "outputs": [
    {
     "data": {
      "text/plain": [
       "BernoulliNB(alpha=1.0, binarize=0.0, class_prior=None, fit_prior=True)"
      ]
     },
     "execution_count": 20,
     "metadata": {},
     "output_type": "execute_result"
    }
   ],
   "source": [
    "bern = BernoulliNB()\n",
    "bern.fit(X_train, train_labels)"
   ]
  },
  {
   "cell_type": "code",
   "execution_count": 21,
   "metadata": {},
   "outputs": [
    {
     "data": {
      "text/plain": [
       "(0.48697394789579157, 0.4694694694694695)"
      ]
     },
     "execution_count": 21,
     "metadata": {},
     "output_type": "execute_result"
    }
   ],
   "source": [
    "bern.score(X_val, val_labels), bern.score(X_test, test_labels)"
   ]
  },
  {
   "cell_type": "code",
   "execution_count": 22,
   "metadata": {},
   "outputs": [
    {
     "data": {
      "text/plain": [
       "0.5155155155155156"
      ]
     },
     "execution_count": 22,
     "metadata": {},
     "output_type": "execute_result"
    }
   ],
   "source": [
    "bern.fit(X_val, val_labels).score(X_test, test_labels)"
   ]
  },
  {
   "cell_type": "markdown",
   "metadata": {},
   "source": [
    "## SVM"
   ]
  },
  {
   "cell_type": "code",
   "execution_count": 23,
   "metadata": {},
   "outputs": [],
   "source": [
    "from sklearn.svm import LinearSVC"
   ]
  },
  {
   "cell_type": "code",
   "execution_count": 24,
   "metadata": {},
   "outputs": [
    {
     "data": {
      "text/plain": [
       "LinearSVC(C=1.0, class_weight=None, dual=True, fit_intercept=True,\n",
       "     intercept_scaling=1, loss='squared_hinge', max_iter=1000,\n",
       "     multi_class='ovr', penalty='l2', random_state=0, tol=0.0001,\n",
       "     verbose=0)"
      ]
     },
     "execution_count": 24,
     "metadata": {},
     "output_type": "execute_result"
    }
   ],
   "source": [
    "lsvc = LinearSVC(random_state=0, tol=1e-4)\n",
    "lsvc.fit(X_train, train_labels)"
   ]
  },
  {
   "cell_type": "code",
   "execution_count": 25,
   "metadata": {},
   "outputs": [
    {
     "data": {
      "text/plain": [
       "(0.5370741482965932, 0.5405405405405406)"
      ]
     },
     "execution_count": 25,
     "metadata": {},
     "output_type": "execute_result"
    }
   ],
   "source": [
    "lsvc.score(X_val, val_labels), lsvc.score(X_test, test_labels)"
   ]
  },
  {
   "cell_type": "code",
   "execution_count": 26,
   "metadata": {},
   "outputs": [
    {
     "data": {
      "text/plain": [
       "0.6506506506506506"
      ]
     },
     "execution_count": 26,
     "metadata": {},
     "output_type": "execute_result"
    }
   ],
   "source": [
    "lsvc.fit(X_val, val_labels).score(X_test, test_labels)"
   ]
  },
  {
   "cell_type": "code",
   "execution_count": 47,
   "metadata": {},
   "outputs": [
    {
     "data": {
      "text/plain": [
       "array([[73,  3,  2,  2,  0,  0,  5,  4,  0,  3],\n",
       "       [ 3, 74,  2,  0,  1,  0,  0,  3,  3,  3],\n",
       "       [ 6,  5, 73,  1,  2,  3,  8,  9,  4,  6],\n",
       "       [ 2,  5,  4, 79,  0,  3,  4,  7,  1,  2],\n",
       "       [ 2,  2,  1,  1, 83,  1,  3,  2, 12,  5],\n",
       "       [ 1,  1,  3,  1,  2, 67,  8,  6,  2, 10],\n",
       "       [ 3,  0,  1,  5,  2,  6, 37,  6,  6,  5],\n",
       "       [ 7,  4,  6,  5,  2,  6, 14, 47,  3,  3],\n",
       "       [ 2,  3,  1,  1,  3,  5,  7,  7, 61,  7],\n",
       "       [ 1,  3,  7,  5,  5,  9, 14,  8,  8, 56]])"
      ]
     },
     "execution_count": 47,
     "metadata": {},
     "output_type": "execute_result"
    }
   ],
   "source": [
    "confusion_matrix(lsvc.predict(X_test), test_labels)"
   ]
  },
  {
   "cell_type": "markdown",
   "metadata": {},
   "source": [
    "## K nearest"
   ]
  },
  {
   "cell_type": "code",
   "execution_count": 27,
   "metadata": {},
   "outputs": [],
   "source": [
    "from sklearn.neighbors import KNeighborsClassifier"
   ]
  },
  {
   "cell_type": "code",
   "execution_count": 28,
   "metadata": {},
   "outputs": [
    {
     "data": {
      "text/plain": [
       "KNeighborsClassifier(algorithm='auto', leaf_size=30, metric='minkowski',\n",
       "           metric_params=None, n_jobs=None, n_neighbors=5, p=2,\n",
       "           weights='uniform')"
      ]
     },
     "execution_count": 28,
     "metadata": {},
     "output_type": "execute_result"
    }
   ],
   "source": [
    "kn = KNeighborsClassifier()\n",
    "kn.fit(X_train, train_labels)"
   ]
  },
  {
   "cell_type": "code",
   "execution_count": 29,
   "metadata": {},
   "outputs": [
    {
     "data": {
      "text/plain": [
       "(0.5470941883767535, 0.5635635635635635)"
      ]
     },
     "execution_count": 29,
     "metadata": {},
     "output_type": "execute_result"
    }
   ],
   "source": [
    "kn.score(X_val, val_labels), kn.score(X_test, test_labels)"
   ]
  },
  {
   "cell_type": "code",
   "execution_count": 30,
   "metadata": {},
   "outputs": [
    {
     "data": {
      "text/plain": [
       "0.5895895895895896"
      ]
     },
     "execution_count": 30,
     "metadata": {},
     "output_type": "execute_result"
    }
   ],
   "source": [
    "kn.fit(X_val, val_labels).score(X_test, test_labels)"
   ]
  },
  {
   "cell_type": "markdown",
   "metadata": {},
   "source": [
    "## Ensembles"
   ]
  },
  {
   "cell_type": "code",
   "execution_count": 39,
   "metadata": {},
   "outputs": [],
   "source": [
    "from sklearn.ensemble import RandomForestClassifier, VotingClassifier"
   ]
  },
  {
   "cell_type": "code",
   "execution_count": 36,
   "metadata": {},
   "outputs": [
    {
     "data": {
      "text/plain": [
       "RandomForestClassifier(bootstrap=True, class_weight=None, criterion='gini',\n",
       "            max_depth=None, max_features='auto', max_leaf_nodes=None,\n",
       "            min_impurity_decrease=0.0, min_impurity_split=None,\n",
       "            min_samples_leaf=1, min_samples_split=2,\n",
       "            min_weight_fraction_leaf=0.0, n_estimators=100, n_jobs=None,\n",
       "            oob_score=False, random_state=None, verbose=0,\n",
       "            warm_start=False)"
      ]
     },
     "execution_count": 36,
     "metadata": {},
     "output_type": "execute_result"
    }
   ],
   "source": [
    "rfc = RandomForestClassifier(n_estimators = 100)\n",
    "rfc.fit(X_train, train_labels)"
   ]
  },
  {
   "cell_type": "code",
   "execution_count": 37,
   "metadata": {},
   "outputs": [
    {
     "data": {
      "text/plain": [
       "(0.6092184368737475, 0.5955955955955956)"
      ]
     },
     "execution_count": 37,
     "metadata": {},
     "output_type": "execute_result"
    }
   ],
   "source": [
    "rfc.score(X_val, val_labels), rfc.score(X_test, test_labels)"
   ]
  },
  {
   "cell_type": "code",
   "execution_count": 38,
   "metadata": {},
   "outputs": [
    {
     "data": {
      "text/plain": [
       "0.6506506506506506"
      ]
     },
     "execution_count": 38,
     "metadata": {},
     "output_type": "execute_result"
    }
   ],
   "source": [
    "rfc.fit(X_val, val_labels).score(X_test, test_labels)"
   ]
  },
  {
   "cell_type": "code",
   "execution_count": 41,
   "metadata": {},
   "outputs": [],
   "source": [
    "cl1 = GaussianNB()\n",
    "cl2 = LinearSVC()\n",
    "cl3 = RandomForestClassifier(n_estimators = 100)"
   ]
  },
  {
   "cell_type": "code",
   "execution_count": 42,
   "metadata": {},
   "outputs": [],
   "source": [
    "vt = VotingClassifier(estimators = [('nb', cl1), ('svc', cl2), ('rfc', cl3)], voting='hard')"
   ]
  },
  {
   "cell_type": "code",
   "execution_count": 43,
   "metadata": {},
   "outputs": [
    {
     "data": {
      "text/plain": [
       "VotingClassifier(estimators=[('nb', GaussianNB(priors=None, var_smoothing=1e-09)), ('svc', LinearSVC(C=1.0, class_weight=None, dual=True, fit_intercept=True,\n",
       "     intercept_scaling=1, loss='squared_hinge', max_iter=1000,\n",
       "     multi_class='ovr', penalty='l2', random_state=None, tol=0.0001,\n",
       "     verbose=0)), ('rfc', R...obs=None,\n",
       "            oob_score=False, random_state=None, verbose=0,\n",
       "            warm_start=False))],\n",
       "         flatten_transform=None, n_jobs=None, voting='hard', weights=None)"
      ]
     },
     "execution_count": 43,
     "metadata": {},
     "output_type": "execute_result"
    }
   ],
   "source": [
    "vt.fit(X_train, train_labels)"
   ]
  },
  {
   "cell_type": "code",
   "execution_count": 44,
   "metadata": {},
   "outputs": [
    {
     "data": {
      "text/plain": [
       "(0.6022044088176353, 0.6016016016016016)"
      ]
     },
     "execution_count": 44,
     "metadata": {},
     "output_type": "execute_result"
    }
   ],
   "source": [
    "vt.score(X_val, val_labels), vt.score(X_test, test_labels)"
   ]
  },
  {
   "cell_type": "code",
   "execution_count": 45,
   "metadata": {},
   "outputs": [
    {
     "data": {
      "text/plain": [
       "0.6496496496496497"
      ]
     },
     "execution_count": 45,
     "metadata": {},
     "output_type": "execute_result"
    }
   ],
   "source": [
    "vt.fit(X_val, val_labels).score(X_test, test_labels)"
   ]
  },
  {
   "cell_type": "code",
   "execution_count": null,
   "metadata": {},
   "outputs": [],
   "source": []
  }
 ],
 "metadata": {
  "kernelspec": {
   "display_name": "Python 3",
   "language": "python",
   "name": "python3"
  },
  "language_info": {
   "codemirror_mode": {
    "name": "ipython",
    "version": 3
   },
   "file_extension": ".py",
   "mimetype": "text/x-python",
   "name": "python",
   "nbconvert_exporter": "python",
   "pygments_lexer": "ipython3",
   "version": "3.6.5"
  }
 },
 "nbformat": 4,
 "nbformat_minor": 2
}
