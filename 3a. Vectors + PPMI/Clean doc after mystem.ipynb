{
 "cells": [
  {
   "cell_type": "code",
   "execution_count": 1,
   "metadata": {},
   "outputs": [],
   "source": [
    "def clean_document(docname): #if needed\n",
    "    import string\n",
    "    exclude = set(string.punctuation)\n",
    "    with open(docname + '_lemmas.txt','r',encoding='utf-8') as l:\n",
    "        lemmas = l.read().split('\\n')\n",
    "    l.close()\n",
    "\n",
    "    lemmas = [''.join(ch for ch in l if ch not in exclude) for l in lemmas]\n",
    "    if not lemmas[-1]:\n",
    "        lemmas = lemmas[:-1]\n",
    "    \n",
    "    empty = [i for i,x in enumerate(lemmas) if not x][::-1] # есть ли пустые элементы после mystem ?\n",
    "    \n",
    "    if empty: # если есть\n",
    "        lemmas = [l for l in lemmas if l]\n",
    "        with open(docname + '_labels.txt', 'r', encoding='utf-8') as l: #\n",
    "            labels = l.read().split('\\n')\n",
    "        l.close()\n",
    "        for i in empty:\n",
    "            del labels[i]\n",
    "        with open(docname + '_labels.txt', 'w', encoding='utf-8') as l:\n",
    "            l.write('\\n'.join(labels))\n",
    "        l.close()\n",
    "        print('Len(labels): ' + str(len(labels)))\n",
    "\n",
    "    with open(docname + '_lemmas.txt', 'w', encoding='utf-8') as l:\n",
    "        l.write('\\n'.join(lemmas))\n",
    "    l.close()\n",
    "    \n",
    "    print('Len(lemmas): ' + str(len(lemmas)))\n",
    "    \n",
    "    return(lemmas[0])"
   ]
  },
  {
   "cell_type": "code",
   "execution_count": 2,
   "metadata": {},
   "outputs": [
    {
     "name": "stdout",
     "output_type": "stream",
     "text": [
      "Len(labels): 87719\n",
      "Len(lemmas): 87719\n"
     ]
    },
    {
     "data": {
      "text/plain": [
       "'очень советовать прочитывать манга создатель сериал упускать экранизация очень большой интересный часть история который следовать победа шишио правда кусочек история показывать второй ове это лишь маленький кусочек весь история рассказывать манга'"
      ]
     },
     "execution_count": 2,
     "metadata": {},
     "output_type": "execute_result"
    }
   ],
   "source": [
    "clean_document('Train')"
   ]
  },
  {
   "cell_type": "code",
   "execution_count": 3,
   "metadata": {},
   "outputs": [
    {
     "name": "stdout",
     "output_type": "stream",
     "text": [
      "Len(labels): 999\n",
      "Len(lemmas): 999\n"
     ]
    },
    {
     "data": {
      "text/plain": [
       "'ус относительно товарищ относительно аниме оценивать мой критерий делать озабоченный лицо год просто позорный вообще ибо редко какой аниме подгонять формула идеальный продукт ладно год выходить отнюдь плохой шедевр подарить двухразовый годнота количество одноразовый годнота примерно откровенный хлам знать смотреть рано дропадать'"
      ]
     },
     "execution_count": 3,
     "metadata": {},
     "output_type": "execute_result"
    }
   ],
   "source": [
    "clean_document('Test')"
   ]
  },
  {
   "cell_type": "code",
   "execution_count": 4,
   "metadata": {},
   "outputs": [
    {
     "name": "stdout",
     "output_type": "stream",
     "text": [
      "Len(labels): 998\n",
      "Len(lemmas): 998\n"
     ]
    },
    {
     "data": {
      "text/plain": [
       "'паренек имя щина жить город эталон кодовый название № щина два год растить высокий элита обитать эксклюзивный район такой важный персона вообще жизнь прекрасный спокойный год ночь свой летие главный герой встречать молодой человек имя незуми сбегать зона повышенный безопасность привносить жизнь щина серьезный перемена помощник режиссер кендзи нагасаки впервые жизнь попытаться самостоятельно снимать целый сериал дружно посмотреть получаться затея подхват кендзи сценарист один научный рейлган паприка агент паранойя сейщи минак это весомый аргумент анимация взваливать судить трейлер задача сделать красиво студия справляться верить хороший надеяться отчетливо прозвучать этот самый трейлер яой подтекст это лишь легкий недопонимание наш сторона начало показ июль пятница'"
      ]
     },
     "execution_count": 4,
     "metadata": {},
     "output_type": "execute_result"
    }
   ],
   "source": [
    "clean_document('Val')"
   ]
  },
  {
   "cell_type": "code",
   "execution_count": null,
   "metadata": {},
   "outputs": [],
   "source": []
  }
 ],
 "metadata": {
  "kernelspec": {
   "display_name": "Python 3",
   "language": "python",
   "name": "python3"
  },
  "language_info": {
   "codemirror_mode": {
    "name": "ipython",
    "version": 3
   },
   "file_extension": ".py",
   "mimetype": "text/x-python",
   "name": "python",
   "nbconvert_exporter": "python",
   "pygments_lexer": "ipython3",
   "version": "3.6.5"
  }
 },
 "nbformat": 4,
 "nbformat_minor": 2
}
