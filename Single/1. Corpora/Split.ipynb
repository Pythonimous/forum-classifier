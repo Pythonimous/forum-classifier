{
 "cells": [
  {
   "cell_type": "code",
   "execution_count": 1,
   "metadata": {},
   "outputs": [],
   "source": [
    "from random import sample"
   ]
  },
  {
   "cell_type": "code",
   "execution_count": 2,
   "metadata": {},
   "outputs": [
    {
     "data": {
      "text/plain": [
       "3213"
      ]
     },
     "execution_count": 2,
     "metadata": {},
     "output_type": "execute_result"
    }
   ],
   "source": [
    "with open('Anime.txt', 'r', encoding='utf-8') as i:\n",
    "    anime = i.read().split('\\nNEWTEXT\\n')\n",
    "i.close()\n",
    "len(anime)"
   ]
  },
  {
   "cell_type": "code",
   "execution_count": 3,
   "metadata": {},
   "outputs": [
    {
     "data": {
      "text/plain": [
       "3213"
      ]
     },
     "execution_count": 3,
     "metadata": {},
     "output_type": "execute_result"
    }
   ],
   "source": [
    "anime = [a for a in anime if len(a) > 150]\n",
    "anime = sample(anime, len(anime))\n",
    "len(anime)"
   ]
  },
  {
   "cell_type": "code",
   "execution_count": 4,
   "metadata": {},
   "outputs": [
    {
     "data": {
      "text/plain": [
       "'Очень советую прочесть мангу. Создатели сериала упустили в экранизации очень большую и интересную часть истории, которая следует после победы над Шишио. Правда кусочек этой истории потом показали во второй ОВЕ, но это был всего-лишь маленький кусочек из всей истории, рассказанной в манге.'"
      ]
     },
     "execution_count": 4,
     "metadata": {},
     "output_type": "execute_result"
    }
   ],
   "source": [
    "anime[0]"
   ]
  },
  {
   "cell_type": "code",
   "execution_count": 5,
   "metadata": {},
   "outputs": [],
   "source": [
    "with open('Anime.txt', 'w', encoding='utf-8') as i:\n",
    "    i.write('\\nNEWTEXT\\n'.join(anime))\n",
    "i.close()"
   ]
  },
  {
   "cell_type": "code",
   "execution_count": 6,
   "metadata": {},
   "outputs": [
    {
     "data": {
      "text/plain": [
       "2216"
      ]
     },
     "execution_count": 6,
     "metadata": {},
     "output_type": "execute_result"
    }
   ],
   "source": [
    "with open('Art.txt', 'r', encoding='utf-8') as i:\n",
    "    art = i.read().split('\\nNEWTEXT\\n')\n",
    "i.close()\n",
    "len(art)"
   ]
  },
  {
   "cell_type": "code",
   "execution_count": 7,
   "metadata": {},
   "outputs": [
    {
     "data": {
      "text/plain": [
       "1175"
      ]
     },
     "execution_count": 7,
     "metadata": {},
     "output_type": "execute_result"
    }
   ],
   "source": [
    "art = [a for a in art if len(a) > 150]\n",
    "art = sample(art, len(art))\n",
    "len(art)"
   ]
  },
  {
   "cell_type": "code",
   "execution_count": 8,
   "metadata": {},
   "outputs": [],
   "source": [
    "with open('Art.txt', 'w', encoding='utf-8') as i:\n",
    "    i.write('\\nNEWTEXT\\n'.join(art))\n",
    "i.close()"
   ]
  },
  {
   "cell_type": "code",
   "execution_count": 9,
   "metadata": {},
   "outputs": [
    {
     "data": {
      "text/plain": [
       "9999"
      ]
     },
     "execution_count": 9,
     "metadata": {},
     "output_type": "execute_result"
    }
   ],
   "source": [
    "with open('Books.txt', 'r', encoding='utf-8') as i:\n",
    "    books = i.read().split('\\nNEWTEXT\\n')\n",
    "i.close()\n",
    "len(books)"
   ]
  },
  {
   "cell_type": "code",
   "execution_count": 10,
   "metadata": {},
   "outputs": [
    {
     "data": {
      "text/plain": [
       "9999"
      ]
     },
     "execution_count": 10,
     "metadata": {},
     "output_type": "execute_result"
    }
   ],
   "source": [
    "books = [b for b in books if len(b) > 150]\n",
    "books = sample(books, len(books))\n",
    "len(books)"
   ]
  },
  {
   "cell_type": "code",
   "execution_count": 11,
   "metadata": {},
   "outputs": [],
   "source": [
    "with open('Books.txt', 'w', encoding='utf-8') as i:\n",
    "    i.write('\\nNEWTEXT\\n'.join(books))\n",
    "i.close()"
   ]
  },
  {
   "cell_type": "code",
   "execution_count": 12,
   "metadata": {},
   "outputs": [
    {
     "data": {
      "text/plain": [
       "5862"
      ]
     },
     "execution_count": 12,
     "metadata": {},
     "output_type": "execute_result"
    }
   ],
   "source": [
    "with open('Films.txt', 'r', encoding='utf-8') as i:\n",
    "    films = i.read().split('\\nNEWTEXT\\n')\n",
    "i.close()\n",
    "len(films)"
   ]
  },
  {
   "cell_type": "code",
   "execution_count": 13,
   "metadata": {},
   "outputs": [
    {
     "data": {
      "text/plain": [
       "5862"
      ]
     },
     "execution_count": 13,
     "metadata": {},
     "output_type": "execute_result"
    }
   ],
   "source": [
    "films = [f for f in films if len(f) > 150]\n",
    "films = sample(films, len(films))\n",
    "len(films)"
   ]
  },
  {
   "cell_type": "code",
   "execution_count": 14,
   "metadata": {},
   "outputs": [],
   "source": [
    "with open('Films.txt', 'w', encoding='utf-8') as i:\n",
    "    i.write('\\nNEWTEXT\\n'.join(films))\n",
    "i.close()"
   ]
  },
  {
   "cell_type": "code",
   "execution_count": 15,
   "metadata": {},
   "outputs": [
    {
     "data": {
      "text/plain": [
       "5866"
      ]
     },
     "execution_count": 15,
     "metadata": {},
     "output_type": "execute_result"
    }
   ],
   "source": [
    "with open('Food.txt', 'r', encoding='utf-8') as i:\n",
    "    food = i.read().split('\\nNEWTEXT\\n')\n",
    "i.close()\n",
    "len(food)"
   ]
  },
  {
   "cell_type": "code",
   "execution_count": 16,
   "metadata": {},
   "outputs": [
    {
     "data": {
      "text/plain": [
       "5866"
      ]
     },
     "execution_count": 16,
     "metadata": {},
     "output_type": "execute_result"
    }
   ],
   "source": [
    "food = [f for f in food if len(f) > 150]\n",
    "food = sample(food, len(food))\n",
    "len(food)"
   ]
  },
  {
   "cell_type": "code",
   "execution_count": 17,
   "metadata": {},
   "outputs": [],
   "source": [
    "with open('Food.txt', 'w', encoding='utf-8') as i:\n",
    "    i.write('\\nNEWTEXT\\n'.join(food))\n",
    "i.close()"
   ]
  },
  {
   "cell_type": "code",
   "execution_count": 18,
   "metadata": {
    "scrolled": true
   },
   "outputs": [
    {
     "data": {
      "text/plain": [
       "23234"
      ]
     },
     "execution_count": 18,
     "metadata": {},
     "output_type": "execute_result"
    }
   ],
   "source": [
    "with open('Football.txt', 'r', encoding='utf-8') as i:\n",
    "    football = i.read().split('\\nNEWTEXT\\n')\n",
    "i.close()\n",
    "len(football)"
   ]
  },
  {
   "cell_type": "code",
   "execution_count": 19,
   "metadata": {},
   "outputs": [
    {
     "data": {
      "text/plain": [
       "23234"
      ]
     },
     "execution_count": 19,
     "metadata": {},
     "output_type": "execute_result"
    }
   ],
   "source": [
    "football = [f for f in football if len(f) > 150]\n",
    "football = sample(football, len(football))\n",
    "len(football)"
   ]
  },
  {
   "cell_type": "code",
   "execution_count": 20,
   "metadata": {},
   "outputs": [],
   "source": [
    "with open('Football.txt', 'w', encoding='utf-8') as i:\n",
    "    i.write('\\nNEWTEXT\\n'.join(football))\n",
    "i.close()"
   ]
  },
  {
   "cell_type": "code",
   "execution_count": 21,
   "metadata": {},
   "outputs": [
    {
     "data": {
      "text/plain": [
       "29550"
      ]
     },
     "execution_count": 21,
     "metadata": {},
     "output_type": "execute_result"
    }
   ],
   "source": [
    "with open('Games.txt', 'r', encoding='utf-8') as i:\n",
    "    games = i.read().split('\\nNEWTEXT\\n')\n",
    "i.close()\n",
    "len(games)"
   ]
  },
  {
   "cell_type": "code",
   "execution_count": 22,
   "metadata": {},
   "outputs": [
    {
     "data": {
      "text/plain": [
       "29550"
      ]
     },
     "execution_count": 22,
     "metadata": {},
     "output_type": "execute_result"
    }
   ],
   "source": [
    "games = [g for g in games if len(g) > 150]\n",
    "games = sample(games, len(games))\n",
    "len(games)"
   ]
  },
  {
   "cell_type": "code",
   "execution_count": 23,
   "metadata": {},
   "outputs": [],
   "source": [
    "with open('Games.txt', 'w', encoding='utf-8') as i:\n",
    "    i.write('\\nNEWTEXT\\n'.join(games))\n",
    "i.close()"
   ]
  },
  {
   "cell_type": "code",
   "execution_count": 24,
   "metadata": {},
   "outputs": [
    {
     "data": {
      "text/plain": [
       "1057"
      ]
     },
     "execution_count": 24,
     "metadata": {},
     "output_type": "execute_result"
    }
   ],
   "source": [
    "with open('Nature.txt', 'r', encoding='utf-8') as i:\n",
    "    nature = i.read().split('\\nNEWTEXT\\n')\n",
    "i.close()\n",
    "len(nature)"
   ]
  },
  {
   "cell_type": "code",
   "execution_count": 25,
   "metadata": {},
   "outputs": [
    {
     "data": {
      "text/plain": [
       "1057"
      ]
     },
     "execution_count": 25,
     "metadata": {},
     "output_type": "execute_result"
    }
   ],
   "source": [
    "nature = [n for n in nature if len(n) > 150]\n",
    "nature = sample(nature, len(nature))\n",
    "len(nature)"
   ]
  },
  {
   "cell_type": "code",
   "execution_count": 26,
   "metadata": {},
   "outputs": [],
   "source": [
    "with open('Nature.txt', 'w', encoding='utf-8') as i:\n",
    "    i.write('\\nNEWTEXT\\n'.join(nature))\n",
    "i.close()"
   ]
  },
  {
   "cell_type": "code",
   "execution_count": 27,
   "metadata": {},
   "outputs": [
    {
     "data": {
      "text/plain": [
       "21637"
      ]
     },
     "execution_count": 27,
     "metadata": {},
     "output_type": "execute_result"
    }
   ],
   "source": [
    "with open('Music.txt', 'r', encoding='utf-8') as i:\n",
    "    music = i.read().split('\\nNEWTEXT\\n')\n",
    "i.close()\n",
    "len(music)"
   ]
  },
  {
   "cell_type": "code",
   "execution_count": 28,
   "metadata": {},
   "outputs": [
    {
     "data": {
      "text/plain": [
       "7974"
      ]
     },
     "execution_count": 28,
     "metadata": {},
     "output_type": "execute_result"
    }
   ],
   "source": [
    "music = [m for m in music if len(m) > 150]\n",
    "music = sample(music, len(music))\n",
    "len(music)"
   ]
  },
  {
   "cell_type": "code",
   "execution_count": 29,
   "metadata": {},
   "outputs": [],
   "source": [
    "with open('Music.txt', 'w', encoding='utf-8') as i:\n",
    "    i.write('\\nNEWTEXT\\n'.join(music))\n",
    "i.close()"
   ]
  },
  {
   "cell_type": "code",
   "execution_count": 30,
   "metadata": {},
   "outputs": [
    {
     "data": {
      "text/plain": [
       "3137"
      ]
     },
     "execution_count": 30,
     "metadata": {},
     "output_type": "execute_result"
    }
   ],
   "source": [
    "with open('Travel.txt', 'r', encoding='utf-8') as i:\n",
    "    travel = i.read().split('\\nNEWTEXT\\n')\n",
    "i.close()\n",
    "len(travel)"
   ]
  },
  {
   "cell_type": "code",
   "execution_count": 31,
   "metadata": {},
   "outputs": [
    {
     "data": {
      "text/plain": [
       "1914"
      ]
     },
     "execution_count": 31,
     "metadata": {},
     "output_type": "execute_result"
    }
   ],
   "source": [
    "travel = [t for t in travel if len(t) > 150]\n",
    "travel = sample(travel, len(travel))\n",
    "len(travel)"
   ]
  },
  {
   "cell_type": "code",
   "execution_count": 32,
   "metadata": {},
   "outputs": [],
   "source": [
    "with open('Travel.txt', 'w', encoding='utf-8') as i:\n",
    "    i.write('\\nNEWTEXT\\n'.join(travel))\n",
    "i.close()"
   ]
  },
  {
   "cell_type": "code",
   "execution_count": 33,
   "metadata": {},
   "outputs": [],
   "source": [
    "training_texts = anime[:-200] + art[:-200] + books[:-200] + films[:-200] + food[:-200] + football[:-200] + games[:-200] + music[:-200] + nature[:-200] + travel[:-200]"
   ]
  },
  {
   "cell_type": "code",
   "execution_count": 34,
   "metadata": {},
   "outputs": [],
   "source": [
    "training_labels = ['Anime']*len(anime[:-200]) + ['Art']*len(art[:-200]) + ['Books']*len(books[:-200]) + ['Films']*len(films[:-200]) + ['Food']*len(food[:-200]) + ['Football']*len(football[:-200]) + ['Games']*len(games[:-200]) + ['Music']*len(music[:-200]) + ['Nature']*len(nature[:-200]) + ['Travel']*len(travel[:-200])"
   ]
  },
  {
   "cell_type": "code",
   "execution_count": 35,
   "metadata": {},
   "outputs": [],
   "source": [
    "validation_texts = anime[-200:-100] + art[-200:-100] + books[-200:-100] + films[-200:-100] + food[-200:-100] + football[-200:-100] + games[-200:-100] + music[-200:-100] + nature[-200:-100] + travel[-200:-100]"
   ]
  },
  {
   "cell_type": "code",
   "execution_count": 36,
   "metadata": {},
   "outputs": [],
   "source": [
    "validation_labels = ['Anime']*len(anime[-200:-100]) + ['Art']*len(art[-200:-100]) + ['Books']*len(books[-200:-100]) + ['Films']*len(films[-200:-100]) + ['Food']*len(food[-200:-100]) + ['Football']*len(football[-200:-100]) + ['Games']*len(games[-200:-100]) + ['Music']*len(music[-200:-100]) + ['Nature']*len(nature[-200:-100]) + ['Travel']*len(travel[-200:-100])"
   ]
  },
  {
   "cell_type": "code",
   "execution_count": 37,
   "metadata": {},
   "outputs": [],
   "source": [
    "test_texts = anime[-100:] + art[-100:] + books[-100:] + films[-100:] + food[-100:] + football[-100:] + games[-100:] + music[-100:] + nature[-100:] + travel[-100:]"
   ]
  },
  {
   "cell_type": "code",
   "execution_count": 38,
   "metadata": {},
   "outputs": [],
   "source": [
    "test_labels = ['Anime']*len(anime[-100:]) + ['Art']*len(art[-100:]) + ['Books']*len(books[-100:]) + ['Films']*len(films[-100:]) + ['Food']*len(food[-100:]) + ['Football']*len(football[-100:]) + ['Games']*len(games[-100:]) + ['Music']*len(music[-100:]) + ['Nature']*len(nature[-100:]) + ['Travel']*len(travel[-100:])"
   ]
  },
  {
   "cell_type": "code",
   "execution_count": 39,
   "metadata": {},
   "outputs": [
    {
     "data": {
      "text/plain": [
       "422.6789878888839"
      ]
     },
     "execution_count": 39,
     "metadata": {},
     "output_type": "execute_result"
    }
   ],
   "source": [
    "sum([len(t) for t in training_texts] + [len(t) for t in test_texts])/ (len(training_texts) + len(test_texts))"
   ]
  },
  {
   "cell_type": "code",
   "execution_count": 40,
   "metadata": {},
   "outputs": [],
   "source": [
    "with open('Train_corpus.txt', 'w', encoding='utf-8') as c:\n",
    "    c.write('\\nNEWTEXT\\n'.join(training_texts))\n",
    "c.close()"
   ]
  },
  {
   "cell_type": "code",
   "execution_count": 41,
   "metadata": {},
   "outputs": [],
   "source": [
    "with open('Train_labels.txt', 'w', encoding='utf-8') as l:\n",
    "    l.write('\\n'.join(training_labels))\n",
    "l.close()"
   ]
  },
  {
   "cell_type": "code",
   "execution_count": 42,
   "metadata": {},
   "outputs": [],
   "source": [
    "with open('Test_corpus.txt', 'w', encoding='utf-8') as c:\n",
    "    c.write('\\nNEWTEXT\\n'.join(test_texts))\n",
    "c.close()"
   ]
  },
  {
   "cell_type": "code",
   "execution_count": 43,
   "metadata": {},
   "outputs": [],
   "source": [
    "with open('Test_labels.txt', 'w', encoding='utf-8') as l:\n",
    "    l.write('\\n'.join(test_labels))\n",
    "l.close()"
   ]
  },
  {
   "cell_type": "code",
   "execution_count": 44,
   "metadata": {},
   "outputs": [],
   "source": [
    "with open('Val_corpus.txt', 'w', encoding='utf-8') as c:\n",
    "    c.write('\\nNEWTEXT\\n'.join(validation_texts))\n",
    "c.close()"
   ]
  },
  {
   "cell_type": "code",
   "execution_count": 45,
   "metadata": {},
   "outputs": [],
   "source": [
    "with open('Val_labels.txt', 'w', encoding='utf-8') as l:\n",
    "    l.write('\\n'.join(validation_labels))\n",
    "l.close()"
   ]
  },
  {
   "cell_type": "code",
   "execution_count": 46,
   "metadata": {},
   "outputs": [
    {
     "data": {
      "text/plain": [
       "87844"
      ]
     },
     "execution_count": 46,
     "metadata": {},
     "output_type": "execute_result"
    }
   ],
   "source": [
    "len(training_texts)"
   ]
  },
  {
   "cell_type": "code",
   "execution_count": 47,
   "metadata": {},
   "outputs": [],
   "source": [
    "lens = [len(i) - 200 for i in [anime, art, books, films, food, football, games, nature, music, travel]]"
   ]
  },
  {
   "cell_type": "code",
   "execution_count": 48,
   "metadata": {},
   "outputs": [
    {
     "data": {
      "text/plain": [
       "8784.4"
      ]
     },
     "execution_count": 48,
     "metadata": {},
     "output_type": "execute_result"
    }
   ],
   "source": [
    "sum(lens) / len(lens)"
   ]
  },
  {
   "cell_type": "code",
   "execution_count": 49,
   "metadata": {},
   "outputs": [],
   "source": [
    "discrepancy = [(sum(lens) / len(lens)) / i for i in lens]"
   ]
  },
  {
   "cell_type": "code",
   "execution_count": 51,
   "metadata": {},
   "outputs": [
    {
     "data": {
      "text/plain": [
       "[2.915499502157318,\n",
       " 9.009641025641026,\n",
       " 0.896458822328809,\n",
       " 1.5514659131049098,\n",
       " 1.5503706318390398,\n",
       " 0.3813666753494834,\n",
       " 0.29929812606473594,\n",
       " 10.250175029171528,\n",
       " 1.1299717005402623,\n",
       " 5.125087514585764]"
      ]
     },
     "execution_count": 51,
     "metadata": {},
     "output_type": "execute_result"
    }
   ],
   "source": [
    "discrepancy"
   ]
  },
  {
   "cell_type": "code",
   "execution_count": 52,
   "metadata": {},
   "outputs": [],
   "source": [
    "shares = [0.1 * i for i in discrepancy]"
   ]
  },
  {
   "cell_type": "code",
   "execution_count": 53,
   "metadata": {},
   "outputs": [
    {
     "data": {
      "text/plain": [
       "[0.2915499502157318,\n",
       " 0.9009641025641026,\n",
       " 0.0896458822328809,\n",
       " 0.155146591310491,\n",
       " 0.15503706318390398,\n",
       " 0.03813666753494834,\n",
       " 0.029929812606473594,\n",
       " 1.0250175029171529,\n",
       " 0.11299717005402624,\n",
       " 0.5125087514585764]"
      ]
     },
     "execution_count": 53,
     "metadata": {},
     "output_type": "execute_result"
    }
   ],
   "source": [
    "shares"
   ]
  },
  {
   "cell_type": "code",
   "execution_count": null,
   "metadata": {},
   "outputs": [],
   "source": []
  }
 ],
 "metadata": {
  "kernelspec": {
   "display_name": "Python 3",
   "language": "python",
   "name": "python3"
  },
  "language_info": {
   "codemirror_mode": {
    "name": "ipython",
    "version": 3
   },
   "file_extension": ".py",
   "mimetype": "text/x-python",
   "name": "python",
   "nbconvert_exporter": "python",
   "pygments_lexer": "ipython3",
   "version": "3.6.5"
  }
 },
 "nbformat": 4,
 "nbformat_minor": 2
}
