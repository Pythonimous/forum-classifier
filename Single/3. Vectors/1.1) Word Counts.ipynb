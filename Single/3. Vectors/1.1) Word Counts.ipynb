{
 "cells": [
  {
   "cell_type": "code",
   "execution_count": 1,
   "metadata": {},
   "outputs": [],
   "source": [
    "from nltk import WordPunctTokenizer\n",
    "from tqdm import tqdm\n",
    "import numpy as np\n",
    "import pickle as pkl\n",
    "import collections"
   ]
  },
  {
   "cell_type": "code",
   "execution_count": 2,
   "metadata": {},
   "outputs": [],
   "source": [
    "tokenizer = WordPunctTokenizer()"
   ]
  },
  {
   "cell_type": "code",
   "execution_count": 3,
   "metadata": {},
   "outputs": [],
   "source": [
    "def acquire_lemmas(filename):\n",
    "    with open(filename+'.txt','r',encoding='utf-8') as l:\n",
    "        lemmas = l.read().split('\\n')\n",
    "    l.close()\n",
    "    tokens = tokenizer.tokenize_sents(lemmas)\n",
    "    return tokens"
   ]
  },
  {
   "cell_type": "code",
   "execution_count": 4,
   "metadata": {},
   "outputs": [],
   "source": [
    "train_lemmas = acquire_lemmas('Train_lemmas')"
   ]
  },
  {
   "cell_type": "code",
   "execution_count": 5,
   "metadata": {},
   "outputs": [],
   "source": [
    "with open('Train_labels.txt', 'r', encoding='utf-8') as i:\n",
    "    train_labels = i.read().split('\\n')\n",
    "i.close()"
   ]
  },
  {
   "cell_type": "code",
   "execution_count": 6,
   "metadata": {},
   "outputs": [],
   "source": [
    "def return_last(listData, x):\n",
    "    return len(listData)-listData[::-1].index(x)-1"
   ]
  },
  {
   "cell_type": "code",
   "execution_count": 7,
   "metadata": {},
   "outputs": [],
   "source": [
    "def texts(label):\n",
    "    return train_lemmas[train_labels.index(label) : return_last(train_labels, label) + 1]"
   ]
  },
  {
   "cell_type": "code",
   "execution_count": 8,
   "metadata": {},
   "outputs": [],
   "source": [
    "anime = texts('Anime')"
   ]
  },
  {
   "cell_type": "code",
   "execution_count": 9,
   "metadata": {},
   "outputs": [],
   "source": [
    "art = texts('Art')"
   ]
  },
  {
   "cell_type": "code",
   "execution_count": 10,
   "metadata": {},
   "outputs": [],
   "source": [
    "books = texts('Books')"
   ]
  },
  {
   "cell_type": "code",
   "execution_count": 11,
   "metadata": {},
   "outputs": [],
   "source": [
    "films = texts('Films')"
   ]
  },
  {
   "cell_type": "code",
   "execution_count": 12,
   "metadata": {},
   "outputs": [],
   "source": [
    "food = texts('Food')"
   ]
  },
  {
   "cell_type": "code",
   "execution_count": 13,
   "metadata": {},
   "outputs": [],
   "source": [
    "football = texts('Football')"
   ]
  },
  {
   "cell_type": "code",
   "execution_count": 14,
   "metadata": {},
   "outputs": [],
   "source": [
    "games = texts('Games')"
   ]
  },
  {
   "cell_type": "code",
   "execution_count": 15,
   "metadata": {},
   "outputs": [],
   "source": [
    "music = texts('Music')"
   ]
  },
  {
   "cell_type": "code",
   "execution_count": 16,
   "metadata": {},
   "outputs": [],
   "source": [
    "nature = texts('Nature')"
   ]
  },
  {
   "cell_type": "code",
   "execution_count": 17,
   "metadata": {},
   "outputs": [],
   "source": [
    "travel = texts('Travel')"
   ]
  },
  {
   "cell_type": "code",
   "execution_count": 18,
   "metadata": {},
   "outputs": [],
   "source": [
    "def topdocuments(corpus):\n",
    "    vocabulary = list(set(sum(corpus, [])))\n",
    "    corpus = [set(t) for t in corpus]\n",
    "    counts = {}\n",
    "    for v in vocabulary:\n",
    "        counts[v] = 0\n",
    "    for v in tqdm(vocabulary):\n",
    "        for c in corpus:\n",
    "            if v in c:\n",
    "                counts[v] += 1\n",
    "    counts = {key:val for key, val in counts.items()}\n",
    "    return counts"
   ]
  },
  {
   "cell_type": "code",
   "execution_count": 19,
   "metadata": {},
   "outputs": [
    {
     "name": "stderr",
     "output_type": "stream",
     "text": [
      "100%|██████████████████████████████████| 16822/16822 [00:03<00:00, 4776.92it/s]\n"
     ]
    }
   ],
   "source": [
    "animects = topdocuments(anime)"
   ]
  },
  {
   "cell_type": "code",
   "execution_count": 20,
   "metadata": {},
   "outputs": [
    {
     "name": "stderr",
     "output_type": "stream",
     "text": [
      "100%|█████████████████████████████████| 11460/11460 [00:00<00:00, 15680.69it/s]\n"
     ]
    }
   ],
   "source": [
    "artcts = topdocuments(art)"
   ]
  },
  {
   "cell_type": "code",
   "execution_count": 21,
   "metadata": {},
   "outputs": [
    {
     "name": "stderr",
     "output_type": "stream",
     "text": [
      "100%|███████████████████████████████████| 39987/39987 [00:44<00:00, 902.97it/s]\n"
     ]
    }
   ],
   "source": [
    "bookscts = topdocuments(books)"
   ]
  },
  {
   "cell_type": "code",
   "execution_count": 22,
   "metadata": {},
   "outputs": [
    {
     "name": "stderr",
     "output_type": "stream",
     "text": [
      "100%|██████████████████████████████████| 21919/21919 [00:11<00:00, 1978.25it/s]\n"
     ]
    }
   ],
   "source": [
    "filmscts = topdocuments(films)"
   ]
  },
  {
   "cell_type": "code",
   "execution_count": 23,
   "metadata": {},
   "outputs": [
    {
     "name": "stderr",
     "output_type": "stream",
     "text": [
      "100%|██████████████████████████████████| 23543/23543 [00:12<00:00, 1938.02it/s]\n"
     ]
    }
   ],
   "source": [
    "foodcts = topdocuments(food)"
   ]
  },
  {
   "cell_type": "code",
   "execution_count": 24,
   "metadata": {},
   "outputs": [
    {
     "name": "stderr",
     "output_type": "stream",
     "text": [
      "100%|███████████████████████████████████| 41982/41982 [02:40<00:00, 260.85it/s]\n"
     ]
    }
   ],
   "source": [
    "footballcts = topdocuments(football)"
   ]
  },
  {
   "cell_type": "code",
   "execution_count": 25,
   "metadata": {},
   "outputs": [
    {
     "name": "stderr",
     "output_type": "stream",
     "text": [
      "100%|███████████████████████████████████| 57836/57836 [03:37<00:00, 266.17it/s]\n"
     ]
    }
   ],
   "source": [
    "gamescts = topdocuments(games)"
   ]
  },
  {
   "cell_type": "code",
   "execution_count": 26,
   "metadata": {},
   "outputs": [
    {
     "name": "stderr",
     "output_type": "stream",
     "text": [
      "100%|██████████████████████████████████| 29103/29103 [00:23<00:00, 1263.86it/s]\n"
     ]
    }
   ],
   "source": [
    "musiccts = topdocuments(music)"
   ]
  },
  {
   "cell_type": "code",
   "execution_count": 28,
   "metadata": {},
   "outputs": [
    {
     "name": "stderr",
     "output_type": "stream",
     "text": [
      "100%|███████████████████████████████████| 8430/8430 [00:00<00:00, 20101.13it/s]\n"
     ]
    }
   ],
   "source": [
    "naturects = topdocuments(nature)"
   ]
  },
  {
   "cell_type": "code",
   "execution_count": 27,
   "metadata": {},
   "outputs": [
    {
     "name": "stderr",
     "output_type": "stream",
     "text": [
      "100%|██████████████████████████████████| 16213/16213 [00:01<00:00, 9121.29it/s]\n"
     ]
    }
   ],
   "source": [
    "travelcts = topdocuments(travel)"
   ]
  },
  {
   "cell_type": "code",
   "execution_count": 29,
   "metadata": {},
   "outputs": [],
   "source": [
    "all = anime + art + books + films + food + football + games + music + nature + travel"
   ]
  },
  {
   "cell_type": "code",
   "execution_count": 31,
   "metadata": {},
   "outputs": [],
   "source": [
    "allunnest = list(set(sum(all, [])))"
   ]
  },
  {
   "cell_type": "code",
   "execution_count": 32,
   "metadata": {},
   "outputs": [],
   "source": [
    "animeset = set(sum(anime, []))"
   ]
  },
  {
   "cell_type": "code",
   "execution_count": 33,
   "metadata": {},
   "outputs": [],
   "source": [
    "artset = set(sum(art, []))"
   ]
  },
  {
   "cell_type": "code",
   "execution_count": 34,
   "metadata": {},
   "outputs": [],
   "source": [
    "booksset = set(sum(books, []))"
   ]
  },
  {
   "cell_type": "code",
   "execution_count": 35,
   "metadata": {},
   "outputs": [],
   "source": [
    "filmsset = set(sum(films, []))"
   ]
  },
  {
   "cell_type": "code",
   "execution_count": 36,
   "metadata": {},
   "outputs": [],
   "source": [
    "foodset = set(sum(food, []))"
   ]
  },
  {
   "cell_type": "code",
   "execution_count": 38,
   "metadata": {},
   "outputs": [],
   "source": [
    "footballset = set(sum(football, []))"
   ]
  },
  {
   "cell_type": "code",
   "execution_count": 37,
   "metadata": {},
   "outputs": [],
   "source": [
    "gamesset = set(sum(games, []))"
   ]
  },
  {
   "cell_type": "code",
   "execution_count": 40,
   "metadata": {},
   "outputs": [],
   "source": [
    "musicset = set(sum(music, []))"
   ]
  },
  {
   "cell_type": "code",
   "execution_count": 39,
   "metadata": {},
   "outputs": [],
   "source": [
    "natureset = set(sum(nature, []))"
   ]
  },
  {
   "cell_type": "code",
   "execution_count": 41,
   "metadata": {},
   "outputs": [],
   "source": [
    "travelset = set(sum(travel, []))"
   ]
  },
  {
   "cell_type": "code",
   "execution_count": 42,
   "metadata": {},
   "outputs": [],
   "source": [
    "allset = list(set(allunnest))"
   ]
  },
  {
   "cell_type": "code",
   "execution_count": 43,
   "metadata": {},
   "outputs": [],
   "source": [
    "matrix_absolute_nonsmooth = {}"
   ]
  },
  {
   "cell_type": "code",
   "execution_count": 44,
   "metadata": {},
   "outputs": [
    {
     "name": "stderr",
     "output_type": "stream",
     "text": [
      "100%|██████████████████████████████| 121101/121101 [00:00<00:00, 144507.32it/s]\n"
     ]
    }
   ],
   "source": [
    "for i in tqdm(allset):\n",
    "    counts = {}\n",
    "    try:\n",
    "        counts['anime'] = animects[i]\n",
    "    except KeyError:\n",
    "        counts['anime'] = 0\n",
    "    try:\n",
    "        counts['art'] = artcts[i]\n",
    "    except KeyError:\n",
    "        counts['art'] = 0\n",
    "    try:\n",
    "        counts['books'] = bookscts[i]\n",
    "    except KeyError:\n",
    "        counts['books'] = 0\n",
    "    try:\n",
    "        counts['films'] = filmscts[i]\n",
    "    except KeyError:\n",
    "        counts['films'] = 0\n",
    "    try:\n",
    "        counts['food'] = foodcts[i]\n",
    "    except KeyError:\n",
    "        counts['food'] = 0\n",
    "    try:\n",
    "        counts['football'] = footballcts[i]\n",
    "    except KeyError:\n",
    "        counts['football'] = 0\n",
    "    try:\n",
    "        counts['games'] = gamescts[i]\n",
    "    except KeyError:\n",
    "        counts['games'] = 0\n",
    "    try:\n",
    "        counts['music'] = musiccts[i]\n",
    "    except KeyError:\n",
    "        counts['music'] = 0\n",
    "    try:\n",
    "        counts['nature'] = naturects[i]\n",
    "    except KeyError:\n",
    "        counts['nature'] = 0\n",
    "    try:\n",
    "        counts['travel'] = travelcts[i]\n",
    "    except KeyError:\n",
    "        counts['travel'] = 0\n",
    "    matrix_absolute_nonsmooth[i] = counts"
   ]
  },
  {
   "cell_type": "code",
   "execution_count": 45,
   "metadata": {},
   "outputs": [
    {
     "data": {
      "text/plain": [
       "{'anime': 1051,\n",
       " 'art': 5,\n",
       " 'books': 4,\n",
       " 'films': 11,\n",
       " 'food': 0,\n",
       " 'football': 0,\n",
       " 'games': 39,\n",
       " 'music': 4,\n",
       " 'nature': 0,\n",
       " 'travel': 1}"
      ]
     },
     "execution_count": 45,
     "metadata": {},
     "output_type": "execute_result"
    }
   ],
   "source": [
    "matrix_absolute_nonsmooth['аниме']"
   ]
  },
  {
   "cell_type": "code",
   "execution_count": 46,
   "metadata": {},
   "outputs": [],
   "source": [
    "matrix_absolute_add2 = {key:{k:(v+2) for k, v in val.items()} for key, val in matrix_absolute_nonsmooth.items()}"
   ]
  },
  {
   "cell_type": "code",
   "execution_count": 47,
   "metadata": {},
   "outputs": [
    {
     "data": {
      "text/plain": [
       "{'anime': 1053,\n",
       " 'art': 7,\n",
       " 'books': 6,\n",
       " 'films': 13,\n",
       " 'food': 2,\n",
       " 'football': 2,\n",
       " 'games': 41,\n",
       " 'music': 6,\n",
       " 'nature': 2,\n",
       " 'travel': 3}"
      ]
     },
     "execution_count": 47,
     "metadata": {},
     "output_type": "execute_result"
    }
   ],
   "source": [
    "matrix_absolute_add2['аниме']"
   ]
  },
  {
   "cell_type": "code",
   "execution_count": 48,
   "metadata": {},
   "outputs": [],
   "source": [
    "with open('Matrix Absolute Nonsmooth.pkl', 'wb') as m1:\n",
    "    pkl.dump(matrix_absolute_nonsmooth, m1)\n",
    "m1.close()"
   ]
  },
  {
   "cell_type": "code",
   "execution_count": 49,
   "metadata": {},
   "outputs": [],
   "source": [
    "with open('Matrix Absolute Add2.pkl', 'wb') as m2:\n",
    "    pkl.dump(matrix_absolute_add2, m2)\n",
    "m2.close()"
   ]
  },
  {
   "cell_type": "code",
   "execution_count": 50,
   "metadata": {},
   "outputs": [],
   "source": [
    "matrix_relative_nonsmooth = {}"
   ]
  },
  {
   "cell_type": "code",
   "execution_count": 51,
   "metadata": {},
   "outputs": [
    {
     "name": "stderr",
     "output_type": "stream",
     "text": [
      "100%|██████████████████████████████| 121101/121101 [00:01<00:00, 113374.65it/s]\n"
     ]
    }
   ],
   "source": [
    "for i in tqdm(allset):\n",
    "    counts = {}\n",
    "    \n",
    "    try:\n",
    "        c1 = animects[i]\n",
    "    except KeyError:\n",
    "        c1 = 0\n",
    "    counts['anime'] = c1 / len(anime)\n",
    "    \n",
    "    try:\n",
    "        c2 = artcts[i]\n",
    "    except KeyError:\n",
    "        c2 = 0\n",
    "    counts['art'] = c2 / len(art)\n",
    "    \n",
    "    try:\n",
    "        c3 = bookscts[i]\n",
    "    except KeyError:\n",
    "        c3 = 0\n",
    "    counts['books'] = c3 / len(books)\n",
    "    \n",
    "    try:\n",
    "        c4 = filmscts[i]\n",
    "    except KeyError:\n",
    "        c4 = 0\n",
    "    counts['films'] = c4 / len(films)\n",
    "    \n",
    "    try:\n",
    "        c5 = foodcts[i]\n",
    "    except KeyError:\n",
    "        c5 = 0\n",
    "    counts['food'] = c5 / len(food)\n",
    "    \n",
    "    try:\n",
    "        c6 = footballcts[i]\n",
    "    except KeyError:\n",
    "        c6 = 0\n",
    "    counts['football'] = c6 / len(football)    \n",
    "        \n",
    "    try:\n",
    "        c7 = gamescts[i]\n",
    "    except KeyError:\n",
    "        c7 = 0\n",
    "    counts['games'] = c7 / len(games)   \n",
    "        \n",
    "    try:\n",
    "        c8= musiccts[i]\n",
    "    except KeyError:\n",
    "        c8 = 0\n",
    "    counts['music'] = c8 / len(music)    \n",
    "        \n",
    "    try:\n",
    "        c9 = naturects[i]\n",
    "    except KeyError:\n",
    "        c9 = 0\n",
    "    counts['nature'] = c9 / len(nature)\n",
    "        \n",
    "    try:\n",
    "        c10 = travelcts[i]\n",
    "    except KeyError:\n",
    "        c10 = 0\n",
    "    counts['travel'] = c10 / len(travel)    \n",
    "        \n",
    "    matrix_relative_nonsmooth[i] = counts"
   ]
  },
  {
   "cell_type": "code",
   "execution_count": 52,
   "metadata": {},
   "outputs": [
    {
     "data": {
      "text/plain": [
       "{'anime': 0.34905347060777153,\n",
       " 'art': 0.0051387461459403904,\n",
       " 'books': 0.0004088725339875294,\n",
       " 'films': 0.0019618334225075798,\n",
       " 'food': 0.0,\n",
       " 'football': 0.0,\n",
       " 'games': 0.0013293792821351877,\n",
       " 'music': 0.0005157962604771116,\n",
       " 'nature': 0.0,\n",
       " 'travel': 0.0005841121495327102}"
      ]
     },
     "execution_count": 52,
     "metadata": {},
     "output_type": "execute_result"
    }
   ],
   "source": [
    "matrix_relative_nonsmooth['аниме']"
   ]
  },
  {
   "cell_type": "code",
   "execution_count": 53,
   "metadata": {},
   "outputs": [],
   "source": [
    "with open('Matrix Relative Nonsmooth.pkl', 'wb') as m3:\n",
    "    pkl.dump(matrix_relative_nonsmooth, m3)\n",
    "m3.close()"
   ]
  },
  {
   "cell_type": "code",
   "execution_count": 54,
   "metadata": {},
   "outputs": [],
   "source": [
    "matrix_relative_add2 = {}"
   ]
  },
  {
   "cell_type": "code",
   "execution_count": 55,
   "metadata": {},
   "outputs": [
    {
     "name": "stderr",
     "output_type": "stream",
     "text": [
      "100%|██████████████████████████████| 121101/121101 [00:01<00:00, 113398.97it/s]\n"
     ]
    }
   ],
   "source": [
    "for i in tqdm(allset):\n",
    "    counts = {}\n",
    "    \n",
    "    try:\n",
    "        c1 = animects[i] + 2\n",
    "    except KeyError:\n",
    "        c1 = 2\n",
    "    counts['anime'] = c1 / len(anime)\n",
    "    \n",
    "    try:\n",
    "        c2 = artcts[i] + 2\n",
    "    except KeyError:\n",
    "        c2 = 2\n",
    "    counts['art'] = c2 / len(art)\n",
    "    \n",
    "    try:\n",
    "        c3 = bookscts[i] + 2\n",
    "    except KeyError:\n",
    "        c3 = 2\n",
    "    counts['books'] = c3 / len(books)\n",
    "    \n",
    "    try:\n",
    "        c4 = filmscts[i] + 2\n",
    "    except KeyError:\n",
    "        c4 = 2\n",
    "    counts['films'] = c4 / len(films)\n",
    "    \n",
    "    try:\n",
    "        c5 = foodcts[i] + 2\n",
    "    except KeyError:\n",
    "        c5 = 2\n",
    "    counts['food'] = c5 / len(food)\n",
    "    \n",
    "    try:\n",
    "        c6 = footballcts[i] + 2\n",
    "    except KeyError:\n",
    "        c6 = 2\n",
    "    counts['football'] = c6 / len(football)    \n",
    "        \n",
    "    try:\n",
    "        c7 = gamescts[i] + 2\n",
    "    except KeyError:\n",
    "        c7 = 2\n",
    "    counts['games'] = c7 / len(games)   \n",
    "        \n",
    "    try:\n",
    "        c8= musiccts[i] + 2\n",
    "    except KeyError:\n",
    "        c8 = 2\n",
    "    counts['music'] = c8 / len(music)    \n",
    "        \n",
    "    try:\n",
    "        c9 = naturects[i] + 2\n",
    "    except KeyError:\n",
    "        c9 = 2\n",
    "    counts['nature'] = c9 / len(nature)\n",
    "        \n",
    "    try:\n",
    "        c10 = travelcts[i] + 2\n",
    "    except KeyError:\n",
    "        c10 = 2\n",
    "    counts['travel'] = c10 / len(travel)    \n",
    "        \n",
    "    matrix_relative_add2[i] = counts"
   ]
  },
  {
   "cell_type": "code",
   "execution_count": 56,
   "metadata": {},
   "outputs": [
    {
     "data": {
      "text/plain": [
       "{'anime': 0.34971770176021255,\n",
       " 'art': 0.007194244604316547,\n",
       " 'books': 0.0006133088009812941,\n",
       " 'films': 0.002318530408418049,\n",
       " 'food': 0.0003531696980399082,\n",
       " 'football': 8.686587908269631e-05,\n",
       " 'games': 0.0013975525786549408,\n",
       " 'music': 0.0007736943907156673,\n",
       " 'nature': 0.00234192037470726,\n",
       " 'travel': 0.0017523364485981308}"
      ]
     },
     "execution_count": 56,
     "metadata": {},
     "output_type": "execute_result"
    }
   ],
   "source": [
    "matrix_relative_add2['аниме']"
   ]
  },
  {
   "cell_type": "code",
   "execution_count": 57,
   "metadata": {},
   "outputs": [],
   "source": [
    "with open('Matrix Relative Add2.pkl', 'wb') as m4:\n",
    "    pkl.dump(matrix_relative_add2, m4)\n",
    "m4.close()"
   ]
  },
  {
   "cell_type": "code",
   "execution_count": 58,
   "metadata": {},
   "outputs": [
    {
     "data": {
      "text/plain": [
       "121101"
      ]
     },
     "execution_count": 58,
     "metadata": {},
     "output_type": "execute_result"
    }
   ],
   "source": [
    "len(matrix_absolute_add2)"
   ]
  },
  {
   "cell_type": "code",
   "execution_count": 59,
   "metadata": {},
   "outputs": [],
   "source": [
    "for k, val in matrix_relative_add2.items():\n",
    "    if max(list(val.values())) < 0.01: #слова которые встречаются меньше чем в 1% текстов\n",
    "        del matrix_absolute_add2[k]"
   ]
  },
  {
   "cell_type": "code",
   "execution_count": 60,
   "metadata": {},
   "outputs": [
    {
     "data": {
      "text/plain": [
       "2408"
      ]
     },
     "execution_count": 60,
     "metadata": {},
     "output_type": "execute_result"
    }
   ],
   "source": [
    "len(matrix_absolute_add2)"
   ]
  },
  {
   "cell_type": "code",
   "execution_count": 61,
   "metadata": {},
   "outputs": [],
   "source": [
    "with open('Matrix Absolute Add2 Lessthan0.01.pkl', 'wb') as m5:\n",
    "    pkl.dump(matrix_absolute_add2, m5)\n",
    "m5.close()"
   ]
  },
  {
   "cell_type": "code",
   "execution_count": null,
   "metadata": {},
   "outputs": [],
   "source": []
  }
 ],
 "metadata": {
  "kernelspec": {
   "display_name": "Python 3",
   "language": "python",
   "name": "python3"
  },
  "language_info": {
   "codemirror_mode": {
    "name": "ipython",
    "version": 3
   },
   "file_extension": ".py",
   "mimetype": "text/x-python",
   "name": "python",
   "nbconvert_exporter": "python",
   "pygments_lexer": "ipython3",
   "version": "3.6.4"
  }
 },
 "nbformat": 4,
 "nbformat_minor": 2
}
