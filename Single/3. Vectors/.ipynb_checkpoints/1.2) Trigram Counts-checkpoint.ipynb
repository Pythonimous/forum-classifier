{
 "cells": [
  {
   "cell_type": "code",
   "execution_count": 1,
   "metadata": {},
   "outputs": [],
   "source": [
    "from tqdm import tqdm\n",
    "import numpy as np\n",
    "import pickle as pkl\n",
    "import collections"
   ]
  },
  {
   "cell_type": "code",
   "execution_count": 2,
   "metadata": {},
   "outputs": [],
   "source": [
    "import feat_extr"
   ]
  },
  {
   "cell_type": "code",
   "execution_count": 3,
   "metadata": {},
   "outputs": [],
   "source": [
    "def acquire_trigrams(filename):\n",
    "    with open(filename+'.txt','r',encoding='utf-8') as l:\n",
    "        sentences = l.read().split('\\n')\n",
    "    l.close()\n",
    "    trigrams = [list(feat_extr.get_char_trigrams(s).keys()) for s in tqdm(sentences)]\n",
    "    return(trigrams)"
   ]
  },
  {
   "cell_type": "code",
   "execution_count": 4,
   "metadata": {},
   "outputs": [
    {
     "name": "stderr",
     "output_type": "stream",
     "text": [
      "100%|██████████████████████████████████| 87844/87844 [00:13<00:00, 6438.99it/s]\n"
     ]
    }
   ],
   "source": [
    "tris = acquire_trigrams('Train_lemmas')"
   ]
  },
  {
   "cell_type": "code",
   "execution_count": 5,
   "metadata": {},
   "outputs": [],
   "source": [
    "with open('Train_labels.txt', 'r', encoding='utf-8') as i:\n",
    "    train_labels = i.read().split('\\n')\n",
    "i.close()"
   ]
  },
  {
   "cell_type": "code",
   "execution_count": 6,
   "metadata": {},
   "outputs": [],
   "source": [
    "def return_last(listData, x):\n",
    "    return len(listData)-listData[::-1].index(x)-1"
   ]
  },
  {
   "cell_type": "code",
   "execution_count": 7,
   "metadata": {},
   "outputs": [],
   "source": [
    "def texts(label):\n",
    "    return tris[train_labels.index(label) : return_last(train_labels, label) + 1]"
   ]
  },
  {
   "cell_type": "code",
   "execution_count": 8,
   "metadata": {},
   "outputs": [],
   "source": [
    "anime = texts('Anime')\n",
    "art = texts('Art')\n",
    "books = texts('Books')\n",
    "films = texts('Films')\n",
    "food = texts('Food')\n",
    "football = texts('Football')\n",
    "games = texts('Games')\n",
    "music = texts('Music')\n",
    "nature = texts('Nature')\n",
    "travel = texts('Travel')"
   ]
  },
  {
   "cell_type": "code",
   "execution_count": 9,
   "metadata": {},
   "outputs": [],
   "source": [
    "def topdocuments(corpus):\n",
    "    vocabulary = list(set(sum(corpus, [])))\n",
    "    corpus = [set(t) for t in corpus]\n",
    "    counts = {}\n",
    "    for v in vocabulary:\n",
    "        counts[v] = 0\n",
    "    for v in tqdm(vocabulary):\n",
    "        for c in corpus:\n",
    "            if v in c:\n",
    "                counts[v] += 1\n",
    "    counts = {key:val for key, val in counts.items()}\n",
    "    return counts"
   ]
  },
  {
   "cell_type": "code",
   "execution_count": 10,
   "metadata": {},
   "outputs": [
    {
     "name": "stderr",
     "output_type": "stream",
     "text": [
      "100%|████████████████████████████████████| 9048/9048 [00:02<00:00, 3541.28it/s]\n"
     ]
    }
   ],
   "source": [
    "animects = topdocuments(anime)"
   ]
  },
  {
   "cell_type": "code",
   "execution_count": 11,
   "metadata": {},
   "outputs": [
    {
     "name": "stderr",
     "output_type": "stream",
     "text": [
      "100%|███████████████████████████████████| 7780/7780 [00:00<00:00, 10228.18it/s]\n"
     ]
    }
   ],
   "source": [
    "artcts = topdocuments(art)"
   ]
  },
  {
   "cell_type": "code",
   "execution_count": 12,
   "metadata": {},
   "outputs": [
    {
     "name": "stderr",
     "output_type": "stream",
     "text": [
      "100%|███████████████████████████████████| 12215/12215 [00:18<00:00, 646.95it/s]\n"
     ]
    }
   ],
   "source": [
    "bookscts = topdocuments(books)"
   ]
  },
  {
   "cell_type": "code",
   "execution_count": 13,
   "metadata": {},
   "outputs": [
    {
     "name": "stderr",
     "output_type": "stream",
     "text": [
      "100%|████████████████████████████████████| 9888/9888 [00:06<00:00, 1498.79it/s]\n"
     ]
    }
   ],
   "source": [
    "filmscts = topdocuments(films)"
   ]
  },
  {
   "cell_type": "code",
   "execution_count": 14,
   "metadata": {},
   "outputs": [
    {
     "name": "stderr",
     "output_type": "stream",
     "text": [
      "100%|████████████████████████████████████| 9810/9810 [00:06<00:00, 1461.09it/s]\n"
     ]
    }
   ],
   "source": [
    "foodcts = topdocuments(food)"
   ]
  },
  {
   "cell_type": "code",
   "execution_count": 15,
   "metadata": {},
   "outputs": [
    {
     "name": "stderr",
     "output_type": "stream",
     "text": [
      "100%|███████████████████████████████████| 12900/12900 [00:44<00:00, 289.71it/s]\n"
     ]
    }
   ],
   "source": [
    "footballcts = topdocuments(football)"
   ]
  },
  {
   "cell_type": "code",
   "execution_count": 16,
   "metadata": {},
   "outputs": [
    {
     "name": "stderr",
     "output_type": "stream",
     "text": [
      "100%|███████████████████████████████████| 14562/14562 [01:06<00:00, 220.15it/s]\n"
     ]
    }
   ],
   "source": [
    "gamescts = topdocuments(games)"
   ]
  },
  {
   "cell_type": "code",
   "execution_count": 18,
   "metadata": {},
   "outputs": [
    {
     "name": "stderr",
     "output_type": "stream",
     "text": [
      "100%|██████████████████████████████████| 11365/11365 [00:11<00:00, 1004.72it/s]\n"
     ]
    }
   ],
   "source": [
    "musiccts = topdocuments(music)"
   ]
  },
  {
   "cell_type": "code",
   "execution_count": 17,
   "metadata": {},
   "outputs": [
    {
     "name": "stderr",
     "output_type": "stream",
     "text": [
      "100%|███████████████████████████████████| 6965/6965 [00:00<00:00, 12270.58it/s]\n"
     ]
    }
   ],
   "source": [
    "naturects = topdocuments(nature)"
   ]
  },
  {
   "cell_type": "code",
   "execution_count": 19,
   "metadata": {},
   "outputs": [
    {
     "name": "stderr",
     "output_type": "stream",
     "text": [
      "100%|████████████████████████████████████| 8807/8807 [00:01<00:00, 6199.81it/s]\n"
     ]
    }
   ],
   "source": [
    "travelcts = topdocuments(travel)"
   ]
  },
  {
   "cell_type": "code",
   "execution_count": 20,
   "metadata": {},
   "outputs": [],
   "source": [
    "all = anime + art + books + films + food + football + games + music + nature + travel"
   ]
  },
  {
   "cell_type": "code",
   "execution_count": 21,
   "metadata": {},
   "outputs": [],
   "source": [
    "allunnest = list(set(sum(all, [])))"
   ]
  },
  {
   "cell_type": "code",
   "execution_count": 22,
   "metadata": {},
   "outputs": [],
   "source": [
    "animeset = set(sum(anime, []))\n",
    "artset = set(sum(art, []))\n",
    "booksset = set(sum(books, []))\n",
    "filmsset = set(sum(films, []))\n",
    "foodset = set(sum(food, []))\n",
    "footballset = set(sum(football, []))\n",
    "gamesset = set(sum(games, []))\n",
    "musicset = set(sum(music, []))\n",
    "natureset = set(sum(nature, []))\n",
    "travelset = set(sum(travel, []))\n",
    "allset = list(set(allunnest))"
   ]
  },
  {
   "cell_type": "code",
   "execution_count": 23,
   "metadata": {},
   "outputs": [],
   "source": [
    "matrix_absolute_nonsmooth = {}"
   ]
  },
  {
   "cell_type": "code",
   "execution_count": 24,
   "metadata": {},
   "outputs": [
    {
     "name": "stderr",
     "output_type": "stream",
     "text": [
      "100%|████████████████████████████████| 18898/18898 [00:00<00:00, 123354.20it/s]\n"
     ]
    }
   ],
   "source": [
    "for i in tqdm(allset):\n",
    "    counts = {}\n",
    "    try:\n",
    "        counts['anime'] = animects[i]\n",
    "    except KeyError:\n",
    "        counts['anime'] = 0\n",
    "    try:\n",
    "        counts['art'] = artcts[i]\n",
    "    except KeyError:\n",
    "        counts['art'] = 0\n",
    "    try:\n",
    "        counts['books'] = bookscts[i]\n",
    "    except KeyError:\n",
    "        counts['books'] = 0\n",
    "    try:\n",
    "        counts['films'] = filmscts[i]\n",
    "    except KeyError:\n",
    "        counts['films'] = 0\n",
    "    try:\n",
    "        counts['food'] = foodcts[i]\n",
    "    except KeyError:\n",
    "        counts['food'] = 0\n",
    "    try:\n",
    "        counts['football'] = footballcts[i]\n",
    "    except KeyError:\n",
    "        counts['football'] = 0\n",
    "    try:\n",
    "        counts['games'] = gamescts[i]\n",
    "    except KeyError:\n",
    "        counts['games'] = 0\n",
    "    try:\n",
    "        counts['music'] = musiccts[i]\n",
    "    except KeyError:\n",
    "        counts['music'] = 0\n",
    "    try:\n",
    "        counts['nature'] = naturects[i]\n",
    "    except KeyError:\n",
    "        counts['nature'] = 0\n",
    "    try:\n",
    "        counts['travel'] = travelcts[i]\n",
    "    except KeyError:\n",
    "        counts['travel'] = 0\n",
    "    matrix_absolute_nonsmooth[i] = counts"
   ]
  },
  {
   "cell_type": "code",
   "execution_count": 25,
   "metadata": {},
   "outputs": [
    {
     "data": {
      "text/plain": [
       "{'anime': 1075,\n",
       " 'art': 444,\n",
       " 'books': 4649,\n",
       " 'films': 2002,\n",
       " 'food': 2196,\n",
       " 'football': 7763,\n",
       " 'games': 10856,\n",
       " 'music': 2949,\n",
       " 'nature': 318,\n",
       " 'travel': 766}"
      ]
     },
     "execution_count": 25,
     "metadata": {},
     "output_type": "execute_result"
    }
   ],
   "source": [
    "matrix_absolute_nonsmooth[' не']"
   ]
  },
  {
   "cell_type": "code",
   "execution_count": 26,
   "metadata": {},
   "outputs": [],
   "source": [
    "matrix_absolute_add2 = {key:{k:(v+2) for k, v in val.items()} for key, val in matrix_absolute_nonsmooth.items()}"
   ]
  },
  {
   "cell_type": "code",
   "execution_count": 27,
   "metadata": {},
   "outputs": [
    {
     "data": {
      "text/plain": [
       "{'anime': 1075,\n",
       " 'art': 444,\n",
       " 'books': 4649,\n",
       " 'films': 2002,\n",
       " 'food': 2196,\n",
       " 'football': 7763,\n",
       " 'games': 10856,\n",
       " 'music': 2949,\n",
       " 'nature': 318,\n",
       " 'travel': 766}"
      ]
     },
     "execution_count": 27,
     "metadata": {},
     "output_type": "execute_result"
    }
   ],
   "source": [
    "matrix_absolute_nonsmooth[' не']"
   ]
  },
  {
   "cell_type": "code",
   "execution_count": 28,
   "metadata": {},
   "outputs": [],
   "source": [
    "with open('Tris Absolute Add2.pkl', 'wb') as m2:\n",
    "    pkl.dump(matrix_absolute_add2, m2)\n",
    "m2.close()"
   ]
  },
  {
   "cell_type": "code",
   "execution_count": 29,
   "metadata": {},
   "outputs": [],
   "source": [
    "matrix_relative_nonsmooth = {}"
   ]
  },
  {
   "cell_type": "code",
   "execution_count": 30,
   "metadata": {},
   "outputs": [
    {
     "name": "stderr",
     "output_type": "stream",
     "text": [
      "100%|████████████████████████████████| 18898/18898 [00:00<00:00, 107810.73it/s]\n"
     ]
    }
   ],
   "source": [
    "for i in tqdm(allset):\n",
    "    counts = {}\n",
    "    \n",
    "    try:\n",
    "        c1 = animects[i]\n",
    "    except KeyError:\n",
    "        c1 = 0\n",
    "    counts['anime'] = c1 / len(anime)\n",
    "    \n",
    "    try:\n",
    "        c2 = artcts[i]\n",
    "    except KeyError:\n",
    "        c2 = 0\n",
    "    counts['art'] = c2 / len(art)\n",
    "    \n",
    "    try:\n",
    "        c3 = bookscts[i]\n",
    "    except KeyError:\n",
    "        c3 = 0\n",
    "    counts['books'] = c3 / len(books)\n",
    "    \n",
    "    try:\n",
    "        c4 = filmscts[i]\n",
    "    except KeyError:\n",
    "        c4 = 0\n",
    "    counts['films'] = c4 / len(films)\n",
    "    \n",
    "    try:\n",
    "        c5 = foodcts[i]\n",
    "    except KeyError:\n",
    "        c5 = 0\n",
    "    counts['food'] = c5 / len(food)\n",
    "    \n",
    "    try:\n",
    "        c6 = footballcts[i]\n",
    "    except KeyError:\n",
    "        c6 = 0\n",
    "    counts['football'] = c6 / len(football)    \n",
    "        \n",
    "    try:\n",
    "        c7 = gamescts[i]\n",
    "    except KeyError:\n",
    "        c7 = 0\n",
    "    counts['games'] = c7 / len(games)   \n",
    "        \n",
    "    try:\n",
    "        c8= musiccts[i]\n",
    "    except KeyError:\n",
    "        c8 = 0\n",
    "    counts['music'] = c8 / len(music)    \n",
    "        \n",
    "    try:\n",
    "        c9 = naturects[i]\n",
    "    except KeyError:\n",
    "        c9 = 0\n",
    "    counts['nature'] = c9 / len(nature)\n",
    "        \n",
    "    try:\n",
    "        c10 = travelcts[i]\n",
    "    except KeyError:\n",
    "        c10 = 0\n",
    "    counts['travel'] = c10 / len(travel)    \n",
    "        \n",
    "    matrix_relative_nonsmooth[i] = counts"
   ]
  },
  {
   "cell_type": "code",
   "execution_count": 31,
   "metadata": {},
   "outputs": [
    {
     "data": {
      "text/plain": [
       "{'anime': 0.3570242444370641,\n",
       " 'art': 0.4563206577595067,\n",
       " 'books': 0.47521210262700603,\n",
       " 'films': 0.3570536828963795,\n",
       " 'food': 0.3877803284478192,\n",
       " 'football': 0.33716990965948573,\n",
       " 'games': 0.37004465350922044,\n",
       " 'music': 0.3802707930367505,\n",
       " 'nature': 0.37236533957845436,\n",
       " 'travel': 0.44742990654205606}"
      ]
     },
     "execution_count": 31,
     "metadata": {},
     "output_type": "execute_result"
    }
   ],
   "source": [
    "matrix_relative_nonsmooth[' не']"
   ]
  },
  {
   "cell_type": "code",
   "execution_count": 32,
   "metadata": {},
   "outputs": [],
   "source": [
    "matrix_relative_add2 = {}"
   ]
  },
  {
   "cell_type": "code",
   "execution_count": 33,
   "metadata": {},
   "outputs": [
    {
     "name": "stderr",
     "output_type": "stream",
     "text": [
      "100%|████████████████████████████████| 18898/18898 [00:00<00:00, 112408.98it/s]\n"
     ]
    }
   ],
   "source": [
    "for i in tqdm(allset):\n",
    "    counts = {}\n",
    "    \n",
    "    try:\n",
    "        c1 = animects[i] + 2\n",
    "    except KeyError:\n",
    "        c1 = 2\n",
    "    counts['anime'] = c1 / len(anime)\n",
    "    \n",
    "    try:\n",
    "        c2 = artcts[i] + 2\n",
    "    except KeyError:\n",
    "        c2 = 2\n",
    "    counts['art'] = c2 / len(art)\n",
    "    \n",
    "    try:\n",
    "        c3 = bookscts[i] + 2\n",
    "    except KeyError:\n",
    "        c3 = 2\n",
    "    counts['books'] = c3 / len(books)\n",
    "    \n",
    "    try:\n",
    "        c4 = filmscts[i] + 2\n",
    "    except KeyError:\n",
    "        c4 = 2\n",
    "    counts['films'] = c4 / len(films)\n",
    "    \n",
    "    try:\n",
    "        c5 = foodcts[i] + 2\n",
    "    except KeyError:\n",
    "        c5 = 2\n",
    "    counts['food'] = c5 / len(food)\n",
    "    \n",
    "    try:\n",
    "        c6 = footballcts[i] + 2\n",
    "    except KeyError:\n",
    "        c6 = 2\n",
    "    counts['football'] = c6 / len(football)    \n",
    "        \n",
    "    try:\n",
    "        c7 = gamescts[i] + 2\n",
    "    except KeyError:\n",
    "        c7 = 2\n",
    "    counts['games'] = c7 / len(games)   \n",
    "        \n",
    "    try:\n",
    "        c8= musiccts[i] + 2\n",
    "    except KeyError:\n",
    "        c8 = 2\n",
    "    counts['music'] = c8 / len(music)    \n",
    "        \n",
    "    try:\n",
    "        c9 = naturects[i] + 2\n",
    "    except KeyError:\n",
    "        c9 = 2\n",
    "    counts['nature'] = c9 / len(nature)\n",
    "        \n",
    "    try:\n",
    "        c10 = travelcts[i] + 2\n",
    "    except KeyError:\n",
    "        c10 = 2\n",
    "    counts['travel'] = c10 / len(travel)    \n",
    "        \n",
    "    matrix_relative_add2[i] = counts"
   ]
  },
  {
   "cell_type": "code",
   "execution_count": 34,
   "metadata": {},
   "outputs": [
    {
     "data": {
      "text/plain": [
       "{'anime': 0.3576884755895052,\n",
       " 'art': 0.45837615621788286,\n",
       " 'books': 0.4754165388939998,\n",
       " 'films': 0.35741037988229,\n",
       " 'food': 0.38813349814585907,\n",
       " 'football': 0.3372567755385685,\n",
       " 'games': 0.3701128268057402,\n",
       " 'music': 0.38052869116698906,\n",
       " 'nature': 0.3747072599531616,\n",
       " 'travel': 0.4485981308411215}"
      ]
     },
     "execution_count": 34,
     "metadata": {},
     "output_type": "execute_result"
    }
   ],
   "source": [
    "matrix_relative_add2[' не']"
   ]
  },
  {
   "cell_type": "code",
   "execution_count": 35,
   "metadata": {},
   "outputs": [
    {
     "data": {
      "text/plain": [
       "18898"
      ]
     },
     "execution_count": 35,
     "metadata": {},
     "output_type": "execute_result"
    }
   ],
   "source": [
    "len(matrix_absolute_add2)"
   ]
  },
  {
   "cell_type": "code",
   "execution_count": 36,
   "metadata": {},
   "outputs": [],
   "source": [
    "for k, val in matrix_relative_add2.items():\n",
    "    if max(list(val.values())) < 0.005: # триграммы, которые встречаются меньше чем в .5% текстов какой-либо из категорий\n",
    "        del matrix_absolute_add2[k]"
   ]
  },
  {
   "cell_type": "code",
   "execution_count": 37,
   "metadata": {},
   "outputs": [
    {
     "data": {
      "text/plain": [
       "6825"
      ]
     },
     "execution_count": 37,
     "metadata": {},
     "output_type": "execute_result"
    }
   ],
   "source": [
    "len(matrix_absolute_add2)"
   ]
  },
  {
   "cell_type": "code",
   "execution_count": 38,
   "metadata": {},
   "outputs": [],
   "source": [
    "with open('Tris Absolute Add2.pkl', 'wb') as m5:\n",
    "    pkl.dump(matrix_absolute_add2, m5)\n",
    "m5.close()"
   ]
  },
  {
   "cell_type": "code",
   "execution_count": null,
   "metadata": {},
   "outputs": [],
   "source": []
  }
 ],
 "metadata": {
  "kernelspec": {
   "display_name": "Python 3",
   "language": "python",
   "name": "python3"
  },
  "language_info": {
   "codemirror_mode": {
    "name": "ipython",
    "version": 3
   },
   "file_extension": ".py",
   "mimetype": "text/x-python",
   "name": "python",
   "nbconvert_exporter": "python",
   "pygments_lexer": "ipython3",
   "version": "3.6.4"
  }
 },
 "nbformat": 4,
 "nbformat_minor": 2
}
