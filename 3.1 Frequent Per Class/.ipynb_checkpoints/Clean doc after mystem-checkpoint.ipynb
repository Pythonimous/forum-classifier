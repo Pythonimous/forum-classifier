{
 "cells": [
  {
   "cell_type": "code",
   "execution_count": 1,
   "metadata": {},
   "outputs": [],
   "source": [
    "def clean_document(docname): #if needed\n",
    "    import string\n",
    "    exclude = set(string.punctuation)\n",
    "    with open(docname + '_lemmas.txt','r',encoding='utf-8') as l:\n",
    "        lemmas = l.read().split('\\n')\n",
    "    l.close()\n",
    "\n",
    "    lemmas = [''.join(ch for ch in l if ch not in exclude) for l in lemmas]\n",
    "    if not lemmas[-1]:\n",
    "        lemmas = lemmas[:-1]\n",
    "    \n",
    "    empty = [i for i,x in enumerate(lemmas) if not x][::-1] # есть ли пустые элементы после mystem ?\n",
    "    \n",
    "    if empty: # если есть\n",
    "        lemmas = [l for l in lemmas if l]\n",
    "        with open(docname + '_labels.txt', 'r', encoding='utf-8') as l: #\n",
    "            labels = l.read().split('\\n')\n",
    "        l.close()\n",
    "        for i in empty:\n",
    "            del labels[i]\n",
    "        with open(docname + '_labels.txt', 'w', encoding='utf-8') as l:\n",
    "            l.write('\\n'.join(labels))\n",
    "        l.close()\n",
    "        print('Len(labels): ' + str(len(labels)))\n",
    "\n",
    "    with open(docname + '_lemmas.txt', 'w', encoding='utf-8') as l:\n",
    "        l.write('\\n'.join(lemmas))\n",
    "    l.close()\n",
    "    \n",
    "    print('Len(lemmas): ' + str(len(lemmas)))\n",
    "    \n",
    "    return(lemmas[0])"
   ]
  },
  {
   "cell_type": "code",
   "execution_count": 5,
   "metadata": {},
   "outputs": [
    {
     "name": "stdout",
     "output_type": "stream",
     "text": [
      "Len(labels): 81326\n",
      "Len(lemmas): 81326\n"
     ]
    },
    {
     "data": {
      "text/plain": [
       "'нэд спайк мегахаризматичный крендель команда становиться имхо проходной персонаж очень яркий получаться самурай чампло всяко поставлять лист ожидание просмотр спасибо'"
      ]
     },
     "execution_count": 5,
     "metadata": {},
     "output_type": "execute_result"
    }
   ],
   "source": [
    "clean_document('Train')"
   ]
  },
  {
   "cell_type": "code",
   "execution_count": 6,
   "metadata": {},
   "outputs": [
    {
     "name": "stdout",
     "output_type": "stream",
     "text": [
      "Len(lemmas): 1000\n"
     ]
    },
    {
     "data": {
      "text/plain": [
       "'знать стиль нравиться глупый смех смотреть сложно смех данный случай продукт побочный основной пока время аниме кажется понравиться насколько понимать высмеивать извечный пафос ояш вообще главный героиня такой сиська'"
      ]
     },
     "execution_count": 6,
     "metadata": {},
     "output_type": "execute_result"
    }
   ],
   "source": [
    "clean_document('Test')"
   ]
  },
  {
   "cell_type": "code",
   "execution_count": 7,
   "metadata": {},
   "outputs": [
    {
     "name": "stdout",
     "output_type": "stream",
     "text": [
      "Len(lemmas): 1000\n"
     ]
    },
    {
     "data": {
      "text/plain": [
       "'смотреть аниме заточить японский игра слово перевод ансабы гатарифаг мочь плакать посылать проклятие субов перманентный обсуждение трусы умный вид ставить ряд легенда'"
      ]
     },
     "execution_count": 7,
     "metadata": {},
     "output_type": "execute_result"
    }
   ],
   "source": [
    "clean_document('Val')"
   ]
  },
  {
   "cell_type": "code",
   "execution_count": null,
   "metadata": {},
   "outputs": [],
   "source": []
  }
 ],
 "metadata": {
  "kernelspec": {
   "display_name": "Python 3",
   "language": "python",
   "name": "python3"
  },
  "language_info": {
   "codemirror_mode": {
    "name": "ipython",
    "version": 3
   },
   "file_extension": ".py",
   "mimetype": "text/x-python",
   "name": "python",
   "nbconvert_exporter": "python",
   "pygments_lexer": "ipython3",
   "version": "3.6.5"
  }
 },
 "nbformat": 4,
 "nbformat_minor": 2
}
