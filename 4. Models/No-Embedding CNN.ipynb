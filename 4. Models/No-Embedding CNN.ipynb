{
 "cells": [
  {
   "cell_type": "code",
   "execution_count": 1,
   "metadata": {},
   "outputs": [],
   "source": [
    "import pickle as pkl\n",
    "import numpy as np"
   ]
  },
  {
   "cell_type": "markdown",
   "metadata": {},
   "source": [
    "## Loading data"
   ]
  },
  {
   "cell_type": "code",
   "execution_count": 2,
   "metadata": {},
   "outputs": [],
   "source": [
    "input_dim = 300"
   ]
  },
  {
   "cell_type": "code",
   "execution_count": 3,
   "metadata": {},
   "outputs": [
    {
     "data": {
      "text/plain": [
       "(87844, 300, 1)"
      ]
     },
     "execution_count": 3,
     "metadata": {},
     "output_type": "execute_result"
    }
   ],
   "source": [
    "with open('Train_'+str(input_dim)+'.pkl', 'rb') as tr:\n",
    "    X_train_300 = pkl.load(tr)\n",
    "tr.close()\n",
    "X_train_300 = X_train_300.reshape(X_train_300.shape[0], X_train_300.shape[1], 1)\n",
    "X_train_300.shape"
   ]
  },
  {
   "cell_type": "code",
   "execution_count": 4,
   "metadata": {},
   "outputs": [
    {
     "data": {
      "text/plain": [
       "(1000, 300, 1)"
      ]
     },
     "execution_count": 4,
     "metadata": {},
     "output_type": "execute_result"
    }
   ],
   "source": [
    "with open('Val_'+str(input_dim)+'.pkl', 'rb') as val:\n",
    "    X_val_300 = pkl.load(val)\n",
    "val.close()\n",
    "X_val_300 = X_val_300.reshape(X_val_300.shape[0], X_val_300.shape[1], 1)\n",
    "X_val_300.shape"
   ]
  },
  {
   "cell_type": "code",
   "execution_count": 5,
   "metadata": {},
   "outputs": [
    {
     "data": {
      "text/plain": [
       "(1000, 300, 1)"
      ]
     },
     "execution_count": 5,
     "metadata": {},
     "output_type": "execute_result"
    }
   ],
   "source": [
    "with open('Test_'+str(input_dim)+'.pkl', 'rb') as test:\n",
    "    X_test_300 = pkl.load(test)\n",
    "test.close()\n",
    "X_test_300 = X_test_300.reshape(X_test_300.shape[0], X_test_300.shape[1], 1)\n",
    "X_test_300.shape"
   ]
  },
  {
   "cell_type": "code",
   "execution_count": 6,
   "metadata": {},
   "outputs": [],
   "source": [
    "with open('Train_twenty.pkl', 'rb') as tr:\n",
    "    X_train_20 = pkl.load(tr)\n",
    "tr.close()"
   ]
  },
  {
   "cell_type": "code",
   "execution_count": 7,
   "metadata": {},
   "outputs": [],
   "source": [
    "with open('Val_twenty.pkl', 'rb') as val:\n",
    "    X_val_20 = pkl.load(val)\n",
    "val.close()"
   ]
  },
  {
   "cell_type": "code",
   "execution_count": 8,
   "metadata": {},
   "outputs": [],
   "source": [
    "with open('Test_twenty.pkl', 'rb') as test:\n",
    "    X_test_20 = pkl.load(test)\n",
    "test.close()"
   ]
  },
  {
   "cell_type": "code",
   "execution_count": 9,
   "metadata": {},
   "outputs": [
    {
     "data": {
      "text/plain": [
       "87844"
      ]
     },
     "execution_count": 9,
     "metadata": {},
     "output_type": "execute_result"
    }
   ],
   "source": [
    "with open('Train_labels.txt', 'r') as l:\n",
    "    train_labels = l.read().split('\\n')\n",
    "l.close()\n",
    "len(train_labels)"
   ]
  },
  {
   "cell_type": "code",
   "execution_count": 10,
   "metadata": {},
   "outputs": [
    {
     "data": {
      "text/plain": [
       "1000"
      ]
     },
     "execution_count": 10,
     "metadata": {},
     "output_type": "execute_result"
    }
   ],
   "source": [
    "with open('Val_labels.txt', 'r') as v:\n",
    "    val_labels = v.read().split('\\n')\n",
    "v.close()\n",
    "len(val_labels)"
   ]
  },
  {
   "cell_type": "code",
   "execution_count": 11,
   "metadata": {},
   "outputs": [
    {
     "data": {
      "text/plain": [
       "1000"
      ]
     },
     "execution_count": 11,
     "metadata": {},
     "output_type": "execute_result"
    }
   ],
   "source": [
    "with open('Test_labels.txt', 'r') as t:\n",
    "    test_labels = t.read().split('\\n')\n",
    "t.close()\n",
    "len(test_labels)"
   ]
  },
  {
   "cell_type": "code",
   "execution_count": 12,
   "metadata": {},
   "outputs": [
    {
     "data": {
      "text/plain": [
       "LabelEncoder()"
      ]
     },
     "execution_count": 12,
     "metadata": {},
     "output_type": "execute_result"
    }
   ],
   "source": [
    "from sklearn.preprocessing import LabelEncoder\n",
    "enc = LabelEncoder()\n",
    "enc.fit(train_labels)"
   ]
  },
  {
   "cell_type": "code",
   "execution_count": 13,
   "metadata": {},
   "outputs": [
    {
     "data": {
      "text/plain": [
       "(87844,)"
      ]
     },
     "execution_count": 13,
     "metadata": {},
     "output_type": "execute_result"
    }
   ],
   "source": [
    "y_train_labels = enc.transform(train_labels)\n",
    "y_train_labels.shape"
   ]
  },
  {
   "cell_type": "code",
   "execution_count": 14,
   "metadata": {},
   "outputs": [
    {
     "data": {
      "text/plain": [
       "(1000,)"
      ]
     },
     "execution_count": 14,
     "metadata": {},
     "output_type": "execute_result"
    }
   ],
   "source": [
    "y_val_labels = enc.transform(val_labels)\n",
    "y_val_labels.shape"
   ]
  },
  {
   "cell_type": "code",
   "execution_count": 15,
   "metadata": {},
   "outputs": [
    {
     "data": {
      "text/plain": [
       "(1000,)"
      ]
     },
     "execution_count": 15,
     "metadata": {},
     "output_type": "execute_result"
    }
   ],
   "source": [
    "y_test_labels = enc.transform(test_labels)\n",
    "y_test_labels.shape"
   ]
  },
  {
   "cell_type": "code",
   "execution_count": 18,
   "metadata": {},
   "outputs": [],
   "source": [
    "import keras\n",
    "from keras import Model\n",
    "from keras.models import Sequential\n",
    "from keras.layers import Dense, Dropout, Flatten, Conv1D, MaxPooling1D, Input, Concatenate\n",
    "from keras.layers.advanced_activations import LeakyReLU\n",
    "from keras.utils import to_categorical\n",
    "from keras import metrics\n",
    "from sklearn.preprocessing import LabelEncoder, StandardScaler\n",
    "from sklearn.metrics import classification_report, confusion_matrix\n",
    "from keras.callbacks import EarlyStopping"
   ]
  },
  {
   "cell_type": "code",
   "execution_count": 17,
   "metadata": {},
   "outputs": [
    {
     "data": {
      "text/plain": [
       "(87844, 10)"
      ]
     },
     "execution_count": 17,
     "metadata": {},
     "output_type": "execute_result"
    }
   ],
   "source": [
    "y_train = to_categorical(y_train_labels)\n",
    "y_train.shape"
   ]
  },
  {
   "cell_type": "code",
   "execution_count": 19,
   "metadata": {},
   "outputs": [
    {
     "data": {
      "text/plain": [
       "(1000, 10)"
      ]
     },
     "execution_count": 19,
     "metadata": {},
     "output_type": "execute_result"
    }
   ],
   "source": [
    "y_val = to_categorical(y_val_labels)\n",
    "y_val.shape"
   ]
  },
  {
   "cell_type": "code",
   "execution_count": 20,
   "metadata": {},
   "outputs": [
    {
     "data": {
      "text/plain": [
       "(1000, 10)"
      ]
     },
     "execution_count": 20,
     "metadata": {},
     "output_type": "execute_result"
    }
   ],
   "source": [
    "y_test = to_categorical(y_test_labels)\n",
    "y_test.shape"
   ]
  },
  {
   "cell_type": "code",
   "execution_count": 21,
   "metadata": {},
   "outputs": [],
   "source": [
    "from sklearn.utils.class_weight import compute_class_weight"
   ]
  },
  {
   "cell_type": "code",
   "execution_count": 22,
   "metadata": {},
   "outputs": [],
   "source": [
    "# Instantiate the label encoder\n",
    "le = LabelEncoder()\n",
    "\n",
    "# Fit the label encoder to our label series\n",
    "le.fit(list(y_train_labels))\n",
    "\n",
    "# Create integer based labels Series\n",
    "y_integers = le.transform(list(y_train_labels))"
   ]
  },
  {
   "cell_type": "code",
   "execution_count": 23,
   "metadata": {},
   "outputs": [],
   "source": [
    "class_weights = compute_class_weight('balanced', np.unique(y_train_labels), y_train_labels)\n",
    "class_weights_dict = dict(zip(le.transform(list(le.classes_)), class_weights))"
   ]
  },
  {
   "cell_type": "code",
   "execution_count": 24,
   "metadata": {},
   "outputs": [],
   "source": [
    "# Parameters\n",
    "batch_size = 512\n",
    "epochs = 100\n",
    "num_classes = 10"
   ]
  },
  {
   "cell_type": "markdown",
   "metadata": {},
   "source": [
    "## Keras has its own method for making \"ensemble\""
   ]
  },
  {
   "cell_type": "code",
   "execution_count": 26,
   "metadata": {},
   "outputs": [],
   "source": [
    "inputA = Input(shape=(input_dim,1))\n",
    "inputB = Input(shape=(20,))"
   ]
  },
  {
   "cell_type": "markdown",
   "metadata": {},
   "source": [
    "CNN для эмбеддингов используется, в противовес тому, что говорили на собрании, есть статьи с arxiv аж с 2014 года. Данные я разделил."
   ]
  },
  {
   "cell_type": "code",
   "execution_count": 28,
   "metadata": {},
   "outputs": [],
   "source": [
    "x = Conv1D(26, kernel_size=(10), padding='same')(inputA) \n",
    "x = LeakyReLU(alpha=0.1)(x)\n",
    "x = MaxPooling1D(2, padding='same')(x)\n",
    "x = Dropout(0.1)(x)\n",
    "x = Flatten()(x)\n",
    "x = Model(inputs = inputA, outputs = x)"
   ]
  },
  {
   "cell_type": "code",
   "execution_count": 29,
   "metadata": {},
   "outputs": [],
   "source": [
    "y = Dense(20, activation=\"relu\")(inputB)\n",
    "y = Dense(10, activation=\"relu\")(y)\n",
    "y = Model(inputs=inputB, outputs = y)"
   ]
  },
  {
   "cell_type": "code",
   "execution_count": 30,
   "metadata": {},
   "outputs": [],
   "source": [
    "combined = Concatenate()([x.output, y.output])"
   ]
  },
  {
   "cell_type": "code",
   "execution_count": 31,
   "metadata": {},
   "outputs": [],
   "source": [
    "z = Dense(32, activation='relu')(combined)\n",
    "z = Dense(num_classes, activation='softmax')(z)"
   ]
  },
  {
   "cell_type": "code",
   "execution_count": 32,
   "metadata": {},
   "outputs": [],
   "source": [
    "model = Model(inputs =[x.input, y.input], outputs = z)"
   ]
  },
  {
   "cell_type": "code",
   "execution_count": 35,
   "metadata": {},
   "outputs": [
    {
     "name": "stdout",
     "output_type": "stream",
     "text": [
      "Model: \"model_4\"\n",
      "__________________________________________________________________________________________________\n",
      "Layer (type)                    Output Shape         Param #     Connected to                     \n",
      "==================================================================================================\n",
      "input_3 (InputLayer)            (None, 300, 1)       0                                            \n",
      "__________________________________________________________________________________________________\n",
      "conv1d_2 (Conv1D)               (None, 300, 26)      286         input_3[0][0]                    \n",
      "__________________________________________________________________________________________________\n",
      "leaky_re_lu_2 (LeakyReLU)       (None, 300, 26)      0           conv1d_2[0][0]                   \n",
      "__________________________________________________________________________________________________\n",
      "max_pooling1d_2 (MaxPooling1D)  (None, 150, 26)      0           leaky_re_lu_2[0][0]              \n",
      "__________________________________________________________________________________________________\n",
      "input_4 (InputLayer)            (None, 20)           0                                            \n",
      "__________________________________________________________________________________________________\n",
      "dropout_2 (Dropout)             (None, 150, 26)      0           max_pooling1d_2[0][0]            \n",
      "__________________________________________________________________________________________________\n",
      "dense_1 (Dense)                 (None, 20)           420         input_4[0][0]                    \n",
      "__________________________________________________________________________________________________\n",
      "flatten_2 (Flatten)             (None, 3900)         0           dropout_2[0][0]                  \n",
      "__________________________________________________________________________________________________\n",
      "dense_2 (Dense)                 (None, 10)           210         dense_1[0][0]                    \n",
      "__________________________________________________________________________________________________\n",
      "concatenate_1 (Concatenate)     (None, 3910)         0           flatten_2[0][0]                  \n",
      "                                                                 dense_2[0][0]                    \n",
      "__________________________________________________________________________________________________\n",
      "dense_3 (Dense)                 (None, 32)           125152      concatenate_1[0][0]              \n",
      "__________________________________________________________________________________________________\n",
      "dense_4 (Dense)                 (None, 10)           330         dense_3[0][0]                    \n",
      "==================================================================================================\n",
      "Total params: 126,398\n",
      "Trainable params: 126,398\n",
      "Non-trainable params: 0\n",
      "__________________________________________________________________________________________________\n",
      "None\n"
     ]
    }
   ],
   "source": [
    "model.compile(loss=keras.losses.categorical_crossentropy,\n",
    "              optimizer=keras.optimizers.Adam(),\n",
    "              metrics=[metrics.categorical_accuracy])\n",
    "print(model.summary())"
   ]
  },
  {
   "cell_type": "code",
   "execution_count": 34,
   "metadata": {},
   "outputs": [],
   "source": [
    "earlystop = EarlyStopping(monitor='val_categorical_accuracy', min_delta = 0.0001, patience=5, verbose=1, mode='auto')\n",
    "callbacks_list = [earlystop]"
   ]
  },
  {
   "cell_type": "code",
   "execution_count": 36,
   "metadata": {
    "scrolled": true
   },
   "outputs": [
    {
     "name": "stdout",
     "output_type": "stream",
     "text": [
      "WARNING:tensorflow:From c:\\users\\1\\appdata\\local\\programs\\python\\python36\\lib\\site-packages\\tensorflow\\python\\ops\\math_grad.py:1250: add_dispatch_support.<locals>.wrapper (from tensorflow.python.ops.array_ops) is deprecated and will be removed in a future version.\n",
      "Instructions for updating:\n",
      "Use tf.where in 2.0, which has the same broadcast rule as np.where\n"
     ]
    },
    {
     "name": "stderr",
     "output_type": "stream",
     "text": [
      "WARNING:tensorflow:From c:\\users\\1\\appdata\\local\\programs\\python\\python36\\lib\\site-packages\\tensorflow\\python\\ops\\math_grad.py:1250: add_dispatch_support.<locals>.wrapper (from tensorflow.python.ops.array_ops) is deprecated and will be removed in a future version.\n",
      "Instructions for updating:\n",
      "Use tf.where in 2.0, which has the same broadcast rule as np.where\n"
     ]
    },
    {
     "name": "stdout",
     "output_type": "stream",
     "text": [
      "Train on 87844 samples, validate on 1000 samples\n",
      "Epoch 1/100\n",
      "87844/87844 [==============================] - 25s 290us/step - loss: 1.7335 - categorical_accuracy: 0.5081 - val_loss: 1.2870 - val_categorical_accuracy: 0.5890\n",
      "Epoch 2/100\n",
      "87844/87844 [==============================] - 25s 285us/step - loss: 1.1264 - categorical_accuracy: 0.6948 - val_loss: 0.9807 - val_categorical_accuracy: 0.6890\n",
      "Epoch 3/100\n",
      "87844/87844 [==============================] - 25s 282us/step - loss: 0.9270 - categorical_accuracy: 0.7402 - val_loss: 0.8669 - val_categorical_accuracy: 0.7280\n",
      "Epoch 4/100\n",
      "87844/87844 [==============================] - 26s 293us/step - loss: 0.8484 - categorical_accuracy: 0.7551 - val_loss: 0.8034 - val_categorical_accuracy: 0.7490\n",
      "Epoch 5/100\n",
      "87844/87844 [==============================] - 25s 281us/step - loss: 0.7986 - categorical_accuracy: 0.7661 - val_loss: 0.7771 - val_categorical_accuracy: 0.7700\n",
      "Epoch 6/100\n",
      "87844/87844 [==============================] - 25s 280us/step - loss: 0.7771 - categorical_accuracy: 0.7718 - val_loss: 0.7584 - val_categorical_accuracy: 0.7740\n",
      "Epoch 7/100\n",
      "87844/87844 [==============================] - 27s 302us/step - loss: 0.7586 - categorical_accuracy: 0.7744 - val_loss: 0.7485 - val_categorical_accuracy: 0.7740\n",
      "Epoch 8/100\n",
      "87844/87844 [==============================] - 24s 276us/step - loss: 0.7414 - categorical_accuracy: 0.7787 - val_loss: 0.7540 - val_categorical_accuracy: 0.7820\n",
      "Epoch 9/100\n",
      "87844/87844 [==============================] - 28s 322us/step - loss: 0.7311 - categorical_accuracy: 0.7815 - val_loss: 0.7525 - val_categorical_accuracy: 0.7690\n",
      "Epoch 10/100\n",
      "87844/87844 [==============================] - 25s 283us/step - loss: 0.7208 - categorical_accuracy: 0.7839 - val_loss: 0.7526 - val_categorical_accuracy: 0.7720\n",
      "Epoch 11/100\n",
      "87844/87844 [==============================] - 24s 275us/step - loss: 0.7117 - categorical_accuracy: 0.7863 - val_loss: 0.7383 - val_categorical_accuracy: 0.7810\n",
      "Epoch 12/100\n",
      "87844/87844 [==============================] - 23s 266us/step - loss: 0.7022 - categorical_accuracy: 0.7889 - val_loss: 0.7351 - val_categorical_accuracy: 0.7770\n",
      "Epoch 13/100\n",
      "87844/87844 [==============================] - 26s 294us/step - loss: 0.6965 - categorical_accuracy: 0.7881 - val_loss: 0.7412 - val_categorical_accuracy: 0.7820\n",
      "Epoch 00013: early stopping\n"
     ]
    },
    {
     "data": {
      "text/plain": [
       "<keras.callbacks.History at 0x521b876f60>"
      ]
     },
     "execution_count": 36,
     "metadata": {},
     "output_type": "execute_result"
    }
   ],
   "source": [
    "model.fit([X_train_300, X_train_20], y_train, batch_size=batch_size, epochs=epochs, callbacks=callbacks_list,\n",
    "          validation_data=([X_val_300, X_val_20], y_val), class_weight = class_weights_dict, verbose=1)"
   ]
  },
  {
   "cell_type": "code",
   "execution_count": 39,
   "metadata": {},
   "outputs": [
    {
     "name": "stdout",
     "output_type": "stream",
     "text": [
      "Val loss: 0.7412080345153809\n",
      "Val accuracy: 0.782\n"
     ]
    }
   ],
   "source": [
    "scores = model.evaluate([X_val_300, X_val_20], y_val, verbose=0)\n",
    "print('Val loss:', scores[0])\n",
    "print('Val accuracy:', scores[1])"
   ]
  },
  {
   "cell_type": "code",
   "execution_count": 40,
   "metadata": {},
   "outputs": [
    {
     "data": {
      "text/plain": [
       "array([[69,  4,  2,  5,  1,  0,  2,  4,  0,  1],\n",
       "       [ 0, 71,  2,  0,  0,  2,  1,  0,  0,  4],\n",
       "       [ 9,  7, 88,  2,  2,  1,  0,  5,  1,  1],\n",
       "       [ 8,  4,  0, 86,  0,  1,  5,  4,  0,  0],\n",
       "       [ 0,  0,  0,  2, 80,  1,  0,  1,  5,  6],\n",
       "       [ 3,  0,  0,  0,  0, 82,  6,  0,  0,  4],\n",
       "       [ 4,  4,  1,  0,  1,  2, 79,  2,  2,  2],\n",
       "       [ 1,  4,  2,  1,  2,  1,  2, 78,  5,  2],\n",
       "       [ 2,  4,  2,  4,  5,  3,  3,  2, 75,  6],\n",
       "       [ 4,  2,  3,  0,  9,  7,  2,  4, 12, 74]], dtype=int64)"
      ]
     },
     "execution_count": 40,
     "metadata": {},
     "output_type": "execute_result"
    }
   ],
   "source": [
    "y_pred = model.predict([X_val_300, X_val_20])\n",
    "y_pred_classes = [[1 if c == max(a) else 0 for c in a] for a in y_pred]\n",
    "y_pred_labels = [a.index(1) for a in y_pred_classes]\n",
    "confusion_matrix(y_pred_labels, y_val_labels)\n",
    "#y_val_labels"
   ]
  },
  {
   "cell_type": "markdown",
   "metadata": {},
   "source": [
    "Далеко не лучший из полученных результатов, просто я подбирал разные параметры, и тот результат пока при тех же параметрах не воспроизвёлся, видимо, элемент случайности. Указанный в таблице на самом деле был получен с этими параметрами."
   ]
  },
  {
   "cell_type": "code",
   "execution_count": 41,
   "metadata": {},
   "outputs": [
    {
     "name": "stdout",
     "output_type": "stream",
     "text": [
      "Test loss: 0.8139278514385223\n",
      "Test accuracy: 0.747\n"
     ]
    }
   ],
   "source": [
    "test_scores = model.evaluate([X_test_300, X_test_20], y_test, verbose=0)\n",
    "print('Test loss:', test_scores[0])\n",
    "print('Test accuracy:', test_scores[1])"
   ]
  },
  {
   "cell_type": "code",
   "execution_count": 42,
   "metadata": {},
   "outputs": [
    {
     "data": {
      "text/plain": [
       "array([[78,  4,  0,  4,  5,  2,  5,  6,  1,  3],\n",
       "       [ 1, 65,  1,  1,  0,  0,  0,  2,  4,  4],\n",
       "       [ 3,  6, 83,  3,  2,  1,  3,  4,  2,  3],\n",
       "       [ 4,  7,  4, 76,  0,  0,  2,  7,  0,  4],\n",
       "       [ 1,  1,  1,  0, 78,  0,  0,  1,  9,  4],\n",
       "       [ 3,  1,  1,  6,  1, 86,  2,  3,  1,  2],\n",
       "       [ 4,  4,  4,  5,  0,  6, 80,  5,  0,  1],\n",
       "       [ 3,  3,  2,  2,  0,  3,  3, 64,  5,  1],\n",
       "       [ 1,  7,  1,  2,  8,  2,  3,  5, 64,  5],\n",
       "       [ 2,  2,  3,  1,  6,  0,  2,  3, 14, 73]], dtype=int64)"
      ]
     },
     "execution_count": 42,
     "metadata": {},
     "output_type": "execute_result"
    }
   ],
   "source": [
    "y_pred = model.predict([X_test_300, X_test_20])\n",
    "y_pred_classes = [[1 if c == max(a) else 0 for c in a] for a in y_pred]\n",
    "y_pred_labels = [a.index(1) for a in y_pred_classes]\n",
    "confusion_matrix(y_pred_labels, y_test_labels)"
   ]
  },
  {
   "cell_type": "code",
   "execution_count": 43,
   "metadata": {},
   "outputs": [
    {
     "name": "stdout",
     "output_type": "stream",
     "text": [
      "              precision    recall  f1-score   support\n",
      "\n",
      "           0       0.78      0.72      0.75       108\n",
      "           1       0.65      0.83      0.73        78\n",
      "           2       0.83      0.75      0.79       110\n",
      "           3       0.76      0.73      0.75       104\n",
      "           4       0.78      0.82      0.80        95\n",
      "           5       0.86      0.81      0.83       106\n",
      "           6       0.80      0.73      0.77       109\n",
      "           7       0.64      0.74      0.69        86\n",
      "           8       0.64      0.65      0.65        98\n",
      "           9       0.73      0.69      0.71       106\n",
      "\n",
      "    accuracy                           0.75      1000\n",
      "   macro avg       0.75      0.75      0.75      1000\n",
      "weighted avg       0.75      0.75      0.75      1000\n",
      "\n"
     ]
    }
   ],
   "source": [
    "print(classification_report(y_pred_labels, y_test_labels))"
   ]
  },
  {
   "cell_type": "code",
   "execution_count": null,
   "metadata": {},
   "outputs": [],
   "source": []
  },
  {
   "cell_type": "code",
   "execution_count": null,
   "metadata": {},
   "outputs": [],
   "source": [
    "from keras.utils.vis_utils import plot_model\n",
    "plot_model(model, to_file='model_plot cnn.png', show_shapes=True, show_layer_names=True)"
   ]
  }
 ],
 "metadata": {
  "kernelspec": {
   "display_name": "Python 3",
   "language": "python",
   "name": "python3"
  },
  "language_info": {
   "codemirror_mode": {
    "name": "ipython",
    "version": 3
   },
   "file_extension": ".py",
   "mimetype": "text/x-python",
   "name": "python",
   "nbconvert_exporter": "python",
   "pygments_lexer": "ipython3",
   "version": "3.6.4"
  }
 },
 "nbformat": 4,
 "nbformat_minor": 2
}
