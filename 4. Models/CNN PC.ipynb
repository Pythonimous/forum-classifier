{
 "cells": [
  {
   "cell_type": "code",
   "execution_count": 43,
   "metadata": {},
   "outputs": [],
   "source": [
    "import pickle as pkl\n",
    "import numpy as np"
   ]
  },
  {
   "cell_type": "code",
   "execution_count": 44,
   "metadata": {},
   "outputs": [],
   "source": [
    "input_dim = 320"
   ]
  },
  {
   "cell_type": "code",
   "execution_count": 45,
   "metadata": {},
   "outputs": [
    {
     "data": {
      "text/plain": [
       "(87719, 320, 1)"
      ]
     },
     "execution_count": 45,
     "metadata": {},
     "output_type": "execute_result"
    }
   ],
   "source": [
    "with open('Train_'+str(input_dim)+'.pkl', 'rb') as tr:\n",
    "    X_train = pkl.load(tr)\n",
    "tr.close()\n",
    "X_train = X_train.reshape(X_train.shape[0], X_train.shape[1], 1)\n",
    "X_train.shape"
   ]
  },
  {
   "cell_type": "code",
   "execution_count": 48,
   "metadata": {},
   "outputs": [
    {
     "data": {
      "text/plain": [
       "(998, 320, 1)"
      ]
     },
     "execution_count": 48,
     "metadata": {},
     "output_type": "execute_result"
    }
   ],
   "source": [
    "with open('Val_'+str(input_dim)+'.pkl', 'rb') as val:\n",
    "    X_val = pkl.load(val)\n",
    "val.close()\n",
    "X_val = X_val.reshape(X_val.shape[0], X_val.shape[1], 1)\n",
    "X_val.shape"
   ]
  },
  {
   "cell_type": "code",
   "execution_count": 49,
   "metadata": {},
   "outputs": [
    {
     "data": {
      "text/plain": [
       "(999, 320, 1)"
      ]
     },
     "execution_count": 49,
     "metadata": {},
     "output_type": "execute_result"
    }
   ],
   "source": [
    "with open('Test_'+str(input_dim)+'.pkl', 'rb') as test:\n",
    "    X_test = pkl.load(test)\n",
    "test.close()\n",
    "X_test = X_test.reshape(X_test.shape[0], X_test.shape[1], 1)\n",
    "X_test.shape"
   ]
  },
  {
   "cell_type": "code",
   "execution_count": 50,
   "metadata": {},
   "outputs": [
    {
     "data": {
      "text/plain": [
       "87719"
      ]
     },
     "execution_count": 50,
     "metadata": {},
     "output_type": "execute_result"
    }
   ],
   "source": [
    "with open('Train_labels.txt', 'r') as l:\n",
    "    train_labels = l.read().split('\\n')\n",
    "l.close()\n",
    "len(train_labels)"
   ]
  },
  {
   "cell_type": "code",
   "execution_count": 51,
   "metadata": {},
   "outputs": [
    {
     "data": {
      "text/plain": [
       "998"
      ]
     },
     "execution_count": 51,
     "metadata": {},
     "output_type": "execute_result"
    }
   ],
   "source": [
    "with open('Val_labels.txt', 'r') as v:\n",
    "    val_labels = v.read().split('\\n')\n",
    "v.close()\n",
    "len(val_labels)"
   ]
  },
  {
   "cell_type": "code",
   "execution_count": 52,
   "metadata": {},
   "outputs": [
    {
     "data": {
      "text/plain": [
       "999"
      ]
     },
     "execution_count": 52,
     "metadata": {},
     "output_type": "execute_result"
    }
   ],
   "source": [
    "with open('Test_labels.txt', 'r') as t:\n",
    "    test_labels = t.read().split('\\n')\n",
    "t.close()\n",
    "len(test_labels)"
   ]
  },
  {
   "cell_type": "code",
   "execution_count": 53,
   "metadata": {},
   "outputs": [
    {
     "data": {
      "text/plain": [
       "LabelEncoder()"
      ]
     },
     "execution_count": 53,
     "metadata": {},
     "output_type": "execute_result"
    }
   ],
   "source": [
    "from sklearn.preprocessing import LabelEncoder\n",
    "enc = LabelEncoder()\n",
    "enc.fit(train_labels)"
   ]
  },
  {
   "cell_type": "code",
   "execution_count": 54,
   "metadata": {},
   "outputs": [
    {
     "data": {
      "text/plain": [
       "(87719,)"
      ]
     },
     "execution_count": 54,
     "metadata": {},
     "output_type": "execute_result"
    }
   ],
   "source": [
    "y_train_labels = enc.transform(train_labels)\n",
    "y_train_labels.shape"
   ]
  },
  {
   "cell_type": "code",
   "execution_count": 55,
   "metadata": {},
   "outputs": [
    {
     "data": {
      "text/plain": [
       "(998,)"
      ]
     },
     "execution_count": 55,
     "metadata": {},
     "output_type": "execute_result"
    }
   ],
   "source": [
    "y_val_labels = enc.transform(val_labels)\n",
    "y_val_labels.shape"
   ]
  },
  {
   "cell_type": "code",
   "execution_count": 56,
   "metadata": {},
   "outputs": [
    {
     "data": {
      "text/plain": [
       "(999,)"
      ]
     },
     "execution_count": 56,
     "metadata": {},
     "output_type": "execute_result"
    }
   ],
   "source": [
    "y_test_labels = enc.transform(test_labels)\n",
    "y_test_labels.shape"
   ]
  },
  {
   "cell_type": "code",
   "execution_count": 57,
   "metadata": {},
   "outputs": [],
   "source": [
    "import keras\n",
    "from keras.models import Sequential\n",
    "from keras.layers import Dense, Dropout, Flatten, Conv1D, MaxPooling1D\n",
    "from keras.layers.advanced_activations import LeakyReLU\n",
    "from keras.utils import to_categorical\n",
    "from sklearn.preprocessing import LabelEncoder, StandardScaler\n",
    "from sklearn.metrics import classification_report, confusion_matrix\n",
    "from keras.callbacks import EarlyStopping"
   ]
  },
  {
   "cell_type": "code",
   "execution_count": 58,
   "metadata": {},
   "outputs": [
    {
     "data": {
      "text/plain": [
       "(87719, 10)"
      ]
     },
     "execution_count": 58,
     "metadata": {},
     "output_type": "execute_result"
    }
   ],
   "source": [
    "y_train = to_categorical(y_train_labels)\n",
    "y_train.shape"
   ]
  },
  {
   "cell_type": "code",
   "execution_count": 59,
   "metadata": {},
   "outputs": [
    {
     "data": {
      "text/plain": [
       "(998, 10)"
      ]
     },
     "execution_count": 59,
     "metadata": {},
     "output_type": "execute_result"
    }
   ],
   "source": [
    "y_val = to_categorical(y_val_labels)\n",
    "y_val.shape"
   ]
  },
  {
   "cell_type": "code",
   "execution_count": 60,
   "metadata": {},
   "outputs": [
    {
     "data": {
      "text/plain": [
       "(999, 10)"
      ]
     },
     "execution_count": 60,
     "metadata": {},
     "output_type": "execute_result"
    }
   ],
   "source": [
    "y_test = to_categorical(y_test_labels)\n",
    "y_test.shape"
   ]
  },
  {
   "cell_type": "code",
   "execution_count": 61,
   "metadata": {},
   "outputs": [],
   "source": [
    "from sklearn.utils.class_weight import compute_class_weight"
   ]
  },
  {
   "cell_type": "code",
   "execution_count": 62,
   "metadata": {},
   "outputs": [],
   "source": [
    "# Instantiate the label encoder\n",
    "le = LabelEncoder()\n",
    "\n",
    "# Fit the label encoder to our label series\n",
    "le.fit(list(y_train_labels))\n",
    "\n",
    "# Create integer based labels Series\n",
    "y_integers = le.transform(list(y_train_labels))"
   ]
  },
  {
   "cell_type": "code",
   "execution_count": 63,
   "metadata": {},
   "outputs": [],
   "source": [
    "class_weights = compute_class_weight('balanced', np.unique(y_train_labels), y_train_labels)\n",
    "class_weights_dict = dict(zip(le.transform(list(le.classes_)), class_weights))"
   ]
  },
  {
   "cell_type": "code",
   "execution_count": 64,
   "metadata": {},
   "outputs": [],
   "source": [
    "# Parameters\n",
    "batch_size = 512\n",
    "epochs = 100\n",
    "num_classes = 10"
   ]
  },
  {
   "cell_type": "code",
   "execution_count": 92,
   "metadata": {},
   "outputs": [],
   "source": [
    "model = Sequential()\n",
    "\n",
    "model.add(Conv1D(13, kernel_size=(10),\n",
    "                 input_shape=(320,1), padding='same'))\n",
    "model.add(LeakyReLU(alpha=0.1))\n",
    "model.add(MaxPooling1D(2, padding='same'))\n",
    "model.add(Dropout(0.1))\n",
    "model.add(Flatten())\n",
    "model.add(Dense(num_classes, activation='softmax'))"
   ]
  },
  {
   "cell_type": "code",
   "execution_count": 93,
   "metadata": {},
   "outputs": [
    {
     "name": "stdout",
     "output_type": "stream",
     "text": [
      "_________________________________________________________________\n",
      "Layer (type)                 Output Shape              Param #   \n",
      "=================================================================\n",
      "conv1d_6 (Conv1D)            (None, 320, 13)           143       \n",
      "_________________________________________________________________\n",
      "leaky_re_lu_6 (LeakyReLU)    (None, 320, 13)           0         \n",
      "_________________________________________________________________\n",
      "max_pooling1d_6 (MaxPooling1 (None, 160, 13)           0         \n",
      "_________________________________________________________________\n",
      "dropout_6 (Dropout)          (None, 160, 13)           0         \n",
      "_________________________________________________________________\n",
      "flatten_6 (Flatten)          (None, 2080)              0         \n",
      "_________________________________________________________________\n",
      "dense_6 (Dense)              (None, 10)                20810     \n",
      "=================================================================\n",
      "Total params: 20,953\n",
      "Trainable params: 20,953\n",
      "Non-trainable params: 0\n",
      "_________________________________________________________________\n",
      "None\n"
     ]
    }
   ],
   "source": [
    "model.compile(loss=keras.losses.categorical_crossentropy,\n",
    "              optimizer=keras.optimizers.Adam(),\n",
    "              metrics=['accuracy'])\n",
    "print(model.summary())"
   ]
  },
  {
   "cell_type": "code",
   "execution_count": 94,
   "metadata": {},
   "outputs": [],
   "source": [
    "from keras.utils.vis_utils import plot_model\n",
    "plot_model(model, to_file='model_plot cnn.png', show_shapes=True, show_layer_names=True)"
   ]
  },
  {
   "cell_type": "code",
   "execution_count": 95,
   "metadata": {},
   "outputs": [],
   "source": [
    "earlystop = EarlyStopping(monitor='val_acc', min_delta = 0.0001, patience=5, verbose=1, mode='auto')\n",
    "callbacks_list = [earlystop]"
   ]
  },
  {
   "cell_type": "code",
   "execution_count": 96,
   "metadata": {
    "scrolled": true
   },
   "outputs": [
    {
     "name": "stdout",
     "output_type": "stream",
     "text": [
      "Train on 87719 samples, validate on 998 samples\n",
      "Epoch 1/100\n",
      "87719/87719 [==============================] - 32s 361us/step - loss: 1.8801 - acc: 0.5319 - val_loss: 1.4561 - val_acc: 0.5762\n",
      "Epoch 2/100\n",
      "87719/87719 [==============================] - 27s 304us/step - loss: 1.2903 - acc: 0.6767 - val_loss: 1.1349 - val_acc: 0.6443\n",
      "Epoch 3/100\n",
      "87719/87719 [==============================] - 24s 271us/step - loss: 1.0896 - acc: 0.7069 - val_loss: 0.9901 - val_acc: 0.6884\n",
      "Epoch 4/100\n",
      "87719/87719 [==============================] - 26s 300us/step - loss: 0.9919 - acc: 0.7244 - val_loss: 0.9298 - val_acc: 0.7014\n",
      "Epoch 5/100\n",
      "87719/87719 [==============================] - 26s 293us/step - loss: 0.9304 - acc: 0.7365 - val_loss: 0.8739 - val_acc: 0.7244\n",
      "Epoch 6/100\n",
      "87719/87719 [==============================] - 24s 275us/step - loss: 0.8826 - acc: 0.7459 - val_loss: 0.8474 - val_acc: 0.7265\n",
      "Epoch 7/100\n",
      "87719/87719 [==============================] - 24s 270us/step - loss: 0.8528 - acc: 0.7518 - val_loss: 0.8222 - val_acc: 0.7244\n",
      "Epoch 8/100\n",
      "87719/87719 [==============================] - 23s 261us/step - loss: 0.8284 - acc: 0.7574 - val_loss: 0.7991 - val_acc: 0.7355\n",
      "Epoch 9/100\n",
      "87719/87719 [==============================] - 23s 264us/step - loss: 0.8085 - acc: 0.7602 - val_loss: 0.7810 - val_acc: 0.7525\n",
      "Epoch 10/100\n",
      "87719/87719 [==============================] - 25s 280us/step - loss: 0.7898 - acc: 0.7654 - val_loss: 0.7707 - val_acc: 0.7435\n",
      "Epoch 11/100\n",
      "87719/87719 [==============================] - 25s 283us/step - loss: 0.7780 - acc: 0.7676 - val_loss: 0.7611 - val_acc: 0.7525\n",
      "Epoch 12/100\n",
      "87719/87719 [==============================] - 26s 291us/step - loss: 0.7657 - acc: 0.7703 - val_loss: 0.7564 - val_acc: 0.7545\n",
      "Epoch 13/100\n",
      "87719/87719 [==============================] - 26s 297us/step - loss: 0.7544 - acc: 0.7731 - val_loss: 0.7506 - val_acc: 0.7645\n",
      "Epoch 14/100\n",
      "87719/87719 [==============================] - 26s 298us/step - loss: 0.7479 - acc: 0.7737 - val_loss: 0.7455 - val_acc: 0.7565\n",
      "Epoch 15/100\n",
      "87719/87719 [==============================] - 24s 272us/step - loss: 0.7386 - acc: 0.7761 - val_loss: 0.7347 - val_acc: 0.7605\n",
      "Epoch 16/100\n",
      "87719/87719 [==============================] - 23s 267us/step - loss: 0.7334 - acc: 0.7787 - val_loss: 0.7243 - val_acc: 0.7675\n",
      "Epoch 17/100\n",
      "87719/87719 [==============================] - 26s 292us/step - loss: 0.7247 - acc: 0.7799 - val_loss: 0.7334 - val_acc: 0.7665\n",
      "Epoch 18/100\n",
      "87719/87719 [==============================] - 25s 286us/step - loss: 0.7167 - acc: 0.7821 - val_loss: 0.7212 - val_acc: 0.7615\n",
      "Epoch 19/100\n",
      "87719/87719 [==============================] - 22s 253us/step - loss: 0.7128 - acc: 0.7818 - val_loss: 0.7141 - val_acc: 0.7645\n",
      "Epoch 20/100\n",
      "87719/87719 [==============================] - 22s 246us/step - loss: 0.7085 - acc: 0.7838 - val_loss: 0.7234 - val_acc: 0.7615\n",
      "Epoch 21/100\n",
      "87719/87719 [==============================] - 22s 255us/step - loss: 0.6995 - acc: 0.7849 - val_loss: 0.7198 - val_acc: 0.7595\n",
      "Epoch 00021: early stopping\n"
     ]
    },
    {
     "data": {
      "text/plain": [
       "<keras.callbacks.History at 0x640344a630>"
      ]
     },
     "execution_count": 96,
     "metadata": {},
     "output_type": "execute_result"
    }
   ],
   "source": [
    "model.fit(X_train, y_train, batch_size=batch_size, epochs=epochs, callbacks=callbacks_list,\n",
    "          validation_data=(X_val, y_val), class_weight = class_weights_dict, verbose=1)"
   ]
  },
  {
   "cell_type": "code",
   "execution_count": 97,
   "metadata": {},
   "outputs": [
    {
     "name": "stdout",
     "output_type": "stream",
     "text": [
      "Val loss: 0.7198242227395694\n",
      "Val accuracy: 0.7595190380761523\n"
     ]
    }
   ],
   "source": [
    "scores = model.evaluate(X_val, y_val, verbose=0)\n",
    "print('Val loss:', scores[0])\n",
    "print('Val accuracy:', scores[1])"
   ]
  },
  {
   "cell_type": "code",
   "execution_count": 98,
   "metadata": {},
   "outputs": [
    {
     "data": {
      "text/plain": [
       "array([[63,  2,  3,  1,  1,  0,  2,  6,  2,  0],\n",
       "       [ 2, 67,  3,  1,  0,  0,  2,  3,  2,  4],\n",
       "       [ 3,  5, 84,  3,  1,  0,  2,  2,  2,  0],\n",
       "       [12,  3,  3, 84,  0,  3,  2,  4,  0,  1],\n",
       "       [ 1,  3,  0,  1, 89,  2,  2,  2,  9,  4],\n",
       "       [ 3,  1,  0,  2,  1, 82,  4,  5,  2,  3],\n",
       "       [ 4,  6,  0,  3,  0,  4, 80,  7,  3,  3],\n",
       "       [ 8,  4,  3,  1,  0,  1,  2, 61,  1,  1],\n",
       "       [ 1,  5,  2,  2,  4,  1,  1,  2, 67,  3],\n",
       "       [ 3,  4,  2,  2,  4,  7,  2,  7, 12, 81]], dtype=int64)"
      ]
     },
     "execution_count": 98,
     "metadata": {},
     "output_type": "execute_result"
    }
   ],
   "source": [
    "y_pred = model.predict_classes(X_val)\n",
    "confusion_matrix(y_pred, y_val_labels)"
   ]
  },
  {
   "cell_type": "code",
   "execution_count": 99,
   "metadata": {},
   "outputs": [
    {
     "name": "stdout",
     "output_type": "stream",
     "text": [
      "Test loss: 0.8031368544912553\n",
      "Test accuracy: 0.7487487487487487\n"
     ]
    }
   ],
   "source": [
    "test_scores = model.evaluate(X_test, y_test, verbose=0)\n",
    "print('Test loss:', test_scores[0])\n",
    "print('Test accuracy:', test_scores[1])"
   ]
  },
  {
   "cell_type": "code",
   "execution_count": 100,
   "metadata": {},
   "outputs": [
    {
     "data": {
      "text/plain": [
       "array([[70,  1,  3,  1,  0,  0,  2,  3,  0,  2],\n",
       "       [ 4, 69,  2,  0,  1,  1,  0,  2,  5,  3],\n",
       "       [ 6,  4, 79,  0,  0,  3,  1,  9,  1,  2],\n",
       "       [ 3,  7,  3, 80,  0,  0,  1,  4,  0,  0],\n",
       "       [ 1,  2,  0,  1, 84,  1,  1,  2, 12,  3],\n",
       "       [ 3,  1,  1,  6,  2, 84,  5,  1,  1,  1],\n",
       "       [ 8,  4,  3,  6,  1,  3, 76,  7,  0,  2],\n",
       "       [ 4,  3,  2,  6,  1,  5,  5, 64,  2,  3],\n",
       "       [ 0,  6,  1,  0,  3,  1,  4,  2, 64,  6],\n",
       "       [ 1,  3,  6,  0,  8,  2,  5,  5, 15, 78]], dtype=int64)"
      ]
     },
     "execution_count": 100,
     "metadata": {},
     "output_type": "execute_result"
    }
   ],
   "source": [
    "y_pred = model.predict_classes(X_test)\n",
    "confusion_matrix(y_pred, y_test_labels)"
   ]
  },
  {
   "cell_type": "code",
   "execution_count": null,
   "metadata": {},
   "outputs": [],
   "source": []
  }
 ],
 "metadata": {
  "kernelspec": {
   "display_name": "Python 3",
   "language": "python",
   "name": "python3"
  },
  "language_info": {
   "codemirror_mode": {
    "name": "ipython",
    "version": 3
   },
   "file_extension": ".py",
   "mimetype": "text/x-python",
   "name": "python",
   "nbconvert_exporter": "python",
   "pygments_lexer": "ipython3",
   "version": "3.6.5"
  }
 },
 "nbformat": 4,
 "nbformat_minor": 2
}
