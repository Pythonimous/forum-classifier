{
 "cells": [
  {
   "cell_type": "code",
   "execution_count": 1,
   "metadata": {},
   "outputs": [],
   "source": [
    "import pickle as pkl\n",
    "import numpy as np"
   ]
  },
  {
   "cell_type": "code",
   "execution_count": 2,
   "metadata": {},
   "outputs": [],
   "source": [
    "input_dim = 320"
   ]
  },
  {
   "cell_type": "code",
   "execution_count": 3,
   "metadata": {},
   "outputs": [
    {
     "data": {
      "text/plain": [
       "(87719, 1, 320)"
      ]
     },
     "execution_count": 3,
     "metadata": {},
     "output_type": "execute_result"
    }
   ],
   "source": [
    "with open('Train_'+str(input_dim)+'.pkl', 'rb') as tr:\n",
    "    X_train = pkl.load(tr)\n",
    "tr.close()\n",
    "X_train = X_train.reshape(X_train.shape[0], 1, X_train.shape[1])\n",
    "X_train.shape"
   ]
  },
  {
   "cell_type": "code",
   "execution_count": 4,
   "metadata": {},
   "outputs": [
    {
     "data": {
      "text/plain": [
       "(998, 1, 320)"
      ]
     },
     "execution_count": 4,
     "metadata": {},
     "output_type": "execute_result"
    }
   ],
   "source": [
    "with open('Val_'+str(input_dim)+'.pkl', 'rb') as val:\n",
    "    X_val = pkl.load(val)\n",
    "val.close()\n",
    "X_val = X_val.reshape(X_val.shape[0], 1, X_val.shape[1])\n",
    "X_val.shape"
   ]
  },
  {
   "cell_type": "code",
   "execution_count": 5,
   "metadata": {},
   "outputs": [
    {
     "data": {
      "text/plain": [
       "(999, 1, 320)"
      ]
     },
     "execution_count": 5,
     "metadata": {},
     "output_type": "execute_result"
    }
   ],
   "source": [
    "with open('Test_'+str(input_dim)+'.pkl', 'rb') as test:\n",
    "    X_test = pkl.load(test)\n",
    "val.close()\n",
    "X_test = X_test.reshape(X_test.shape[0], 1, X_test.shape[1])\n",
    "X_test.shape"
   ]
  },
  {
   "cell_type": "code",
   "execution_count": 6,
   "metadata": {},
   "outputs": [
    {
     "data": {
      "text/plain": [
       "87719"
      ]
     },
     "execution_count": 6,
     "metadata": {},
     "output_type": "execute_result"
    }
   ],
   "source": [
    "with open('Train_labels.txt', 'r') as l:\n",
    "    train_labels = l.read().split('\\n')\n",
    "l.close()\n",
    "len(train_labels)"
   ]
  },
  {
   "cell_type": "code",
   "execution_count": 7,
   "metadata": {},
   "outputs": [
    {
     "data": {
      "text/plain": [
       "998"
      ]
     },
     "execution_count": 7,
     "metadata": {},
     "output_type": "execute_result"
    }
   ],
   "source": [
    "with open('Val_labels.txt', 'r') as v:\n",
    "    val_labels = v.read().split('\\n')\n",
    "v.close()\n",
    "len(val_labels)"
   ]
  },
  {
   "cell_type": "code",
   "execution_count": 8,
   "metadata": {},
   "outputs": [
    {
     "data": {
      "text/plain": [
       "999"
      ]
     },
     "execution_count": 8,
     "metadata": {},
     "output_type": "execute_result"
    }
   ],
   "source": [
    "with open('Test_labels.txt', 'r') as t:\n",
    "    test_labels = t.read().split('\\n')\n",
    "t.close()\n",
    "len(test_labels)"
   ]
  },
  {
   "cell_type": "code",
   "execution_count": 9,
   "metadata": {},
   "outputs": [
    {
     "data": {
      "text/plain": [
       "LabelEncoder()"
      ]
     },
     "execution_count": 9,
     "metadata": {},
     "output_type": "execute_result"
    }
   ],
   "source": [
    "from sklearn.preprocessing import LabelEncoder\n",
    "enc = LabelEncoder()\n",
    "enc.fit(train_labels)"
   ]
  },
  {
   "cell_type": "code",
   "execution_count": 10,
   "metadata": {},
   "outputs": [
    {
     "data": {
      "text/plain": [
       "(87719,)"
      ]
     },
     "execution_count": 10,
     "metadata": {},
     "output_type": "execute_result"
    }
   ],
   "source": [
    "y_train_labels = enc.transform(train_labels)\n",
    "y_train_labels.shape"
   ]
  },
  {
   "cell_type": "code",
   "execution_count": 11,
   "metadata": {},
   "outputs": [
    {
     "data": {
      "text/plain": [
       "(998,)"
      ]
     },
     "execution_count": 11,
     "metadata": {},
     "output_type": "execute_result"
    }
   ],
   "source": [
    "y_val_labels = enc.transform(val_labels)\n",
    "y_val_labels.shape"
   ]
  },
  {
   "cell_type": "code",
   "execution_count": 12,
   "metadata": {},
   "outputs": [
    {
     "data": {
      "text/plain": [
       "(999,)"
      ]
     },
     "execution_count": 12,
     "metadata": {},
     "output_type": "execute_result"
    }
   ],
   "source": [
    "y_test_labels = enc.transform(test_labels)\n",
    "y_test_labels.shape"
   ]
  },
  {
   "cell_type": "code",
   "execution_count": 13,
   "metadata": {},
   "outputs": [
    {
     "name": "stderr",
     "output_type": "stream",
     "text": [
      "Using TensorFlow backend.\n"
     ]
    }
   ],
   "source": [
    "import keras\n",
    "from keras import backend as th\n",
    "from keras.models import Sequential\n",
    "from keras.layers import Dense, Dropout, Flatten, MaxPooling1D, LSTM, Activation, Masking, Bidirectional\n",
    "from keras.layers.wrappers import TimeDistributed\n",
    "from keras.layers.advanced_activations import LeakyReLU\n",
    "from keras.utils import to_categorical\n",
    "from sklearn.preprocessing import LabelEncoder, StandardScaler\n",
    "from sklearn.metrics import classification_report, confusion_matrix\n",
    "from keras.callbacks import EarlyStopping"
   ]
  },
  {
   "cell_type": "code",
   "execution_count": 14,
   "metadata": {},
   "outputs": [
    {
     "data": {
      "text/plain": [
       "(87719, 10)"
      ]
     },
     "execution_count": 14,
     "metadata": {},
     "output_type": "execute_result"
    }
   ],
   "source": [
    "y_train = to_categorical(y_train_labels)\n",
    "y_train.shape"
   ]
  },
  {
   "cell_type": "code",
   "execution_count": 15,
   "metadata": {},
   "outputs": [
    {
     "data": {
      "text/plain": [
       "(998, 10)"
      ]
     },
     "execution_count": 15,
     "metadata": {},
     "output_type": "execute_result"
    }
   ],
   "source": [
    "y_val = to_categorical(y_val_labels)\n",
    "y_val.shape"
   ]
  },
  {
   "cell_type": "code",
   "execution_count": 16,
   "metadata": {},
   "outputs": [
    {
     "data": {
      "text/plain": [
       "(999, 10)"
      ]
     },
     "execution_count": 16,
     "metadata": {},
     "output_type": "execute_result"
    }
   ],
   "source": [
    "y_test = to_categorical(y_test_labels)\n",
    "y_test.shape"
   ]
  },
  {
   "cell_type": "code",
   "execution_count": 17,
   "metadata": {},
   "outputs": [],
   "source": [
    "from sklearn.utils.class_weight import compute_class_weight"
   ]
  },
  {
   "cell_type": "code",
   "execution_count": 18,
   "metadata": {},
   "outputs": [],
   "source": [
    "# Instantiate the label encoder\n",
    "le = LabelEncoder()\n",
    "\n",
    "# Fit the label encoder to our label series\n",
    "le.fit(list(y_train_labels))\n",
    "\n",
    "# Create integer based labels Series\n",
    "y_integers = le.transform(list(y_train_labels))"
   ]
  },
  {
   "cell_type": "code",
   "execution_count": 19,
   "metadata": {},
   "outputs": [],
   "source": [
    "class_weights = compute_class_weight('balanced', np.unique(y_train_labels), y_train_labels)\n",
    "class_weights_dict = dict(zip(le.transform(list(le.classes_)), class_weights))"
   ]
  },
  {
   "cell_type": "code",
   "execution_count": 20,
   "metadata": {},
   "outputs": [],
   "source": [
    "# Parameters\n",
    "batch_size = 512\n",
    "epochs = 100\n",
    "num_classes = 10"
   ]
  },
  {
   "cell_type": "code",
   "execution_count": 21,
   "metadata": {},
   "outputs": [],
   "source": [
    "model = Sequential()\n",
    "model.add(Masking(mask_value=0., input_shape=(1, input_dim)))\n",
    "model.add(Bidirectional(LSTM(100)))\n",
    "# model.add(Dropout(0.2))\n",
    "# model.add(Dense(200, activation='relu'))\n",
    "# model.add(Dropout(0.2))\n",
    "model.add(Dense(100, activation='relu'))\n",
    "model.add(Dropout(0.2))\n",
    "model.add(Dense(10, activation='sigmoid'))"
   ]
  },
  {
   "cell_type": "code",
   "execution_count": 22,
   "metadata": {},
   "outputs": [
    {
     "name": "stdout",
     "output_type": "stream",
     "text": [
      "_________________________________________________________________\n",
      "Layer (type)                 Output Shape              Param #   \n",
      "=================================================================\n",
      "masking_1 (Masking)          (None, 1, 320)            0         \n",
      "_________________________________________________________________\n",
      "bidirectional_1 (Bidirection (None, 200)               336800    \n",
      "_________________________________________________________________\n",
      "dense_1 (Dense)              (None, 100)               20100     \n",
      "_________________________________________________________________\n",
      "dropout_1 (Dropout)          (None, 100)               0         \n",
      "_________________________________________________________________\n",
      "dense_2 (Dense)              (None, 10)                1010      \n",
      "=================================================================\n",
      "Total params: 357,910\n",
      "Trainable params: 357,910\n",
      "Non-trainable params: 0\n",
      "_________________________________________________________________\n",
      "None\n"
     ]
    }
   ],
   "source": [
    "model.compile(loss=keras.losses.categorical_crossentropy,\n",
    "              optimizer=keras.optimizers.Adam(),\n",
    "              metrics=['accuracy'])\n",
    "print(model.summary())"
   ]
  },
  {
   "cell_type": "code",
   "execution_count": 23,
   "metadata": {},
   "outputs": [],
   "source": [
    "from keras.utils.vis_utils import plot_model\n",
    "plot_model(model, to_file='model_plot.png', show_shapes=True, show_layer_names=True)"
   ]
  },
  {
   "cell_type": "code",
   "execution_count": 24,
   "metadata": {},
   "outputs": [],
   "source": [
    "earlystop = EarlyStopping(monitor='val_acc', min_delta = 0.0001, patience=5, verbose=1, mode='auto')\n",
    "callbacks_list = [earlystop]"
   ]
  },
  {
   "cell_type": "code",
   "execution_count": 25,
   "metadata": {
    "scrolled": true
   },
   "outputs": [
    {
     "name": "stdout",
     "output_type": "stream",
     "text": [
      "Train on 87719 samples, validate on 998 samples\n",
      "Epoch 1/100\n",
      "87719/87719 [==============================] - 9s 105us/step - loss: 1.7201 - acc: 0.5004 - val_loss: 1.1230 - val_acc: 0.6473\n",
      "Epoch 2/100\n",
      "87719/87719 [==============================] - 7s 79us/step - loss: 1.0466 - acc: 0.7011 - val_loss: 0.8685 - val_acc: 0.7144\n",
      "Epoch 3/100\n",
      "87719/87719 [==============================] - 7s 84us/step - loss: 0.8764 - acc: 0.7406 - val_loss: 0.7760 - val_acc: 0.7455\n",
      "Epoch 4/100\n",
      "87719/87719 [==============================] - 7s 83us/step - loss: 0.7961 - acc: 0.7621 - val_loss: 0.7274 - val_acc: 0.7756\n",
      "Epoch 5/100\n",
      "87719/87719 [==============================] - 7s 84us/step - loss: 0.7448 - acc: 0.7745 - val_loss: 0.7023 - val_acc: 0.7715\n",
      "Epoch 6/100\n",
      "87719/87719 [==============================] - 7s 83us/step - loss: 0.7188 - acc: 0.7815 - val_loss: 0.6948 - val_acc: 0.7735\n",
      "Epoch 7/100\n",
      "87719/87719 [==============================] - 7s 83us/step - loss: 0.6966 - acc: 0.7881 - val_loss: 0.6830 - val_acc: 0.7766\n",
      "Epoch 8/100\n",
      "87719/87719 [==============================] - 8s 91us/step - loss: 0.6767 - acc: 0.7926 - val_loss: 0.6705 - val_acc: 0.7846\n",
      "Epoch 9/100\n",
      "87719/87719 [==============================] - 7s 84us/step - loss: 0.6656 - acc: 0.7973 - val_loss: 0.6737 - val_acc: 0.7766\n",
      "Epoch 10/100\n",
      "87719/87719 [==============================] - 7s 83us/step - loss: 0.6533 - acc: 0.8015 - val_loss: 0.6593 - val_acc: 0.7836\n",
      "Epoch 11/100\n",
      "87719/87719 [==============================] - 7s 85us/step - loss: 0.6420 - acc: 0.8018 - val_loss: 0.6548 - val_acc: 0.7836\n",
      "Epoch 12/100\n",
      "87719/87719 [==============================] - 7s 83us/step - loss: 0.6335 - acc: 0.8066 - val_loss: 0.6544 - val_acc: 0.7816\n",
      "Epoch 13/100\n",
      "87719/87719 [==============================] - 7s 84us/step - loss: 0.6241 - acc: 0.8088 - val_loss: 0.6428 - val_acc: 0.7886\n",
      "Epoch 14/100\n",
      "87719/87719 [==============================] - 7s 84us/step - loss: 0.6175 - acc: 0.8096 - val_loss: 0.6422 - val_acc: 0.7916\n",
      "Epoch 15/100\n",
      "87719/87719 [==============================] - 7s 84us/step - loss: 0.6082 - acc: 0.8123 - val_loss: 0.6331 - val_acc: 0.7876\n",
      "Epoch 16/100\n",
      "87719/87719 [==============================] - 7s 84us/step - loss: 0.6010 - acc: 0.8146 - val_loss: 0.6291 - val_acc: 0.7876\n",
      "Epoch 17/100\n",
      "87719/87719 [==============================] - 8s 91us/step - loss: 0.5952 - acc: 0.8163 - val_loss: 0.6391 - val_acc: 0.7856\n",
      "Epoch 18/100\n",
      "87719/87719 [==============================] - 7s 85us/step - loss: 0.5903 - acc: 0.8171 - val_loss: 0.6356 - val_acc: 0.7966\n",
      "Epoch 19/100\n",
      "87719/87719 [==============================] - 7s 85us/step - loss: 0.5855 - acc: 0.8184 - val_loss: 0.6258 - val_acc: 0.7946\n",
      "Epoch 20/100\n",
      "87719/87719 [==============================] - 8s 86us/step - loss: 0.5802 - acc: 0.8200 - val_loss: 0.6430 - val_acc: 0.7836\n",
      "Epoch 21/100\n",
      "87719/87719 [==============================] - 7s 85us/step - loss: 0.5732 - acc: 0.8218 - val_loss: 0.6235 - val_acc: 0.8026\n",
      "Epoch 22/100\n",
      "87719/87719 [==============================] - 7s 85us/step - loss: 0.5702 - acc: 0.8224 - val_loss: 0.6310 - val_acc: 0.7986\n",
      "Epoch 23/100\n",
      "87719/87719 [==============================] - 7s 85us/step - loss: 0.5615 - acc: 0.8243 - val_loss: 0.6331 - val_acc: 0.7926\n",
      "Epoch 24/100\n",
      "87719/87719 [==============================] - 7s 84us/step - loss: 0.5593 - acc: 0.8247 - val_loss: 0.6260 - val_acc: 0.7976\n",
      "Epoch 25/100\n",
      "87719/87719 [==============================] - 7s 85us/step - loss: 0.5529 - acc: 0.8256 - val_loss: 0.6292 - val_acc: 0.7996\n",
      "Epoch 26/100\n",
      "87719/87719 [==============================] - 8s 91us/step - loss: 0.5513 - acc: 0.8252 - val_loss: 0.6282 - val_acc: 0.7956\n",
      "Epoch 00026: early stopping\n"
     ]
    },
    {
     "data": {
      "text/plain": [
       "<keras.callbacks.History at 0x5427ee7048>"
      ]
     },
     "execution_count": 25,
     "metadata": {},
     "output_type": "execute_result"
    }
   ],
   "source": [
    "model.fit(X_train, y_train, batch_size=batch_size, epochs=epochs, callbacks=callbacks_list,\n",
    "          validation_data=(X_val, y_val), class_weight = class_weights_dict, verbose=1)"
   ]
  },
  {
   "cell_type": "code",
   "execution_count": 26,
   "metadata": {},
   "outputs": [
    {
     "name": "stdout",
     "output_type": "stream",
     "text": [
      "Val loss: 0.6281728482915309\n",
      "Val accuracy: 0.7955911822452812\n"
     ]
    }
   ],
   "source": [
    "scores = model.evaluate(X_val, y_val, verbose=0)\n",
    "print('Val loss:', scores[0])\n",
    "print('Val accuracy:', scores[1])"
   ]
  },
  {
   "cell_type": "code",
   "execution_count": 27,
   "metadata": {},
   "outputs": [
    {
     "data": {
      "text/plain": [
       "array([[72,  2,  3,  2,  3,  1,  4,  4,  3,  0],\n",
       "       [ 1, 74,  2,  1,  0,  0,  0,  2,  1,  5],\n",
       "       [ 4,  5, 86,  3,  1,  0,  1,  1,  2,  0],\n",
       "       [12,  2,  1, 85,  0,  4,  1,  4,  0,  1],\n",
       "       [ 2,  2,  0,  1, 88,  1,  0,  1,  7,  5],\n",
       "       [ 1,  0,  0,  1,  0, 87,  1,  5,  1,  1],\n",
       "       [ 1,  4,  0,  1,  0,  3, 85,  8,  3,  4],\n",
       "       [ 3,  6,  4,  2,  0,  0,  5, 68,  3,  1],\n",
       "       [ 1,  3,  2,  3,  4,  1,  1,  3, 71,  5],\n",
       "       [ 3,  2,  2,  1,  4,  3,  1,  3,  9, 78]], dtype=int64)"
      ]
     },
     "execution_count": 27,
     "metadata": {},
     "output_type": "execute_result"
    }
   ],
   "source": [
    "y_pred = model.predict_classes(X_val)\n",
    "confusion_matrix(y_pred, y_val_labels)"
   ]
  },
  {
   "cell_type": "code",
   "execution_count": 28,
   "metadata": {},
   "outputs": [
    {
     "name": "stdout",
     "output_type": "stream",
     "text": [
      "Test loss: 0.7225807339691364\n",
      "Test accuracy: 0.7847847847847848\n"
     ]
    }
   ],
   "source": [
    "test_scores = model.evaluate(X_test, y_test, verbose=0)\n",
    "print('Test loss:', test_scores[0])\n",
    "print('Test accuracy:', test_scores[1])"
   ]
  },
  {
   "cell_type": "code",
   "execution_count": 29,
   "metadata": {},
   "outputs": [
    {
     "data": {
      "text/plain": [
       "array([[79,  2,  5,  3,  0,  1,  5,  6,  0,  2],\n",
       "       [ 2, 76,  2,  0,  1,  0,  0,  2,  4,  3],\n",
       "       [ 2,  3, 82,  1,  1,  2,  1,  3,  2,  1],\n",
       "       [ 3,  7,  3, 81,  0,  0,  0,  4,  0,  0],\n",
       "       [ 1,  2,  1,  3, 85,  0,  1,  3, 12,  3],\n",
       "       [ 0,  0,  1,  2,  0, 87,  2,  1,  0,  2],\n",
       "       [ 8,  4,  0,  5,  1,  2, 78,  8,  0,  3],\n",
       "       [ 4,  1,  1,  2,  3,  4,  6, 69,  2,  2],\n",
       "       [ 0,  3,  1,  0,  4,  0,  3,  0, 69,  6],\n",
       "       [ 1,  2,  4,  3,  5,  4,  4,  3, 11, 78]], dtype=int64)"
      ]
     },
     "execution_count": 29,
     "metadata": {},
     "output_type": "execute_result"
    }
   ],
   "source": [
    "y_pred = model.predict_classes(X_test)\n",
    "confusion_matrix(y_pred, y_test_labels)"
   ]
  },
  {
   "cell_type": "code",
   "execution_count": null,
   "metadata": {},
   "outputs": [],
   "source": []
  }
 ],
 "metadata": {
  "kernelspec": {
   "display_name": "Python 3",
   "language": "python",
   "name": "python3"
  },
  "language_info": {
   "codemirror_mode": {
    "name": "ipython",
    "version": 3
   },
   "file_extension": ".py",
   "mimetype": "text/x-python",
   "name": "python",
   "nbconvert_exporter": "python",
   "pygments_lexer": "ipython3",
   "version": "3.6.5"
  }
 },
 "nbformat": 4,
 "nbformat_minor": 2
}
