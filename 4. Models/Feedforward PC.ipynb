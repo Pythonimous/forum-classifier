{
 "cells": [
  {
   "cell_type": "code",
   "execution_count": 95,
   "metadata": {},
   "outputs": [],
   "source": [
    "import pickle as pkl\n",
    "import numpy as np"
   ]
  },
  {
   "cell_type": "code",
   "execution_count": 96,
   "metadata": {},
   "outputs": [],
   "source": [
    "input_dim = 320"
   ]
  },
  {
   "cell_type": "code",
   "execution_count": 97,
   "metadata": {},
   "outputs": [
    {
     "data": {
      "text/plain": [
       "(87719, 320)"
      ]
     },
     "execution_count": 97,
     "metadata": {},
     "output_type": "execute_result"
    }
   ],
   "source": [
    "with open('Train_'+str(input_dim)+'.pkl', 'rb') as tr:\n",
    "    X_train = pkl.load(tr)\n",
    "tr.close()\n",
    "# X_train = X_train.reshape(X_train.shape[0], X_train.shape[1], 1)\n",
    "X_train.shape"
   ]
  },
  {
   "cell_type": "code",
   "execution_count": 98,
   "metadata": {},
   "outputs": [
    {
     "data": {
      "text/plain": [
       "(998, 320)"
      ]
     },
     "execution_count": 98,
     "metadata": {},
     "output_type": "execute_result"
    }
   ],
   "source": [
    "with open('Val_'+str(input_dim)+'.pkl', 'rb') as val:\n",
    "    X_val = pkl.load(val)\n",
    "val.close()\n",
    "# X_val = X_val.reshape(X_val.shape[0], X_val.shape[1], 1)\n",
    "X_val.shape"
   ]
  },
  {
   "cell_type": "code",
   "execution_count": 99,
   "metadata": {},
   "outputs": [
    {
     "data": {
      "text/plain": [
       "(999, 320)"
      ]
     },
     "execution_count": 99,
     "metadata": {},
     "output_type": "execute_result"
    }
   ],
   "source": [
    "with open('Test_'+str(input_dim)+'.pkl', 'rb') as test:\n",
    "    X_test = pkl.load(test)\n",
    "test.close()\n",
    "# X_test = X_test.reshape(X_test.shape[0], X_test.shape[1], 1)\n",
    "X_test.shape"
   ]
  },
  {
   "cell_type": "code",
   "execution_count": 100,
   "metadata": {},
   "outputs": [
    {
     "data": {
      "text/plain": [
       "87719"
      ]
     },
     "execution_count": 100,
     "metadata": {},
     "output_type": "execute_result"
    }
   ],
   "source": [
    "with open('Train_labels.txt', 'r') as l:\n",
    "    train_labels = l.read().split('\\n')\n",
    "l.close()\n",
    "len(train_labels)"
   ]
  },
  {
   "cell_type": "code",
   "execution_count": 101,
   "metadata": {},
   "outputs": [
    {
     "data": {
      "text/plain": [
       "998"
      ]
     },
     "execution_count": 101,
     "metadata": {},
     "output_type": "execute_result"
    }
   ],
   "source": [
    "with open('Val_labels.txt', 'r') as v:\n",
    "    val_labels = v.read().split('\\n')\n",
    "v.close()\n",
    "len(val_labels)"
   ]
  },
  {
   "cell_type": "code",
   "execution_count": 102,
   "metadata": {},
   "outputs": [
    {
     "data": {
      "text/plain": [
       "999"
      ]
     },
     "execution_count": 102,
     "metadata": {},
     "output_type": "execute_result"
    }
   ],
   "source": [
    "with open('Test_labels.txt', 'r') as t:\n",
    "    test_labels = t.read().split('\\n')\n",
    "t.close()\n",
    "len(test_labels)"
   ]
  },
  {
   "cell_type": "code",
   "execution_count": 103,
   "metadata": {},
   "outputs": [
    {
     "data": {
      "text/plain": [
       "LabelEncoder()"
      ]
     },
     "execution_count": 103,
     "metadata": {},
     "output_type": "execute_result"
    }
   ],
   "source": [
    "from sklearn.preprocessing import LabelEncoder\n",
    "enc = LabelEncoder()\n",
    "enc.fit(train_labels)"
   ]
  },
  {
   "cell_type": "code",
   "execution_count": 104,
   "metadata": {},
   "outputs": [
    {
     "data": {
      "text/plain": [
       "(87719,)"
      ]
     },
     "execution_count": 104,
     "metadata": {},
     "output_type": "execute_result"
    }
   ],
   "source": [
    "y_train_labels = enc.transform(train_labels)\n",
    "y_train_labels.shape"
   ]
  },
  {
   "cell_type": "code",
   "execution_count": 105,
   "metadata": {},
   "outputs": [
    {
     "data": {
      "text/plain": [
       "(998,)"
      ]
     },
     "execution_count": 105,
     "metadata": {},
     "output_type": "execute_result"
    }
   ],
   "source": [
    "y_val_labels = enc.transform(val_labels)\n",
    "y_val_labels.shape"
   ]
  },
  {
   "cell_type": "code",
   "execution_count": 106,
   "metadata": {},
   "outputs": [
    {
     "data": {
      "text/plain": [
       "(999,)"
      ]
     },
     "execution_count": 106,
     "metadata": {},
     "output_type": "execute_result"
    }
   ],
   "source": [
    "y_test_labels = enc.transform(test_labels)\n",
    "y_test_labels.shape"
   ]
  },
  {
   "cell_type": "code",
   "execution_count": 107,
   "metadata": {},
   "outputs": [],
   "source": [
    "import keras\n",
    "from keras.models import Sequential\n",
    "from keras.layers import Dense\n",
    "from keras.utils import to_categorical\n",
    "from sklearn.preprocessing import LabelEncoder, StandardScaler\n",
    "from sklearn.metrics import classification_report, confusion_matrix\n",
    "from keras.callbacks import EarlyStopping"
   ]
  },
  {
   "cell_type": "code",
   "execution_count": 108,
   "metadata": {},
   "outputs": [
    {
     "data": {
      "text/plain": [
       "(87719, 10)"
      ]
     },
     "execution_count": 108,
     "metadata": {},
     "output_type": "execute_result"
    }
   ],
   "source": [
    "y_train = to_categorical(y_train_labels)\n",
    "y_train.shape"
   ]
  },
  {
   "cell_type": "code",
   "execution_count": 109,
   "metadata": {},
   "outputs": [
    {
     "data": {
      "text/plain": [
       "(998, 10)"
      ]
     },
     "execution_count": 109,
     "metadata": {},
     "output_type": "execute_result"
    }
   ],
   "source": [
    "y_val = to_categorical(y_val_labels)\n",
    "y_val.shape"
   ]
  },
  {
   "cell_type": "code",
   "execution_count": 110,
   "metadata": {},
   "outputs": [
    {
     "data": {
      "text/plain": [
       "(999, 10)"
      ]
     },
     "execution_count": 110,
     "metadata": {},
     "output_type": "execute_result"
    }
   ],
   "source": [
    "y_test = to_categorical(y_test_labels)\n",
    "y_test.shape"
   ]
  },
  {
   "cell_type": "code",
   "execution_count": 111,
   "metadata": {},
   "outputs": [],
   "source": [
    "from sklearn.utils.class_weight import compute_class_weight"
   ]
  },
  {
   "cell_type": "code",
   "execution_count": 112,
   "metadata": {},
   "outputs": [],
   "source": [
    "# Instantiate the label encoder\n",
    "le = LabelEncoder()\n",
    "\n",
    "# Fit the label encoder to our label series\n",
    "le.fit(list(y_train_labels))\n",
    "\n",
    "# Create integer based labels Series\n",
    "y_integers = le.transform(list(y_train_labels))"
   ]
  },
  {
   "cell_type": "code",
   "execution_count": 113,
   "metadata": {},
   "outputs": [],
   "source": [
    "class_weights = compute_class_weight('balanced', np.unique(y_train_labels), y_train_labels)\n",
    "class_weights_dict = dict(zip(le.transform(list(le.classes_)), class_weights))"
   ]
  },
  {
   "cell_type": "code",
   "execution_count": 290,
   "metadata": {},
   "outputs": [],
   "source": [
    "# Parameters\n",
    "batch_size = 512\n",
    "epochs = 100\n",
    "num_classes = 10"
   ]
  },
  {
   "cell_type": "code",
   "execution_count": 291,
   "metadata": {},
   "outputs": [],
   "source": [
    "model = Sequential()\n",
    "model.add(Dense(16, activation='relu', input_shape=(320,)))\n",
    "model.add(Dense(16, activation='relu'))\n",
    "model.add(Dense(16, activation='relu'))\n",
    "model.add(Dense(num_classes, activation='softmax'))"
   ]
  },
  {
   "cell_type": "code",
   "execution_count": 292,
   "metadata": {},
   "outputs": [
    {
     "name": "stdout",
     "output_type": "stream",
     "text": [
      "_________________________________________________________________\n",
      "Layer (type)                 Output Shape              Param #   \n",
      "=================================================================\n",
      "dense_92 (Dense)             (None, 16)                5136      \n",
      "_________________________________________________________________\n",
      "dense_93 (Dense)             (None, 16)                272       \n",
      "_________________________________________________________________\n",
      "dense_94 (Dense)             (None, 16)                272       \n",
      "_________________________________________________________________\n",
      "dense_95 (Dense)             (None, 10)                170       \n",
      "=================================================================\n",
      "Total params: 5,850\n",
      "Trainable params: 5,850\n",
      "Non-trainable params: 0\n",
      "_________________________________________________________________\n",
      "None\n"
     ]
    }
   ],
   "source": [
    "model.compile(loss=keras.losses.categorical_crossentropy,\n",
    "              optimizer=keras.optimizers.Adam(),\n",
    "              metrics=['accuracy'])\n",
    "print(model.summary())"
   ]
  },
  {
   "cell_type": "code",
   "execution_count": 293,
   "metadata": {},
   "outputs": [],
   "source": [
    "from keras.utils.vis_utils import plot_model\n",
    "plot_model(model, to_file='model_plot feedforward.png', show_shapes=True, show_layer_names=True)"
   ]
  },
  {
   "cell_type": "code",
   "execution_count": 294,
   "metadata": {},
   "outputs": [],
   "source": [
    "earlystop = EarlyStopping(monitor='val_acc', min_delta = 0.0001, patience=5, verbose=1, mode='auto')\n",
    "callbacks_list = [earlystop]"
   ]
  },
  {
   "cell_type": "code",
   "execution_count": 295,
   "metadata": {
    "scrolled": true
   },
   "outputs": [
    {
     "name": "stdout",
     "output_type": "stream",
     "text": [
      "Train on 87719 samples, validate on 998 samples\n",
      "Epoch 1/100\n",
      "87719/87719 [==============================] - 3s 32us/step - loss: 1.9987 - acc: 0.4797 - val_loss: 1.5353 - val_acc: 0.4810\n",
      "Epoch 2/100\n",
      "87719/87719 [==============================] - 1s 11us/step - loss: 1.3588 - acc: 0.6499 - val_loss: 1.1764 - val_acc: 0.6032\n",
      "Epoch 3/100\n",
      "87719/87719 [==============================] - 1s 11us/step - loss: 1.1296 - acc: 0.6941 - val_loss: 1.0432 - val_acc: 0.6593\n",
      "Epoch 4/100\n",
      "87719/87719 [==============================] - 1s 10us/step - loss: 1.0019 - acc: 0.7244 - val_loss: 0.9529 - val_acc: 0.6974\n",
      "Epoch 5/100\n",
      "87719/87719 [==============================] - 1s 10us/step - loss: 0.9165 - acc: 0.7442 - val_loss: 0.8819 - val_acc: 0.7275\n",
      "Epoch 6/100\n",
      "87719/87719 [==============================] - 1s 10us/step - loss: 0.8590 - acc: 0.7568 - val_loss: 0.8418 - val_acc: 0.7345\n",
      "Epoch 7/100\n",
      "87719/87719 [==============================] - 1s 10us/step - loss: 0.8198 - acc: 0.7660 - val_loss: 0.8164 - val_acc: 0.7455\n",
      "Epoch 8/100\n",
      "87719/87719 [==============================] - 1s 10us/step - loss: 0.7931 - acc: 0.7699 - val_loss: 0.8087 - val_acc: 0.7525\n",
      "Epoch 9/100\n",
      "87719/87719 [==============================] - 1s 10us/step - loss: 0.7749 - acc: 0.7740 - val_loss: 0.7822 - val_acc: 0.7525\n",
      "Epoch 10/100\n",
      "87719/87719 [==============================] - 1s 11us/step - loss: 0.7562 - acc: 0.7777 - val_loss: 0.7667 - val_acc: 0.7575\n",
      "Epoch 11/100\n",
      "87719/87719 [==============================] - 1s 10us/step - loss: 0.7393 - acc: 0.7800 - val_loss: 0.7666 - val_acc: 0.7595\n",
      "Epoch 12/100\n",
      "87719/87719 [==============================] - 1s 10us/step - loss: 0.7282 - acc: 0.7840 - val_loss: 0.7470 - val_acc: 0.7635\n",
      "Epoch 13/100\n",
      "87719/87719 [==============================] - 1s 10us/step - loss: 0.7182 - acc: 0.7857 - val_loss: 0.7423 - val_acc: 0.7685\n",
      "Epoch 14/100\n",
      "87719/87719 [==============================] - 1s 11us/step - loss: 0.7091 - acc: 0.7882 - val_loss: 0.7326 - val_acc: 0.7645\n",
      "Epoch 15/100\n",
      "87719/87719 [==============================] - 1s 10us/step - loss: 0.6993 - acc: 0.7906 - val_loss: 0.7340 - val_acc: 0.7655\n",
      "Epoch 16/100\n",
      "87719/87719 [==============================] - 1s 12us/step - loss: 0.6930 - acc: 0.7913 - val_loss: 0.7283 - val_acc: 0.7675\n",
      "Epoch 17/100\n",
      "87719/87719 [==============================] - 1s 12us/step - loss: 0.6861 - acc: 0.7939 - val_loss: 0.7073 - val_acc: 0.7715\n",
      "Epoch 18/100\n",
      "87719/87719 [==============================] - 1s 11us/step - loss: 0.6798 - acc: 0.7953 - val_loss: 0.7055 - val_acc: 0.7776\n",
      "Epoch 19/100\n",
      "87719/87719 [==============================] - 1s 11us/step - loss: 0.6749 - acc: 0.7960 - val_loss: 0.7094 - val_acc: 0.7816\n",
      "Epoch 20/100\n",
      "87719/87719 [==============================] - 1s 12us/step - loss: 0.6697 - acc: 0.7980 - val_loss: 0.6934 - val_acc: 0.7776\n",
      "Epoch 21/100\n",
      "87719/87719 [==============================] - 1s 11us/step - loss: 0.6650 - acc: 0.7986 - val_loss: 0.7110 - val_acc: 0.7766\n",
      "Epoch 22/100\n",
      "87719/87719 [==============================] - 1s 12us/step - loss: 0.6608 - acc: 0.7994 - val_loss: 0.7028 - val_acc: 0.7735\n",
      "Epoch 23/100\n",
      "87719/87719 [==============================] - 1s 11us/step - loss: 0.6594 - acc: 0.8006 - val_loss: 0.7016 - val_acc: 0.7806\n",
      "Epoch 24/100\n",
      "87719/87719 [==============================] - 1s 14us/step - loss: 0.6538 - acc: 0.8017 - val_loss: 0.7044 - val_acc: 0.7846\n",
      "Epoch 25/100\n",
      "87719/87719 [==============================] - 1s 15us/step - loss: 0.6505 - acc: 0.8021 - val_loss: 0.6852 - val_acc: 0.7836\n",
      "Epoch 26/100\n",
      "87719/87719 [==============================] - 1s 12us/step - loss: 0.6486 - acc: 0.8034 - val_loss: 0.6913 - val_acc: 0.7816\n",
      "Epoch 27/100\n",
      "87719/87719 [==============================] - 1s 11us/step - loss: 0.6449 - acc: 0.8037 - val_loss: 0.6941 - val_acc: 0.7766\n",
      "Epoch 28/100\n",
      "87719/87719 [==============================] - 1s 12us/step - loss: 0.6425 - acc: 0.8044 - val_loss: 0.6935 - val_acc: 0.7876\n",
      "Epoch 29/100\n",
      "87719/87719 [==============================] - 1s 11us/step - loss: 0.6382 - acc: 0.8057 - val_loss: 0.6871 - val_acc: 0.7836\n",
      "Epoch 30/100\n",
      "87719/87719 [==============================] - 1s 12us/step - loss: 0.6368 - acc: 0.8064 - val_loss: 0.6792 - val_acc: 0.7846\n",
      "Epoch 31/100\n",
      "87719/87719 [==============================] - 1s 11us/step - loss: 0.6365 - acc: 0.8057 - val_loss: 0.6808 - val_acc: 0.7896\n",
      "Epoch 32/100\n",
      "87719/87719 [==============================] - 1s 11us/step - loss: 0.6332 - acc: 0.8072 - val_loss: 0.6774 - val_acc: 0.7866\n",
      "Epoch 33/100\n",
      "87719/87719 [==============================] - 1s 10us/step - loss: 0.6304 - acc: 0.8073 - val_loss: 0.6846 - val_acc: 0.7876\n",
      "Epoch 34/100\n",
      "87719/87719 [==============================] - 1s 14us/step - loss: 0.6295 - acc: 0.8080 - val_loss: 0.6862 - val_acc: 0.7906\n",
      "Epoch 35/100\n",
      "87719/87719 [==============================] - 1s 12us/step - loss: 0.6268 - acc: 0.8087 - val_loss: 0.6793 - val_acc: 0.7896\n",
      "Epoch 36/100\n",
      "87719/87719 [==============================] - 1s 11us/step - loss: 0.6246 - acc: 0.8093 - val_loss: 0.6781 - val_acc: 0.7966\n",
      "Epoch 37/100\n",
      "87719/87719 [==============================] - 1s 11us/step - loss: 0.6236 - acc: 0.8095 - val_loss: 0.6808 - val_acc: 0.7926\n",
      "Epoch 38/100\n",
      "87719/87719 [==============================] - 1s 10us/step - loss: 0.6247 - acc: 0.8080 - val_loss: 0.6892 - val_acc: 0.7956\n",
      "Epoch 39/100\n",
      "87719/87719 [==============================] - 1s 13us/step - loss: 0.6208 - acc: 0.8105 - val_loss: 0.6798 - val_acc: 0.7936\n",
      "Epoch 40/100\n",
      "87719/87719 [==============================] - 1s 12us/step - loss: 0.6211 - acc: 0.8096 - val_loss: 0.6662 - val_acc: 0.7966\n",
      "Epoch 41/100\n",
      "87719/87719 [==============================] - 1s 15us/step - loss: 0.6185 - acc: 0.8096 - val_loss: 0.6696 - val_acc: 0.7956\n",
      "Epoch 00041: early stopping\n"
     ]
    },
    {
     "data": {
      "text/plain": [
       "<keras.callbacks.History at 0xd7f5d79b0>"
      ]
     },
     "execution_count": 295,
     "metadata": {},
     "output_type": "execute_result"
    }
   ],
   "source": [
    "model.fit(X_train, y_train, batch_size=batch_size, epochs=epochs, callbacks=callbacks_list,\n",
    "          validation_data=(X_val, y_val), class_weight = class_weights_dict, verbose=1)"
   ]
  },
  {
   "cell_type": "code",
   "execution_count": 296,
   "metadata": {},
   "outputs": [
    {
     "name": "stdout",
     "output_type": "stream",
     "text": [
      "Val loss: 0.6696155535911988\n",
      "Val accuracy: 0.7955911823647295\n"
     ]
    }
   ],
   "source": [
    "scores = model.evaluate(X_val, y_val, verbose=0)\n",
    "print('Val loss:', scores[0])\n",
    "print('Val accuracy:', scores[1])"
   ]
  },
  {
   "cell_type": "code",
   "execution_count": 297,
   "metadata": {},
   "outputs": [
    {
     "data": {
      "text/plain": [
       "array([[68,  1,  3,  2,  0,  0,  5,  3,  2,  0],\n",
       "       [ 4, 81,  3,  7,  2,  0,  1,  4,  2,  5],\n",
       "       [ 6,  4, 84,  2,  1,  0,  1,  2,  1,  0],\n",
       "       [ 9,  2,  0, 80,  0,  2,  2,  4,  0,  2],\n",
       "       [ 1,  2,  1,  1, 86,  2,  0,  1,  7,  5],\n",
       "       [ 0,  1,  0,  0,  1, 92,  1,  5,  1,  2],\n",
       "       [ 2,  1,  0,  2,  0,  1, 78,  4,  2,  2],\n",
       "       [ 5,  5,  5,  3,  0,  0,  5, 70,  1,  2],\n",
       "       [ 1,  2,  1,  3,  5,  1,  4,  4, 75,  2],\n",
       "       [ 4,  1,  3,  0,  5,  2,  2,  2,  9, 80]], dtype=int64)"
      ]
     },
     "execution_count": 297,
     "metadata": {},
     "output_type": "execute_result"
    }
   ],
   "source": [
    "y_pred = model.predict_classes(X_val)\n",
    "confusion_matrix(y_pred, y_val_labels)"
   ]
  },
  {
   "cell_type": "code",
   "execution_count": 298,
   "metadata": {},
   "outputs": [
    {
     "name": "stdout",
     "output_type": "stream",
     "text": [
      "Test loss: 0.7781983764769437\n",
      "Test accuracy: 0.7597597597597597\n"
     ]
    }
   ],
   "source": [
    "test_scores = model.evaluate(X_test, y_test, verbose=0)\n",
    "print('Test loss:', test_scores[0])\n",
    "print('Test accuracy:', test_scores[1])"
   ]
  },
  {
   "cell_type": "code",
   "execution_count": 299,
   "metadata": {},
   "outputs": [
    {
     "data": {
      "text/plain": [
       "array([[79,  2,  4,  3,  2,  1,  6,  6,  0,  2],\n",
       "       [ 5, 78,  3,  1,  0,  2,  0,  5,  5,  6],\n",
       "       [ 3,  3, 81,  1,  2,  0,  2,  4,  1,  1],\n",
       "       [ 3,  6,  3, 76,  0,  0,  3,  5,  0,  0],\n",
       "       [ 1,  2,  0,  1, 80,  1,  0,  1, 12,  4],\n",
       "       [ 1,  0,  1,  2,  0, 87,  4,  2,  0,  3],\n",
       "       [ 3,  1,  0,  6,  0,  2, 72,  5,  0,  1],\n",
       "       [ 4,  1,  2,  7,  0,  4,  7, 63,  3,  3],\n",
       "       [ 0,  5,  3,  0,  6,  0,  3,  0, 69,  6],\n",
       "       [ 1,  2,  3,  3, 10,  3,  3,  8, 10, 74]], dtype=int64)"
      ]
     },
     "execution_count": 299,
     "metadata": {},
     "output_type": "execute_result"
    }
   ],
   "source": [
    "y_pred = model.predict_classes(X_test)\n",
    "confusion_matrix(y_pred, y_test_labels)"
   ]
  },
  {
   "cell_type": "code",
   "execution_count": null,
   "metadata": {},
   "outputs": [],
   "source": []
  }
 ],
 "metadata": {
  "kernelspec": {
   "display_name": "Python 3",
   "language": "python",
   "name": "python3"
  },
  "language_info": {
   "codemirror_mode": {
    "name": "ipython",
    "version": 3
   },
   "file_extension": ".py",
   "mimetype": "text/x-python",
   "name": "python",
   "nbconvert_exporter": "python",
   "pygments_lexer": "ipython3",
   "version": "3.6.5"
  }
 },
 "nbformat": 4,
 "nbformat_minor": 2
}
