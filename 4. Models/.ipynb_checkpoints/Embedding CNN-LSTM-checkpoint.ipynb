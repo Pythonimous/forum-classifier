{
 "cells": [
  {
   "cell_type": "code",
   "execution_count": 46,
   "metadata": {},
   "outputs": [],
   "source": [
    "import pickle as pkl\n",
    "import numpy as np"
   ]
  },
  {
   "cell_type": "code",
   "execution_count": 47,
   "metadata": {},
   "outputs": [],
   "source": [
    "input_dim = 300"
   ]
  },
  {
   "cell_type": "code",
   "execution_count": 48,
   "metadata": {},
   "outputs": [],
   "source": [
    "with open('Train_lemmas.txt', 'r', encoding='utf-8') as t:\n",
    "    train_lem = t.read().split('\\n')\n",
    "t.close()"
   ]
  },
  {
   "cell_type": "code",
   "execution_count": 49,
   "metadata": {},
   "outputs": [],
   "source": [
    "with open('Val_lemmas.txt', 'r', encoding='utf-8') as t:\n",
    "    val_lem = t.read().split('\\n')\n",
    "t.close()"
   ]
  },
  {
   "cell_type": "code",
   "execution_count": 50,
   "metadata": {},
   "outputs": [],
   "source": [
    "with open('Test_lemmas.txt', 'r', encoding='utf-8') as t:\n",
    "    test_lem = t.read().split('\\n')\n",
    "t.close()"
   ]
  },
  {
   "cell_type": "code",
   "execution_count": 51,
   "metadata": {},
   "outputs": [
    {
     "data": {
      "text/plain": [
       "121484"
      ]
     },
     "execution_count": 51,
     "metadata": {},
     "output_type": "execute_result"
    }
   ],
   "source": [
    "train_lem_count = len(set(' '.join(train_lem).split()))\n",
    "train_lem_count"
   ]
  },
  {
   "cell_type": "code",
   "execution_count": 52,
   "metadata": {},
   "outputs": [
    {
     "data": {
      "text/plain": [
       "38.99672146077137"
      ]
     },
     "execution_count": 52,
     "metadata": {},
     "output_type": "execute_result"
    }
   ],
   "source": [
    "sum([len(a.split()) for a in train_lem])/len(train_lem)"
   ]
  },
  {
   "cell_type": "code",
   "execution_count": 53,
   "metadata": {},
   "outputs": [],
   "source": [
    "with open('Train_twenty.pkl', 'rb') as tr:\n",
    "    X_train_20 = pkl.load(tr)\n",
    "tr.close()"
   ]
  },
  {
   "cell_type": "code",
   "execution_count": 54,
   "metadata": {},
   "outputs": [],
   "source": [
    "with open('Val_twenty.pkl', 'rb') as val:\n",
    "    X_val_20 = pkl.load(val)\n",
    "val.close()"
   ]
  },
  {
   "cell_type": "code",
   "execution_count": 55,
   "metadata": {},
   "outputs": [],
   "source": [
    "with open('Test_twenty.pkl', 'rb') as test:\n",
    "    X_test_20 = pkl.load(test)\n",
    "test.close()"
   ]
  },
  {
   "cell_type": "code",
   "execution_count": 56,
   "metadata": {},
   "outputs": [
    {
     "data": {
      "text/plain": [
       "87844"
      ]
     },
     "execution_count": 56,
     "metadata": {},
     "output_type": "execute_result"
    }
   ],
   "source": [
    "with open('Train_labels.txt', 'r') as l:\n",
    "    train_labels = l.read().split('\\n')\n",
    "l.close()\n",
    "len(train_labels)"
   ]
  },
  {
   "cell_type": "code",
   "execution_count": 57,
   "metadata": {},
   "outputs": [
    {
     "data": {
      "text/plain": [
       "1000"
      ]
     },
     "execution_count": 57,
     "metadata": {},
     "output_type": "execute_result"
    }
   ],
   "source": [
    "with open('Val_labels.txt', 'r') as v:\n",
    "    val_labels = v.read().split('\\n')\n",
    "v.close()\n",
    "len(val_labels)"
   ]
  },
  {
   "cell_type": "code",
   "execution_count": 58,
   "metadata": {},
   "outputs": [
    {
     "data": {
      "text/plain": [
       "1000"
      ]
     },
     "execution_count": 58,
     "metadata": {},
     "output_type": "execute_result"
    }
   ],
   "source": [
    "with open('Test_labels.txt', 'r') as t:\n",
    "    test_labels = t.read().split('\\n')\n",
    "t.close()\n",
    "len(test_labels)"
   ]
  },
  {
   "cell_type": "code",
   "execution_count": 59,
   "metadata": {},
   "outputs": [
    {
     "data": {
      "text/plain": [
       "LabelEncoder()"
      ]
     },
     "execution_count": 59,
     "metadata": {},
     "output_type": "execute_result"
    }
   ],
   "source": [
    "from sklearn.preprocessing import LabelEncoder\n",
    "enc = LabelEncoder()\n",
    "enc.fit(train_labels)"
   ]
  },
  {
   "cell_type": "code",
   "execution_count": 60,
   "metadata": {},
   "outputs": [
    {
     "data": {
      "text/plain": [
       "(87844,)"
      ]
     },
     "execution_count": 60,
     "metadata": {},
     "output_type": "execute_result"
    }
   ],
   "source": [
    "y_train_labels = enc.transform(train_labels)\n",
    "y_train_labels.shape"
   ]
  },
  {
   "cell_type": "code",
   "execution_count": 61,
   "metadata": {},
   "outputs": [
    {
     "data": {
      "text/plain": [
       "(1000,)"
      ]
     },
     "execution_count": 61,
     "metadata": {},
     "output_type": "execute_result"
    }
   ],
   "source": [
    "y_val_labels = enc.transform(val_labels)\n",
    "y_val_labels.shape"
   ]
  },
  {
   "cell_type": "code",
   "execution_count": 62,
   "metadata": {},
   "outputs": [
    {
     "data": {
      "text/plain": [
       "(1000,)"
      ]
     },
     "execution_count": 62,
     "metadata": {},
     "output_type": "execute_result"
    }
   ],
   "source": [
    "y_test_labels = enc.transform(test_labels)\n",
    "y_test_labels.shape"
   ]
  },
  {
   "cell_type": "code",
   "execution_count": 63,
   "metadata": {},
   "outputs": [],
   "source": [
    "import keras\n",
    "from keras import Model, metrics\n",
    "from keras.models import Sequential\n",
    "from keras.layers import Embedding, Dense, Dropout, Flatten, LSTM, Bidirectional, Input, Concatenate, Conv1D, MaxPooling1D\n",
    "from keras.layers.advanced_activations import LeakyReLU\n",
    "from keras.utils import to_categorical\n",
    "from keras.callbacks import EarlyStopping\n",
    "from keras.preprocessing.text import Tokenizer\n",
    "from keras.preprocessing.sequence import pad_sequences\n",
    "\n",
    "\n",
    "from sklearn.preprocessing import LabelEncoder, StandardScaler\n",
    "from sklearn.metrics import classification_report, confusion_matrix"
   ]
  },
  {
   "cell_type": "code",
   "execution_count": 64,
   "metadata": {},
   "outputs": [
    {
     "data": {
      "text/plain": [
       "(87844, 10)"
      ]
     },
     "execution_count": 64,
     "metadata": {},
     "output_type": "execute_result"
    }
   ],
   "source": [
    "y_train = to_categorical(y_train_labels)\n",
    "y_train.shape"
   ]
  },
  {
   "cell_type": "code",
   "execution_count": 65,
   "metadata": {},
   "outputs": [
    {
     "data": {
      "text/plain": [
       "(1000, 10)"
      ]
     },
     "execution_count": 65,
     "metadata": {},
     "output_type": "execute_result"
    }
   ],
   "source": [
    "y_val = to_categorical(y_val_labels)\n",
    "y_val.shape"
   ]
  },
  {
   "cell_type": "code",
   "execution_count": 66,
   "metadata": {},
   "outputs": [
    {
     "data": {
      "text/plain": [
       "(1000, 10)"
      ]
     },
     "execution_count": 66,
     "metadata": {},
     "output_type": "execute_result"
    }
   ],
   "source": [
    "y_test = to_categorical(y_test_labels)\n",
    "y_test.shape"
   ]
  },
  {
   "cell_type": "code",
   "execution_count": 67,
   "metadata": {},
   "outputs": [],
   "source": [
    "num_words = 10000\n",
    "#num_words = train_lem_count"
   ]
  },
  {
   "cell_type": "code",
   "execution_count": 68,
   "metadata": {},
   "outputs": [],
   "source": [
    "tokenizer = Tokenizer(num_words=num_words)\n",
    "tokenizer.fit_on_texts(train_lem)"
   ]
  },
  {
   "cell_type": "code",
   "execution_count": 69,
   "metadata": {},
   "outputs": [],
   "source": [
    "X_train_300 = tokenizer.texts_to_sequences(train_lem)\n",
    "X_val_300 = tokenizer.texts_to_sequences(val_lem)\n",
    "X_test_300 = tokenizer.texts_to_sequences(test_lem)"
   ]
  },
  {
   "cell_type": "code",
   "execution_count": 70,
   "metadata": {},
   "outputs": [],
   "source": [
    "vocab_size = len(tokenizer.word_index) + 1  # Adding 1 because of reserved 0 index\n",
    "embedding_size = 300"
   ]
  },
  {
   "cell_type": "code",
   "execution_count": 71,
   "metadata": {},
   "outputs": [],
   "source": [
    "maxlen = 100\n",
    "\n",
    "X_train_300 = pad_sequences(X_train_300, padding='post', maxlen=maxlen)\n",
    "X_val_300 = pad_sequences(X_val_300, padding='post', maxlen=maxlen)\n",
    "X_test_300 = pad_sequences(X_test_300, padding='post', maxlen=maxlen)"
   ]
  },
  {
   "cell_type": "code",
   "execution_count": 72,
   "metadata": {},
   "outputs": [],
   "source": [
    "from sklearn.utils.class_weight import compute_class_weight"
   ]
  },
  {
   "cell_type": "code",
   "execution_count": 73,
   "metadata": {},
   "outputs": [],
   "source": [
    "# Instantiate the label encoder\n",
    "le = LabelEncoder()\n",
    "\n",
    "# Fit the label encoder to our label series\n",
    "le.fit(list(y_train_labels))\n",
    "\n",
    "# Create integer based labels Series\n",
    "y_integers = le.transform(list(y_train_labels))"
   ]
  },
  {
   "cell_type": "code",
   "execution_count": 74,
   "metadata": {},
   "outputs": [],
   "source": [
    "class_weights = compute_class_weight('balanced', np.unique(y_train_labels), y_train_labels)\n",
    "class_weights_dict = dict(zip(le.transform(list(le.classes_)), class_weights))"
   ]
  },
  {
   "cell_type": "code",
   "execution_count": 75,
   "metadata": {},
   "outputs": [],
   "source": [
    "# Parameters\n",
    "batch_size = 512\n",
    "epochs = 100\n",
    "num_classes = 10"
   ]
  },
  {
   "cell_type": "code",
   "execution_count": 76,
   "metadata": {},
   "outputs": [],
   "source": [
    "inputA = Input(shape=(maxlen,))\n",
    "inputB = Input(shape=(20,))"
   ]
  },
  {
   "cell_type": "code",
   "execution_count": 78,
   "metadata": {},
   "outputs": [],
   "source": [
    "emb = Embedding(output_dim=embedding_size, input_dim=num_words, input_length=maxlen, trainable = True)(inputA)\n",
    "x = Conv1D(26, 10, activation='relu')(emb)\n",
    "x = MaxPooling1D(2)(x)\n",
    "x = LSTM(200)(x)\n",
    "x = Dropout(0.2)(x)\n",
    "x = Model(inputs = inputA, outputs = x)"
   ]
  },
  {
   "cell_type": "code",
   "execution_count": 79,
   "metadata": {},
   "outputs": [],
   "source": [
    "y = Dense(20, activation=\"relu\")(inputB)\n",
    "y = Dense(10, activation=\"relu\")(y)\n",
    "y = Model(inputs=inputB, outputs = y)"
   ]
  },
  {
   "cell_type": "code",
   "execution_count": 80,
   "metadata": {},
   "outputs": [],
   "source": [
    "combined = Concatenate()([x.output, y.output])"
   ]
  },
  {
   "cell_type": "code",
   "execution_count": 81,
   "metadata": {},
   "outputs": [],
   "source": [
    "z = Dense(200, activation='relu')(combined)\n",
    "z = Dense(100, activation='relu')(combined)\n",
    "z = Dense(num_classes, activation='softmax')(z)"
   ]
  },
  {
   "cell_type": "code",
   "execution_count": 82,
   "metadata": {},
   "outputs": [],
   "source": [
    "model = Model(inputs =[x.input, y.input], outputs = z)"
   ]
  },
  {
   "cell_type": "code",
   "execution_count": 83,
   "metadata": {},
   "outputs": [
    {
     "name": "stdout",
     "output_type": "stream",
     "text": [
      "Model: \"model_6\"\n",
      "__________________________________________________________________________________________________\n",
      "Layer (type)                    Output Shape         Param #     Connected to                     \n",
      "==================================================================================================\n",
      "input_5 (InputLayer)            (None, 100)          0                                            \n",
      "__________________________________________________________________________________________________\n",
      "embedding_6 (Embedding)         (None, 100, 300)     3000000     input_5[0][0]                    \n",
      "__________________________________________________________________________________________________\n",
      "conv1d_4 (Conv1D)               (None, 91, 26)       78026       embedding_6[0][0]                \n",
      "__________________________________________________________________________________________________\n",
      "max_pooling1d_2 (MaxPooling1D)  (None, 45, 26)       0           conv1d_4[0][0]                   \n",
      "__________________________________________________________________________________________________\n",
      "input_6 (InputLayer)            (None, 20)           0                                            \n",
      "__________________________________________________________________________________________________\n",
      "lstm_6 (LSTM)                   (None, 200)          181600      max_pooling1d_2[0][0]            \n",
      "__________________________________________________________________________________________________\n",
      "dense_6 (Dense)                 (None, 20)           420         input_6[0][0]                    \n",
      "__________________________________________________________________________________________________\n",
      "dropout_2 (Dropout)             (None, 200)          0           lstm_6[0][0]                     \n",
      "__________________________________________________________________________________________________\n",
      "dense_7 (Dense)                 (None, 10)           210         dense_6[0][0]                    \n",
      "__________________________________________________________________________________________________\n",
      "concatenate_2 (Concatenate)     (None, 210)          0           dropout_2[0][0]                  \n",
      "                                                                 dense_7[0][0]                    \n",
      "__________________________________________________________________________________________________\n",
      "dense_9 (Dense)                 (None, 100)          21100       concatenate_2[0][0]              \n",
      "__________________________________________________________________________________________________\n",
      "dense_10 (Dense)                (None, 10)           1010        dense_9[0][0]                    \n",
      "==================================================================================================\n",
      "Total params: 3,282,366\n",
      "Trainable params: 3,282,366\n",
      "Non-trainable params: 0\n",
      "__________________________________________________________________________________________________\n",
      "None\n"
     ]
    }
   ],
   "source": [
    "model.compile(loss=keras.losses.categorical_crossentropy,\n",
    "              optimizer=keras.optimizers.Adam(),\n",
    "              metrics=[metrics.categorical_accuracy])\n",
    "print(model.summary())"
   ]
  },
  {
   "cell_type": "code",
   "execution_count": 84,
   "metadata": {},
   "outputs": [],
   "source": [
    "earlystop = EarlyStopping(monitor='val_categorical_accuracy', min_delta = 0.0001, patience=5, verbose=1, mode='auto')\n",
    "callbacks_list = [earlystop]"
   ]
  },
  {
   "cell_type": "code",
   "execution_count": 85,
   "metadata": {
    "scrolled": true
   },
   "outputs": [
    {
     "name": "stdout",
     "output_type": "stream",
     "text": [
      "Train on 87844 samples, validate on 1000 samples\n",
      "Epoch 1/100\n",
      "87844/87844 [==============================] - 188s 2ms/step - loss: 1.9640 - categorical_accuracy: 0.2642 - val_loss: 1.4439 - val_categorical_accuracy: 0.4930\n",
      "Epoch 2/100\n",
      "87844/87844 [==============================] - 186s 2ms/step - loss: 1.1053 - categorical_accuracy: 0.6974 - val_loss: 0.8991 - val_categorical_accuracy: 0.7130\n",
      "Epoch 3/100\n",
      "87844/87844 [==============================] - 186s 2ms/step - loss: 0.6690 - categorical_accuracy: 0.8393 - val_loss: 0.8042 - val_categorical_accuracy: 0.7670\n",
      "Epoch 4/100\n",
      "87844/87844 [==============================] - 186s 2ms/step - loss: 0.4746 - categorical_accuracy: 0.8832 - val_loss: 0.7318 - val_categorical_accuracy: 0.7820\n",
      "Epoch 5/100\n",
      "87844/87844 [==============================] - 186s 2ms/step - loss: 0.3652 - categorical_accuracy: 0.9080 - val_loss: 0.8509 - val_categorical_accuracy: 0.7870\n",
      "Epoch 6/100\n",
      "87844/87844 [==============================] - 186s 2ms/step - loss: 0.2800 - categorical_accuracy: 0.9241 - val_loss: 0.7286 - val_categorical_accuracy: 0.8110\n",
      "Epoch 7/100\n",
      "87844/87844 [==============================] - 185s 2ms/step - loss: 0.2306 - categorical_accuracy: 0.9381 - val_loss: 0.8448 - val_categorical_accuracy: 0.7980\n",
      "Epoch 8/100\n",
      "87844/87844 [==============================] - 185s 2ms/step - loss: 0.1878 - categorical_accuracy: 0.9476 - val_loss: 0.8727 - val_categorical_accuracy: 0.7980\n",
      "Epoch 9/100\n",
      "87844/87844 [==============================] - 185s 2ms/step - loss: 0.1591 - categorical_accuracy: 0.9553 - val_loss: 0.8352 - val_categorical_accuracy: 0.8030\n",
      "Epoch 10/100\n",
      "87844/87844 [==============================] - 185s 2ms/step - loss: 0.1333 - categorical_accuracy: 0.9652 - val_loss: 1.0178 - val_categorical_accuracy: 0.7820\n",
      "Epoch 11/100\n",
      "87844/87844 [==============================] - 186s 2ms/step - loss: 0.1121 - categorical_accuracy: 0.9692 - val_loss: 0.9983 - val_categorical_accuracy: 0.8010\n",
      "Epoch 00011: early stopping\n"
     ]
    },
    {
     "data": {
      "text/plain": [
       "<keras.callbacks.History at 0x7fdfcc5a2dd8>"
      ]
     },
     "execution_count": 85,
     "metadata": {},
     "output_type": "execute_result"
    }
   ],
   "source": [
    "model.fit([X_train_300, X_train_20], y_train, batch_size=batch_size, epochs=epochs, callbacks=callbacks_list,\n",
    "          validation_data=([X_val_300, X_val_20], y_val), class_weight = class_weights_dict, verbose=1)"
   ]
  },
  {
   "cell_type": "code",
   "execution_count": 86,
   "metadata": {},
   "outputs": [
    {
     "name": "stdout",
     "output_type": "stream",
     "text": [
      "Val loss: 0.9982561945915223\n",
      "Val accuracy: 0.801\n"
     ]
    }
   ],
   "source": [
    "scores = model.evaluate([X_val_300, X_val_20], y_val, verbose=0)\n",
    "print('Val loss:', scores[0])\n",
    "print('Val accuracy:', scores[1])"
   ]
  },
  {
   "cell_type": "code",
   "execution_count": 87,
   "metadata": {},
   "outputs": [
    {
     "data": {
      "text/plain": [
       "array([[67,  1,  1,  3,  3,  0,  2,  2,  4,  1],\n",
       "       [ 0, 76,  3,  1,  1,  1,  1,  0,  3,  5],\n",
       "       [10, 15, 90,  5,  1,  1,  2,  4,  3,  2],\n",
       "       [10,  1,  2, 83,  1,  0,  2,  3,  7,  0],\n",
       "       [ 1,  0,  0,  1, 87,  0,  0,  0,  4,  2],\n",
       "       [ 3,  0,  0,  1,  1, 90,  1,  2,  2,  3],\n",
       "       [ 3,  1,  0,  2,  0,  5, 85,  3,  2,  1],\n",
       "       [ 5,  1,  2,  4,  3,  2,  6, 86,  7,  2],\n",
       "       [ 0,  3,  2,  0,  0,  0,  0,  0, 58,  5],\n",
       "       [ 1,  2,  0,  0,  3,  1,  1,  0, 10, 79]])"
      ]
     },
     "execution_count": 87,
     "metadata": {},
     "output_type": "execute_result"
    }
   ],
   "source": [
    "y_pred = model.predict([X_val_300, X_val_20])\n",
    "y_pred_classes = [[1 if c == max(a) else 0 for c in a] for a in y_pred]\n",
    "y_pred_labels = [a.index(1) for a in y_pred_classes]\n",
    "confusion_matrix(y_pred_labels, y_val_labels)\n",
    "#y_val_labels"
   ]
  },
  {
   "cell_type": "code",
   "execution_count": 88,
   "metadata": {},
   "outputs": [
    {
     "name": "stdout",
     "output_type": "stream",
     "text": [
      "Test loss: 1.0426510825157165\n",
      "Test accuracy: 0.799\n"
     ]
    }
   ],
   "source": [
    "test_scores = model.evaluate([X_test_300, X_test_20], y_test, verbose=0)\n",
    "print('Test loss:', test_scores[0])\n",
    "print('Test accuracy:', test_scores[1])"
   ]
  },
  {
   "cell_type": "code",
   "execution_count": 89,
   "metadata": {},
   "outputs": [
    {
     "data": {
      "text/plain": [
       "array([[78,  4,  2,  4,  1,  0,  3,  4,  4,  2],\n",
       "       [ 1, 66,  0,  3,  0,  0,  1,  0, 10,  7],\n",
       "       [ 4, 11, 91,  2,  2,  1,  2,  3,  3,  1],\n",
       "       [ 3,  8,  1, 78,  2,  1,  0,  3,  8,  3],\n",
       "       [ 1,  0,  0,  1, 88,  0,  0,  0,  9,  1],\n",
       "       [ 0,  0,  0,  2,  0, 93,  1,  0,  0,  0],\n",
       "       [ 6,  0,  1,  4,  2,  3, 87,  2,  0,  1],\n",
       "       [ 7,  4,  5,  6,  4,  1,  6, 85,  5,  0],\n",
       "       [ 0,  4,  0,  0,  1,  0,  0,  2, 52,  4],\n",
       "       [ 0,  3,  0,  0,  0,  1,  0,  1,  9, 81]])"
      ]
     },
     "execution_count": 89,
     "metadata": {},
     "output_type": "execute_result"
    }
   ],
   "source": [
    "y_pred = model.predict([X_test_300, X_test_20])\n",
    "y_pred_classes = [[1 if c == max(a) else 0 for c in a] for a in y_pred]\n",
    "y_pred_labels = [a.index(1) for a in y_pred_classes]\n",
    "confusion_matrix(y_pred_labels, y_test_labels)"
   ]
  },
  {
   "cell_type": "code",
   "execution_count": 90,
   "metadata": {},
   "outputs": [
    {
     "name": "stdout",
     "output_type": "stream",
     "text": [
      "              precision    recall  f1-score   support\n",
      "\n",
      "           0       0.78      0.76      0.77       102\n",
      "           1       0.66      0.75      0.70        88\n",
      "           2       0.91      0.76      0.83       120\n",
      "           3       0.78      0.73      0.75       107\n",
      "           4       0.88      0.88      0.88       100\n",
      "           5       0.93      0.97      0.95        96\n",
      "           6       0.87      0.82      0.84       106\n",
      "           7       0.85      0.69      0.76       123\n",
      "           8       0.52      0.83      0.64        63\n",
      "           9       0.81      0.85      0.83        95\n",
      "\n",
      "    accuracy                           0.80      1000\n",
      "   macro avg       0.80      0.80      0.80      1000\n",
      "weighted avg       0.81      0.80      0.80      1000\n",
      "\n"
     ]
    }
   ],
   "source": [
    "print(classification_report(y_pred_labels, y_test_labels))"
   ]
  },
  {
   "cell_type": "code",
   "execution_count": null,
   "metadata": {},
   "outputs": [],
   "source": []
  },
  {
   "cell_type": "code",
   "execution_count": null,
   "metadata": {},
   "outputs": [],
   "source": [
    "from keras.utils.vis_utils import plot_model\n",
    "plot_model(model, to_file='model_plot cnn.png', show_shapes=True, show_layer_names=True)"
   ]
  }
 ],
 "metadata": {
  "kernelspec": {
   "display_name": "Python 3",
   "language": "python",
   "name": "python3"
  },
  "language_info": {
   "codemirror_mode": {
    "name": "ipython",
    "version": 3
   },
   "file_extension": ".py",
   "mimetype": "text/x-python",
   "name": "python",
   "nbconvert_exporter": "python",
   "pygments_lexer": "ipython3",
   "version": "3.6.4"
  }
 },
 "nbformat": 4,
 "nbformat_minor": 2
}
