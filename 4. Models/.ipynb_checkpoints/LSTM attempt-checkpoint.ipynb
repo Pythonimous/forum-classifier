{
 "cells": [
  {
   "cell_type": "code",
   "execution_count": 1,
   "metadata": {},
   "outputs": [],
   "source": [
    "import pickle as pkl\n",
    "import numpy as np"
   ]
  },
  {
   "cell_type": "code",
   "execution_count": 2,
   "metadata": {},
   "outputs": [],
   "source": [
    "input_dim = 300"
   ]
  },
  {
   "cell_type": "code",
   "execution_count": 3,
   "metadata": {},
   "outputs": [
    {
     "data": {
      "text/plain": [
       "(87844, 300, 1)"
      ]
     },
     "execution_count": 3,
     "metadata": {},
     "output_type": "execute_result"
    }
   ],
   "source": [
    "with open('Train_'+str(input_dim)+'.pkl', 'rb') as tr:\n",
    "    X_train_300 = pkl.load(tr)\n",
    "tr.close()\n",
    "X_train_300 = X_train_300.reshape(X_train_300.shape[0], X_train_300.shape[1], 1)\n",
    "X_train_300.shape"
   ]
  },
  {
   "cell_type": "code",
   "execution_count": 4,
   "metadata": {},
   "outputs": [
    {
     "data": {
      "text/plain": [
       "(1000, 300, 1)"
      ]
     },
     "execution_count": 4,
     "metadata": {},
     "output_type": "execute_result"
    }
   ],
   "source": [
    "with open('Val_'+str(input_dim)+'.pkl', 'rb') as val:\n",
    "    X_val_300 = pkl.load(val)\n",
    "val.close()\n",
    "X_val_300 = X_val_300.reshape(X_val_300.shape[0], X_val_300.shape[1], 1)\n",
    "X_val_300.shape"
   ]
  },
  {
   "cell_type": "code",
   "execution_count": 5,
   "metadata": {},
   "outputs": [
    {
     "data": {
      "text/plain": [
       "(1000, 300, 1)"
      ]
     },
     "execution_count": 5,
     "metadata": {},
     "output_type": "execute_result"
    }
   ],
   "source": [
    "with open('Test_'+str(input_dim)+'.pkl', 'rb') as test:\n",
    "    X_test_300 = pkl.load(test)\n",
    "test.close()\n",
    "X_test_300 = X_test_300.reshape(X_test_300.shape[0], X_test_300.shape[1], 1)\n",
    "X_test_300.shape"
   ]
  },
  {
   "cell_type": "code",
   "execution_count": 8,
   "metadata": {},
   "outputs": [],
   "source": [
    "with open('Train_twenty.pkl', 'rb') as tr:\n",
    "    X_train_20 = pkl.load(tr)\n",
    "tr.close()"
   ]
  },
  {
   "cell_type": "code",
   "execution_count": 9,
   "metadata": {},
   "outputs": [],
   "source": [
    "with open('Val_twenty.pkl', 'rb') as val:\n",
    "    X_val_20 = pkl.load(val)\n",
    "val.close()"
   ]
  },
  {
   "cell_type": "code",
   "execution_count": 10,
   "metadata": {},
   "outputs": [],
   "source": [
    "with open('Test_twenty.pkl', 'rb') as test:\n",
    "    X_test_20 = pkl.load(test)\n",
    "test.close()"
   ]
  },
  {
   "cell_type": "code",
   "execution_count": 11,
   "metadata": {},
   "outputs": [
    {
     "data": {
      "text/plain": [
       "87844"
      ]
     },
     "execution_count": 11,
     "metadata": {},
     "output_type": "execute_result"
    }
   ],
   "source": [
    "with open('Train_labels.txt', 'r') as l:\n",
    "    train_labels = l.read().split('\\n')\n",
    "l.close()\n",
    "len(train_labels)"
   ]
  },
  {
   "cell_type": "code",
   "execution_count": 12,
   "metadata": {},
   "outputs": [
    {
     "data": {
      "text/plain": [
       "1000"
      ]
     },
     "execution_count": 12,
     "metadata": {},
     "output_type": "execute_result"
    }
   ],
   "source": [
    "with open('Val_labels.txt', 'r') as v:\n",
    "    val_labels = v.read().split('\\n')\n",
    "v.close()\n",
    "len(val_labels)"
   ]
  },
  {
   "cell_type": "code",
   "execution_count": 13,
   "metadata": {},
   "outputs": [
    {
     "data": {
      "text/plain": [
       "1000"
      ]
     },
     "execution_count": 13,
     "metadata": {},
     "output_type": "execute_result"
    }
   ],
   "source": [
    "with open('Test_labels.txt', 'r') as t:\n",
    "    test_labels = t.read().split('\\n')\n",
    "t.close()\n",
    "len(test_labels)"
   ]
  },
  {
   "cell_type": "code",
   "execution_count": 14,
   "metadata": {},
   "outputs": [
    {
     "data": {
      "text/plain": [
       "LabelEncoder()"
      ]
     },
     "execution_count": 14,
     "metadata": {},
     "output_type": "execute_result"
    }
   ],
   "source": [
    "from sklearn.preprocessing import LabelEncoder\n",
    "enc = LabelEncoder()\n",
    "enc.fit(train_labels)"
   ]
  },
  {
   "cell_type": "code",
   "execution_count": 15,
   "metadata": {},
   "outputs": [
    {
     "data": {
      "text/plain": [
       "(87844,)"
      ]
     },
     "execution_count": 15,
     "metadata": {},
     "output_type": "execute_result"
    }
   ],
   "source": [
    "y_train_labels = enc.transform(train_labels)\n",
    "y_train_labels.shape"
   ]
  },
  {
   "cell_type": "code",
   "execution_count": 16,
   "metadata": {},
   "outputs": [
    {
     "data": {
      "text/plain": [
       "(1000,)"
      ]
     },
     "execution_count": 16,
     "metadata": {},
     "output_type": "execute_result"
    }
   ],
   "source": [
    "y_val_labels = enc.transform(val_labels)\n",
    "y_val_labels.shape"
   ]
  },
  {
   "cell_type": "code",
   "execution_count": 17,
   "metadata": {},
   "outputs": [
    {
     "data": {
      "text/plain": [
       "(1000,)"
      ]
     },
     "execution_count": 17,
     "metadata": {},
     "output_type": "execute_result"
    }
   ],
   "source": [
    "y_test_labels = enc.transform(test_labels)\n",
    "y_test_labels.shape"
   ]
  },
  {
   "cell_type": "code",
   "execution_count": 19,
   "metadata": {},
   "outputs": [],
   "source": [
    "import keras\n",
    "from keras import Model\n",
    "from keras.models import Sequential\n",
    "from keras.layers import Dense, Dropout, Flatten, Conv1D, MaxPooling1D, Input, Concatenate\n",
    "from keras.layers.advanced_activations import LeakyReLU\n",
    "from keras.utils import to_categorical\n",
    "from keras import metrics\n",
    "from sklearn.preprocessing import LabelEncoder, StandardScaler\n",
    "from sklearn.metrics import classification_report, confusion_matrix\n",
    "from keras.callbacks import EarlyStopping"
   ]
  },
  {
   "cell_type": "code",
   "execution_count": 20,
   "metadata": {},
   "outputs": [
    {
     "data": {
      "text/plain": [
       "(87844, 10)"
      ]
     },
     "execution_count": 20,
     "metadata": {},
     "output_type": "execute_result"
    }
   ],
   "source": [
    "y_train = to_categorical(y_train_labels)\n",
    "y_train.shape"
   ]
  },
  {
   "cell_type": "code",
   "execution_count": 21,
   "metadata": {},
   "outputs": [
    {
     "data": {
      "text/plain": [
       "(1000, 10)"
      ]
     },
     "execution_count": 21,
     "metadata": {},
     "output_type": "execute_result"
    }
   ],
   "source": [
    "y_val = to_categorical(y_val_labels)\n",
    "y_val.shape"
   ]
  },
  {
   "cell_type": "code",
   "execution_count": 22,
   "metadata": {},
   "outputs": [
    {
     "data": {
      "text/plain": [
       "(1000, 10)"
      ]
     },
     "execution_count": 22,
     "metadata": {},
     "output_type": "execute_result"
    }
   ],
   "source": [
    "y_test = to_categorical(y_test_labels)\n",
    "y_test.shape"
   ]
  },
  {
   "cell_type": "code",
   "execution_count": 23,
   "metadata": {},
   "outputs": [],
   "source": [
    "from sklearn.utils.class_weight import compute_class_weight"
   ]
  },
  {
   "cell_type": "code",
   "execution_count": 24,
   "metadata": {},
   "outputs": [],
   "source": [
    "# Instantiate the label encoder\n",
    "le = LabelEncoder()\n",
    "\n",
    "# Fit the label encoder to our label series\n",
    "le.fit(list(y_train_labels))\n",
    "\n",
    "# Create integer based labels Series\n",
    "y_integers = le.transform(list(y_train_labels))"
   ]
  },
  {
   "cell_type": "code",
   "execution_count": 25,
   "metadata": {},
   "outputs": [],
   "source": [
    "class_weights = compute_class_weight('balanced', np.unique(y_train_labels), y_train_labels)\n",
    "class_weights_dict = dict(zip(le.transform(list(le.classes_)), class_weights))"
   ]
  },
  {
   "cell_type": "code",
   "execution_count": 45,
   "metadata": {},
   "outputs": [],
   "source": [
    "# Parameters\n",
    "batch_size = 512\n",
    "epochs = 100\n",
    "num_classes = 10"
   ]
  },
  {
   "cell_type": "code",
   "execution_count": 46,
   "metadata": {},
   "outputs": [],
   "source": [
    "inputA = Input(shape=(input_dim,1))\n",
    "inputB = Input(shape=(20,))"
   ]
  },
  {
   "cell_type": "code",
   "execution_count": 47,
   "metadata": {},
   "outputs": [],
   "source": [
    "x = Conv1D(26, kernel_size=(10), padding='same')(inputA)\n",
    "x = LeakyReLU(alpha=0.1)(x)\n",
    "x = MaxPooling1D(2, padding='same')(x)\n",
    "x = Dropout(0.1)(x)\n",
    "x = Flatten()(x)\n",
    "x = Model(inputs = inputA, outputs = x)"
   ]
  },
  {
   "cell_type": "code",
   "execution_count": 48,
   "metadata": {},
   "outputs": [],
   "source": [
    "y = Dense(20, activation=\"relu\")(inputB)\n",
    "y = Dense(10, activation=\"relu\")(y)\n",
    "y = Model(inputs=inputB, outputs = y)"
   ]
  },
  {
   "cell_type": "code",
   "execution_count": 49,
   "metadata": {},
   "outputs": [],
   "source": [
    "combined = Concatenate()([x.output, y.output])"
   ]
  },
  {
   "cell_type": "code",
   "execution_count": 50,
   "metadata": {},
   "outputs": [],
   "source": [
    "z = Dense(32, activation='relu')(combined)\n",
    "z = Dense(num_classes, activation='softmax')(z)"
   ]
  },
  {
   "cell_type": "code",
   "execution_count": 51,
   "metadata": {},
   "outputs": [],
   "source": [
    "model = Model(inputs =[x.input, y.input], outputs = z)"
   ]
  },
  {
   "cell_type": "code",
   "execution_count": 52,
   "metadata": {},
   "outputs": [
    {
     "name": "stdout",
     "output_type": "stream",
     "text": [
      "Model: \"model_7\"\n",
      "__________________________________________________________________________________________________\n",
      "Layer (type)                    Output Shape         Param #     Connected to                     \n",
      "==================================================================================================\n",
      "input_5 (InputLayer)            (None, 300, 1)       0                                            \n",
      "__________________________________________________________________________________________________\n",
      "conv1d_3 (Conv1D)               (None, 300, 26)      286         input_5[0][0]                    \n",
      "__________________________________________________________________________________________________\n",
      "leaky_re_lu_3 (LeakyReLU)       (None, 300, 26)      0           conv1d_3[0][0]                   \n",
      "__________________________________________________________________________________________________\n",
      "max_pooling1d_3 (MaxPooling1D)  (None, 150, 26)      0           leaky_re_lu_3[0][0]              \n",
      "__________________________________________________________________________________________________\n",
      "input_6 (InputLayer)            (None, 20)           0                                            \n",
      "__________________________________________________________________________________________________\n",
      "dropout_3 (Dropout)             (None, 150, 26)      0           max_pooling1d_3[0][0]            \n",
      "__________________________________________________________________________________________________\n",
      "dense_5 (Dense)                 (None, 20)           420         input_6[0][0]                    \n",
      "__________________________________________________________________________________________________\n",
      "flatten_3 (Flatten)             (None, 3900)         0           dropout_3[0][0]                  \n",
      "__________________________________________________________________________________________________\n",
      "dense_6 (Dense)                 (None, 10)           210         dense_5[0][0]                    \n",
      "__________________________________________________________________________________________________\n",
      "concatenate_2 (Concatenate)     (None, 3910)         0           flatten_3[0][0]                  \n",
      "                                                                 dense_6[0][0]                    \n",
      "__________________________________________________________________________________________________\n",
      "dense_7 (Dense)                 (None, 32)           125152      concatenate_2[0][0]              \n",
      "__________________________________________________________________________________________________\n",
      "dense_8 (Dense)                 (None, 10)           330         dense_7[0][0]                    \n",
      "==================================================================================================\n",
      "Total params: 126,398\n",
      "Trainable params: 126,398\n",
      "Non-trainable params: 0\n",
      "__________________________________________________________________________________________________\n",
      "None\n"
     ]
    }
   ],
   "source": [
    "model.compile(loss=keras.losses.categorical_crossentropy,\n",
    "              optimizer=keras.optimizers.Adam(),\n",
    "              metrics=[metrics.categorical_accuracy])\n",
    "print(model.summary())"
   ]
  },
  {
   "cell_type": "code",
   "execution_count": 53,
   "metadata": {},
   "outputs": [],
   "source": [
    "earlystop = EarlyStopping(monitor='val_categorical_accuracy', min_delta = 0.0001, patience=5, verbose=1, mode='auto')\n",
    "callbacks_list = [earlystop]"
   ]
  },
  {
   "cell_type": "code",
   "execution_count": 54,
   "metadata": {
    "scrolled": true
   },
   "outputs": [
    {
     "name": "stdout",
     "output_type": "stream",
     "text": [
      "Train on 87844 samples, validate on 1000 samples\n",
      "Epoch 1/100\n",
      "87844/87844 [==============================] - 29s 332us/step - loss: 1.6821 - categorical_accuracy: 0.5077 - val_loss: 1.2318 - val_categorical_accuracy: 0.6000\n",
      "Epoch 2/100\n",
      "87844/87844 [==============================] - 28s 318us/step - loss: 1.0862 - categorical_accuracy: 0.6941 - val_loss: 0.9731 - val_categorical_accuracy: 0.6810\n",
      "Epoch 3/100\n",
      "87844/87844 [==============================] - 26s 291us/step - loss: 0.9299 - categorical_accuracy: 0.7318 - val_loss: 0.8531 - val_categorical_accuracy: 0.7440\n",
      "Epoch 4/100\n",
      "87844/87844 [==============================] - 23s 264us/step - loss: 0.8545 - categorical_accuracy: 0.7538 - val_loss: 0.8215 - val_categorical_accuracy: 0.7500\n",
      "Epoch 5/100\n",
      "87844/87844 [==============================] - 23s 264us/step - loss: 0.8130 - categorical_accuracy: 0.7611 - val_loss: 0.7690 - val_categorical_accuracy: 0.7660\n",
      "Epoch 6/100\n",
      "87844/87844 [==============================] - 23s 265us/step - loss: 0.7837 - categorical_accuracy: 0.7690 - val_loss: 0.7493 - val_categorical_accuracy: 0.7690\n",
      "Epoch 7/100\n",
      "87844/87844 [==============================] - 23s 265us/step - loss: 0.7637 - categorical_accuracy: 0.7716 - val_loss: 0.7436 - val_categorical_accuracy: 0.7670\n",
      "Epoch 8/100\n",
      "87844/87844 [==============================] - 23s 266us/step - loss: 0.7500 - categorical_accuracy: 0.7779 - val_loss: 0.7385 - val_categorical_accuracy: 0.7620\n",
      "Epoch 9/100\n",
      "87844/87844 [==============================] - 23s 261us/step - loss: 0.7354 - categorical_accuracy: 0.7808 - val_loss: 0.7390 - val_categorical_accuracy: 0.7600\n",
      "Epoch 10/100\n",
      "87844/87844 [==============================] - 23s 266us/step - loss: 0.7232 - categorical_accuracy: 0.7839 - val_loss: 0.7310 - val_categorical_accuracy: 0.7610\n",
      "Epoch 11/100\n",
      "87844/87844 [==============================] - 23s 262us/step - loss: 0.7162 - categorical_accuracy: 0.7854 - val_loss: 0.7264 - val_categorical_accuracy: 0.7740\n",
      "Epoch 12/100\n",
      "87844/87844 [==============================] - 23s 263us/step - loss: 0.7056 - categorical_accuracy: 0.7868 - val_loss: 0.7296 - val_categorical_accuracy: 0.7610\n",
      "Epoch 13/100\n",
      "87844/87844 [==============================] - 24s 268us/step - loss: 0.6993 - categorical_accuracy: 0.7882 - val_loss: 0.7094 - val_categorical_accuracy: 0.7710\n",
      "Epoch 14/100\n",
      "87844/87844 [==============================] - 24s 268us/step - loss: 0.6850 - categorical_accuracy: 0.7915 - val_loss: 0.7134 - val_categorical_accuracy: 0.7820\n",
      "Epoch 15/100\n",
      "87844/87844 [==============================] - 23s 260us/step - loss: 0.6796 - categorical_accuracy: 0.7935 - val_loss: 0.7118 - val_categorical_accuracy: 0.7740\n",
      "Epoch 16/100\n",
      "87844/87844 [==============================] - 23s 261us/step - loss: 0.6708 - categorical_accuracy: 0.7943 - val_loss: 0.7049 - val_categorical_accuracy: 0.7780\n",
      "Epoch 17/100\n",
      "87844/87844 [==============================] - 23s 262us/step - loss: 0.6646 - categorical_accuracy: 0.7955 - val_loss: 0.7044 - val_categorical_accuracy: 0.7740\n",
      "Epoch 18/100\n",
      "87844/87844 [==============================] - 23s 260us/step - loss: 0.6590 - categorical_accuracy: 0.7951 - val_loss: 0.7050 - val_categorical_accuracy: 0.7820\n",
      "Epoch 19/100\n",
      "87844/87844 [==============================] - 23s 261us/step - loss: 0.6516 - categorical_accuracy: 0.7972 - val_loss: 0.7008 - val_categorical_accuracy: 0.7840\n",
      "Epoch 20/100\n",
      "87844/87844 [==============================] - 23s 262us/step - loss: 0.6425 - categorical_accuracy: 0.7986 - val_loss: 0.7120 - val_categorical_accuracy: 0.7830\n",
      "Epoch 21/100\n",
      "87844/87844 [==============================] - 23s 259us/step - loss: 0.6388 - categorical_accuracy: 0.8004 - val_loss: 0.7175 - val_categorical_accuracy: 0.7820\n",
      "Epoch 22/100\n",
      "87844/87844 [==============================] - 23s 261us/step - loss: 0.6334 - categorical_accuracy: 0.8004 - val_loss: 0.7078 - val_categorical_accuracy: 0.7800\n",
      "Epoch 23/100\n",
      "87844/87844 [==============================] - 23s 260us/step - loss: 0.6300 - categorical_accuracy: 0.8003 - val_loss: 0.7069 - val_categorical_accuracy: 0.7880\n",
      "Epoch 24/100\n",
      "87844/87844 [==============================] - 23s 261us/step - loss: 0.6212 - categorical_accuracy: 0.8031 - val_loss: 0.7057 - val_categorical_accuracy: 0.7830\n",
      "Epoch 25/100\n",
      "87844/87844 [==============================] - 23s 262us/step - loss: 0.6165 - categorical_accuracy: 0.8032 - val_loss: 0.6962 - val_categorical_accuracy: 0.7920\n",
      "Epoch 26/100\n",
      "87844/87844 [==============================] - 23s 261us/step - loss: 0.6144 - categorical_accuracy: 0.8036 - val_loss: 0.7036 - val_categorical_accuracy: 0.7800\n",
      "Epoch 27/100\n",
      "87844/87844 [==============================] - 23s 261us/step - loss: 0.6058 - categorical_accuracy: 0.8042 - val_loss: 0.7025 - val_categorical_accuracy: 0.7790\n",
      "Epoch 28/100\n",
      "87844/87844 [==============================] - 23s 263us/step - loss: 0.6009 - categorical_accuracy: 0.8070 - val_loss: 0.7110 - val_categorical_accuracy: 0.7860\n",
      "Epoch 29/100\n",
      "87844/87844 [==============================] - 23s 260us/step - loss: 0.5925 - categorical_accuracy: 0.8074 - val_loss: 0.7109 - val_categorical_accuracy: 0.7790\n",
      "Epoch 30/100\n",
      "87844/87844 [==============================] - 23s 261us/step - loss: 0.5909 - categorical_accuracy: 0.8073 - val_loss: 0.7020 - val_categorical_accuracy: 0.7860\n",
      "Epoch 00030: early stopping\n"
     ]
    },
    {
     "data": {
      "text/plain": [
       "<keras.callbacks.History at 0x3df76ea908>"
      ]
     },
     "execution_count": 54,
     "metadata": {},
     "output_type": "execute_result"
    }
   ],
   "source": [
    "model.fit([X_train_300, X_train_20], y_train, batch_size=batch_size, epochs=epochs, callbacks=callbacks_list,\n",
    "          validation_data=([X_val_300, X_val_20], y_val), class_weight = class_weights_dict, verbose=1)"
   ]
  },
  {
   "cell_type": "code",
   "execution_count": 55,
   "metadata": {},
   "outputs": [
    {
     "name": "stdout",
     "output_type": "stream",
     "text": [
      "Val loss: 0.7019770054817199\n",
      "Val accuracy: 0.786\n"
     ]
    }
   ],
   "source": [
    "scores = model.evaluate([X_val_300, X_val_20], y_val, verbose=0)\n",
    "print('Val loss:', scores[0])\n",
    "print('Val accuracy:', scores[1])"
   ]
  },
  {
   "cell_type": "code",
   "execution_count": 56,
   "metadata": {},
   "outputs": [
    {
     "data": {
      "text/plain": [
       "array([[72,  4,  1,  4,  0,  0,  2,  4,  0,  1],\n",
       "       [ 0, 73,  3,  0,  1,  1,  2,  0,  0,  5],\n",
       "       [ 8,  5, 86,  4,  0,  1,  0,  4,  1,  0],\n",
       "       [ 5,  4,  0, 84,  0,  0,  4,  4,  0,  0],\n",
       "       [ 0,  2,  1,  2, 83,  2,  2,  2,  9,  9],\n",
       "       [ 2,  0,  0,  0,  3, 82,  3,  1,  0,  1],\n",
       "       [ 6,  3,  1,  0,  2,  3, 84,  3,  1,  3],\n",
       "       [ 2,  3,  2,  0,  1,  1,  1, 76,  3,  2],\n",
       "       [ 1,  4,  1,  5,  4,  2,  1,  1, 73,  6],\n",
       "       [ 4,  2,  5,  1,  6,  8,  1,  5, 13, 73]], dtype=int64)"
      ]
     },
     "execution_count": 56,
     "metadata": {},
     "output_type": "execute_result"
    }
   ],
   "source": [
    "y_pred = model.predict([X_val_300, X_val_20])\n",
    "y_pred_classes = [[1 if c == max(a) else 0 for c in a] for a in y_pred]\n",
    "y_pred_labels = [a.index(1) for a in y_pred_classes]\n",
    "confusion_matrix(y_pred_labels, y_val_labels)\n",
    "#y_val_labels"
   ]
  },
  {
   "cell_type": "code",
   "execution_count": 57,
   "metadata": {},
   "outputs": [
    {
     "name": "stdout",
     "output_type": "stream",
     "text": [
      "Test loss: 0.7939907449483872\n",
      "Test accuracy: 0.771\n"
     ]
    }
   ],
   "source": [
    "test_scores = model.evaluate([X_test_300, X_test_20], y_test, verbose=0)\n",
    "print('Test loss:', test_scores[0])\n",
    "print('Test accuracy:', test_scores[1])"
   ]
  },
  {
   "cell_type": "code",
   "execution_count": 58,
   "metadata": {},
   "outputs": [
    {
     "data": {
      "text/plain": [
       "array([[76,  3,  1,  2,  3,  2,  4,  2,  2,  3],\n",
       "       [ 0, 73,  0,  1,  0,  0,  0,  1,  4,  3],\n",
       "       [ 2,  3, 82,  1,  2,  0,  2,  3,  1,  2],\n",
       "       [ 5,  5,  2, 79,  0,  0,  2,  5,  0,  1],\n",
       "       [ 2,  2,  1,  2, 82,  2,  1,  3, 11,  8],\n",
       "       [ 1,  1,  2,  5,  1, 85,  2,  2,  0,  0],\n",
       "       [11,  4,  2,  6,  0,  4, 82,  6,  0,  1],\n",
       "       [ 1,  3,  6,  3,  0,  3,  4, 73,  6,  2],\n",
       "       [ 1,  4,  2,  1,  7,  2,  0,  2, 65,  6],\n",
       "       [ 1,  2,  2,  0,  5,  2,  3,  3, 11, 74]], dtype=int64)"
      ]
     },
     "execution_count": 58,
     "metadata": {},
     "output_type": "execute_result"
    }
   ],
   "source": [
    "y_pred = model.predict([X_test_300, X_test_20])\n",
    "y_pred_classes = [[1 if c == max(a) else 0 for c in a] for a in y_pred]\n",
    "y_pred_labels = [a.index(1) for a in y_pred_classes]\n",
    "confusion_matrix(y_pred_labels, y_test_labels)"
   ]
  },
  {
   "cell_type": "code",
   "execution_count": 59,
   "metadata": {},
   "outputs": [
    {
     "name": "stdout",
     "output_type": "stream",
     "text": [
      "              precision    recall  f1-score   support\n",
      "\n",
      "           0       0.76      0.78      0.77        98\n",
      "           1       0.73      0.89      0.80        82\n",
      "           2       0.82      0.84      0.83        98\n",
      "           3       0.79      0.80      0.79        99\n",
      "           4       0.82      0.72      0.77       114\n",
      "           5       0.85      0.86      0.85        99\n",
      "           6       0.82      0.71      0.76       116\n",
      "           7       0.73      0.72      0.73       101\n",
      "           8       0.65      0.72      0.68        90\n",
      "           9       0.74      0.72      0.73       103\n",
      "\n",
      "    accuracy                           0.77      1000\n",
      "   macro avg       0.77      0.77      0.77      1000\n",
      "weighted avg       0.77      0.77      0.77      1000\n",
      "\n"
     ]
    }
   ],
   "source": [
    "print(classification_report(y_pred_labels, y_test_labels))"
   ]
  },
  {
   "cell_type": "code",
   "execution_count": null,
   "metadata": {},
   "outputs": [],
   "source": []
  },
  {
   "cell_type": "code",
   "execution_count": null,
   "metadata": {},
   "outputs": [],
   "source": [
    "from keras.utils.vis_utils import plot_model\n",
    "plot_model(model, to_file='model_plot cnn.png', show_shapes=True, show_layer_names=True)"
   ]
  }
 ],
 "metadata": {
  "kernelspec": {
   "display_name": "Python 3",
   "language": "python",
   "name": "python3"
  },
  "language_info": {
   "codemirror_mode": {
    "name": "ipython",
    "version": 3
   },
   "file_extension": ".py",
   "mimetype": "text/x-python",
   "name": "python",
   "nbconvert_exporter": "python",
   "pygments_lexer": "ipython3",
   "version": "3.6.4"
  }
 },
 "nbformat": 4,
 "nbformat_minor": 2
}
