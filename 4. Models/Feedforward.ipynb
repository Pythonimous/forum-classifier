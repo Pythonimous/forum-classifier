{
 "cells": [
  {
   "cell_type": "code",
   "execution_count": 1,
   "metadata": {},
   "outputs": [],
   "source": [
    "import pickle as pkl\n",
    "import numpy as np"
   ]
  },
  {
   "cell_type": "code",
   "execution_count": 2,
   "metadata": {},
   "outputs": [],
   "source": [
    "input_dim = 320"
   ]
  },
  {
   "cell_type": "code",
   "execution_count": 3,
   "metadata": {},
   "outputs": [
    {
     "data": {
      "text/plain": [
       "(87844, 320)"
      ]
     },
     "execution_count": 3,
     "metadata": {},
     "output_type": "execute_result"
    }
   ],
   "source": [
    "with open('Train_'+str(input_dim)+'.pkl', 'rb') as tr:\n",
    "    X_train = pkl.load(tr)\n",
    "tr.close()\n",
    "# X_train = X_train.reshape(X_train.shape[0], X_train.shape[1], 1)\n",
    "X_train.shape"
   ]
  },
  {
   "cell_type": "code",
   "execution_count": 4,
   "metadata": {},
   "outputs": [
    {
     "data": {
      "text/plain": [
       "(1000, 320)"
      ]
     },
     "execution_count": 4,
     "metadata": {},
     "output_type": "execute_result"
    }
   ],
   "source": [
    "with open('Val_'+str(input_dim)+'.pkl', 'rb') as val:\n",
    "    X_val = pkl.load(val)\n",
    "val.close()\n",
    "# X_val = X_val.reshape(X_val.shape[0], X_val.shape[1], 1)\n",
    "X_val.shape"
   ]
  },
  {
   "cell_type": "code",
   "execution_count": 5,
   "metadata": {},
   "outputs": [
    {
     "data": {
      "text/plain": [
       "(1000, 320)"
      ]
     },
     "execution_count": 5,
     "metadata": {},
     "output_type": "execute_result"
    }
   ],
   "source": [
    "with open('Test_'+str(input_dim)+'.pkl', 'rb') as test:\n",
    "    X_test = pkl.load(test)\n",
    "test.close()\n",
    "# X_test = X_test.reshape(X_test.shape[0], X_test.shape[1], 1)\n",
    "X_test.shape"
   ]
  },
  {
   "cell_type": "code",
   "execution_count": 6,
   "metadata": {},
   "outputs": [
    {
     "data": {
      "text/plain": [
       "87844"
      ]
     },
     "execution_count": 6,
     "metadata": {},
     "output_type": "execute_result"
    }
   ],
   "source": [
    "with open('Train_labels.txt', 'r') as l:\n",
    "    train_labels = l.read().split('\\n')\n",
    "l.close()\n",
    "len(train_labels)"
   ]
  },
  {
   "cell_type": "code",
   "execution_count": 7,
   "metadata": {},
   "outputs": [
    {
     "data": {
      "text/plain": [
       "1000"
      ]
     },
     "execution_count": 7,
     "metadata": {},
     "output_type": "execute_result"
    }
   ],
   "source": [
    "with open('Val_labels.txt', 'r') as v:\n",
    "    val_labels = v.read().split('\\n')\n",
    "v.close()\n",
    "len(val_labels)"
   ]
  },
  {
   "cell_type": "code",
   "execution_count": 8,
   "metadata": {},
   "outputs": [
    {
     "data": {
      "text/plain": [
       "1000"
      ]
     },
     "execution_count": 8,
     "metadata": {},
     "output_type": "execute_result"
    }
   ],
   "source": [
    "with open('Test_labels.txt', 'r') as t:\n",
    "    test_labels = t.read().split('\\n')\n",
    "t.close()\n",
    "len(test_labels)"
   ]
  },
  {
   "cell_type": "code",
   "execution_count": 9,
   "metadata": {},
   "outputs": [
    {
     "data": {
      "text/plain": [
       "LabelEncoder()"
      ]
     },
     "execution_count": 9,
     "metadata": {},
     "output_type": "execute_result"
    }
   ],
   "source": [
    "from sklearn.preprocessing import LabelEncoder\n",
    "enc = LabelEncoder()\n",
    "enc.fit(train_labels)"
   ]
  },
  {
   "cell_type": "code",
   "execution_count": 10,
   "metadata": {},
   "outputs": [
    {
     "data": {
      "text/plain": [
       "(87844,)"
      ]
     },
     "execution_count": 10,
     "metadata": {},
     "output_type": "execute_result"
    }
   ],
   "source": [
    "y_train_labels = enc.transform(train_labels)\n",
    "y_train_labels.shape"
   ]
  },
  {
   "cell_type": "code",
   "execution_count": 11,
   "metadata": {},
   "outputs": [
    {
     "data": {
      "text/plain": [
       "(1000,)"
      ]
     },
     "execution_count": 11,
     "metadata": {},
     "output_type": "execute_result"
    }
   ],
   "source": [
    "y_val_labels = enc.transform(val_labels)\n",
    "y_val_labels.shape"
   ]
  },
  {
   "cell_type": "code",
   "execution_count": 12,
   "metadata": {},
   "outputs": [
    {
     "data": {
      "text/plain": [
       "(1000,)"
      ]
     },
     "execution_count": 12,
     "metadata": {},
     "output_type": "execute_result"
    }
   ],
   "source": [
    "y_test_labels = enc.transform(test_labels)\n",
    "y_test_labels.shape"
   ]
  },
  {
   "cell_type": "code",
   "execution_count": 94,
   "metadata": {},
   "outputs": [],
   "source": [
    "import keras\n",
    "from keras.regularizers import l1, l2\n",
    "from keras.models import Sequential\n",
    "from keras.layers import Dense\n",
    "from keras.utils import to_categorical\n",
    "from sklearn.preprocessing import LabelEncoder, StandardScaler\n",
    "from sklearn.metrics import classification_report, confusion_matrix\n",
    "from keras.callbacks import EarlyStopping"
   ]
  },
  {
   "cell_type": "code",
   "execution_count": 14,
   "metadata": {},
   "outputs": [
    {
     "data": {
      "text/plain": [
       "(87844, 10)"
      ]
     },
     "execution_count": 14,
     "metadata": {},
     "output_type": "execute_result"
    }
   ],
   "source": [
    "y_train = to_categorical(y_train_labels)\n",
    "y_train.shape"
   ]
  },
  {
   "cell_type": "code",
   "execution_count": 15,
   "metadata": {},
   "outputs": [
    {
     "data": {
      "text/plain": [
       "(1000, 10)"
      ]
     },
     "execution_count": 15,
     "metadata": {},
     "output_type": "execute_result"
    }
   ],
   "source": [
    "y_val = to_categorical(y_val_labels)\n",
    "y_val.shape"
   ]
  },
  {
   "cell_type": "code",
   "execution_count": 16,
   "metadata": {},
   "outputs": [
    {
     "data": {
      "text/plain": [
       "(1000, 10)"
      ]
     },
     "execution_count": 16,
     "metadata": {},
     "output_type": "execute_result"
    }
   ],
   "source": [
    "y_test = to_categorical(y_test_labels)\n",
    "y_test.shape"
   ]
  },
  {
   "cell_type": "code",
   "execution_count": 17,
   "metadata": {},
   "outputs": [],
   "source": [
    "from sklearn.utils.class_weight import compute_class_weight"
   ]
  },
  {
   "cell_type": "code",
   "execution_count": 18,
   "metadata": {},
   "outputs": [],
   "source": [
    "# Instantiate the label encoder\n",
    "le = LabelEncoder()\n",
    "\n",
    "# Fit the label encoder to our label series\n",
    "le.fit(list(y_train_labels))\n",
    "\n",
    "# Create integer based labels Series\n",
    "y_integers = le.transform(list(y_train_labels))"
   ]
  },
  {
   "cell_type": "code",
   "execution_count": 19,
   "metadata": {},
   "outputs": [],
   "source": [
    "class_weights = compute_class_weight('balanced', np.unique(y_train_labels), y_train_labels)\n",
    "class_weights_dict = dict(zip(le.transform(list(le.classes_)), class_weights))"
   ]
  },
  {
   "cell_type": "code",
   "execution_count": 81,
   "metadata": {},
   "outputs": [],
   "source": [
    "# Parameters\n",
    "batch_size = 512\n",
    "epochs = 100\n",
    "num_classes = 10"
   ]
  },
  {
   "cell_type": "code",
   "execution_count": 102,
   "metadata": {},
   "outputs": [],
   "source": [
    "model = Sequential()\n",
    "model.add(Dense(32, activation='relu', input_shape=(320,)))\n",
    "model.add(Dense(32, activation='relu'))\n",
    "model.add(Dense(num_classes, activation='softmax'))"
   ]
  },
  {
   "cell_type": "code",
   "execution_count": 103,
   "metadata": {},
   "outputs": [
    {
     "name": "stdout",
     "output_type": "stream",
     "text": [
      "Model: \"sequential_11\"\n",
      "_________________________________________________________________\n",
      "Layer (type)                 Output Shape              Param #   \n",
      "=================================================================\n",
      "dense_29 (Dense)             (None, 32)                10272     \n",
      "_________________________________________________________________\n",
      "dense_30 (Dense)             (None, 32)                1056      \n",
      "_________________________________________________________________\n",
      "dense_31 (Dense)             (None, 10)                330       \n",
      "=================================================================\n",
      "Total params: 11,658\n",
      "Trainable params: 11,658\n",
      "Non-trainable params: 0\n",
      "_________________________________________________________________\n",
      "None\n"
     ]
    }
   ],
   "source": [
    "model.compile(loss=keras.losses.categorical_crossentropy,\n",
    "              optimizer=keras.optimizers.Adam(),\n",
    "              metrics=['accuracy'])\n",
    "print(model.summary())"
   ]
  },
  {
   "cell_type": "code",
   "execution_count": 104,
   "metadata": {},
   "outputs": [],
   "source": [
    "earlystop = EarlyStopping(monitor='val_acc', min_delta = 0.0001, patience=5, verbose=1, mode='auto')\n",
    "callbacks_list = [earlystop]"
   ]
  },
  {
   "cell_type": "code",
   "execution_count": 105,
   "metadata": {
    "scrolled": true
   },
   "outputs": [
    {
     "name": "stdout",
     "output_type": "stream",
     "text": [
      "Train on 87844 samples, validate on 1000 samples\n",
      "Epoch 1/100\n",
      "87844/87844 [==============================] - 1s 17us/step - loss: 1.8620 - acc: 0.4713 - val_loss: 1.3406 - val_acc: 0.5770\n",
      "Epoch 2/100\n",
      "87844/87844 [==============================] - 1s 11us/step - loss: 1.1941 - acc: 0.6906 - val_loss: 1.0664 - val_acc: 0.6600\n",
      "Epoch 3/100\n",
      "87844/87844 [==============================] - 1s 11us/step - loss: 1.0132 - acc: 0.7263 - val_loss: 0.9443 - val_acc: 0.7050\n",
      "Epoch 4/100\n",
      "87844/87844 [==============================] - 1s 11us/step - loss: 0.9143 - acc: 0.7454 - val_loss: 0.8682 - val_acc: 0.7300\n",
      "Epoch 5/100\n",
      "87844/87844 [==============================] - 1s 12us/step - loss: 0.8492 - acc: 0.7605 - val_loss: 0.8181 - val_acc: 0.7460\n",
      "Epoch 6/100\n",
      "87844/87844 [==============================] - 1s 11us/step - loss: 0.8052 - acc: 0.7689 - val_loss: 0.7853 - val_acc: 0.7450\n",
      "Epoch 7/100\n",
      "87844/87844 [==============================] - 1s 10us/step - loss: 0.7743 - acc: 0.7757 - val_loss: 0.7618 - val_acc: 0.7520\n",
      "Epoch 8/100\n",
      "87844/87844 [==============================] - 1s 10us/step - loss: 0.7534 - acc: 0.7792 - val_loss: 0.7499 - val_acc: 0.7610\n",
      "Epoch 9/100\n",
      "87844/87844 [==============================] - 1s 11us/step - loss: 0.7393 - acc: 0.7814 - val_loss: 0.7392 - val_acc: 0.7680\n",
      "Epoch 10/100\n",
      "87844/87844 [==============================] - 1s 10us/step - loss: 0.7283 - acc: 0.7839 - val_loss: 0.7303 - val_acc: 0.7660\n",
      "Epoch 11/100\n",
      "87844/87844 [==============================] - 1s 11us/step - loss: 0.7202 - acc: 0.7858 - val_loss: 0.7282 - val_acc: 0.7680\n",
      "Epoch 12/100\n",
      "87844/87844 [==============================] - 1s 10us/step - loss: 0.7128 - acc: 0.7856 - val_loss: 0.7162 - val_acc: 0.7750\n",
      "Epoch 13/100\n",
      "87844/87844 [==============================] - 1s 10us/step - loss: 0.7074 - acc: 0.7882 - val_loss: 0.7158 - val_acc: 0.7770\n",
      "Epoch 14/100\n",
      "87844/87844 [==============================] - 1s 10us/step - loss: 0.7028 - acc: 0.7887 - val_loss: 0.7141 - val_acc: 0.7810\n",
      "Epoch 15/100\n",
      "87844/87844 [==============================] - 1s 10us/step - loss: 0.6977 - acc: 0.7896 - val_loss: 0.7161 - val_acc: 0.7740\n",
      "Epoch 16/100\n",
      "87844/87844 [==============================] - 1s 10us/step - loss: 0.6921 - acc: 0.7919 - val_loss: 0.7085 - val_acc: 0.7790\n",
      "Epoch 17/100\n",
      "87844/87844 [==============================] - 1s 10us/step - loss: 0.6906 - acc: 0.7918 - val_loss: 0.7071 - val_acc: 0.7800\n",
      "Epoch 18/100\n",
      "87844/87844 [==============================] - 1s 11us/step - loss: 0.6866 - acc: 0.7921 - val_loss: 0.7042 - val_acc: 0.7810\n",
      "Epoch 19/100\n",
      "87844/87844 [==============================] - 1s 11us/step - loss: 0.6840 - acc: 0.7944 - val_loss: 0.7002 - val_acc: 0.7840\n",
      "Epoch 20/100\n",
      "87844/87844 [==============================] - 1s 11us/step - loss: 0.6803 - acc: 0.7956 - val_loss: 0.6971 - val_acc: 0.7840\n",
      "Epoch 21/100\n",
      "87844/87844 [==============================] - 1s 11us/step - loss: 0.6774 - acc: 0.7952 - val_loss: 0.6951 - val_acc: 0.7850\n",
      "Epoch 22/100\n",
      "87844/87844 [==============================] - 1s 12us/step - loss: 0.6740 - acc: 0.7958 - val_loss: 0.6942 - val_acc: 0.7790\n",
      "Epoch 23/100\n",
      "87844/87844 [==============================] - 1s 12us/step - loss: 0.6718 - acc: 0.7977 - val_loss: 0.6944 - val_acc: 0.7840\n",
      "Epoch 24/100\n",
      "87844/87844 [==============================] - 1s 10us/step - loss: 0.6705 - acc: 0.7968 - val_loss: 0.7018 - val_acc: 0.7840\n",
      "Epoch 25/100\n",
      "87844/87844 [==============================] - 1s 12us/step - loss: 0.6685 - acc: 0.7974 - val_loss: 0.6922 - val_acc: 0.7850\n",
      "Epoch 26/100\n",
      "87844/87844 [==============================] - 1s 12us/step - loss: 0.6657 - acc: 0.7984 - val_loss: 0.6948 - val_acc: 0.7780\n",
      "Epoch 00026: early stopping\n"
     ]
    },
    {
     "data": {
      "text/plain": [
       "<keras.callbacks.History at 0xf29c86a2b0>"
      ]
     },
     "execution_count": 105,
     "metadata": {},
     "output_type": "execute_result"
    }
   ],
   "source": [
    "model.fit(X_train, y_train, batch_size=batch_size, epochs=epochs, callbacks=callbacks_list,\n",
    "          validation_data=(X_val, y_val), class_weight = class_weights_dict, verbose=1) # "
   ]
  },
  {
   "cell_type": "code",
   "execution_count": 106,
   "metadata": {},
   "outputs": [
    {
     "name": "stdout",
     "output_type": "stream",
     "text": [
      "Val loss: 0.6948439946174622\n",
      "Val accuracy: 0.778\n"
     ]
    }
   ],
   "source": [
    "scores = model.evaluate(X_val, y_val, verbose=0)\n",
    "print('Val loss:', scores[0])\n",
    "print('Val accuracy:', scores[1])"
   ]
  },
  {
   "cell_type": "code",
   "execution_count": 107,
   "metadata": {},
   "outputs": [
    {
     "data": {
      "text/plain": [
       "array([[71,  4,  1,  2,  1,  0,  3,  3,  0,  1],\n",
       "       [ 1, 72,  4,  1,  0,  1,  1,  0,  1,  4],\n",
       "       [ 7,  5, 82,  1,  0,  1,  1,  3,  0,  2],\n",
       "       [ 7,  6,  1, 81,  0,  0,  3,  3,  0,  1],\n",
       "       [ 0,  2,  1,  1, 90,  1,  2,  1,  8, 10],\n",
       "       [ 2,  0,  1,  2,  1, 86,  4,  1,  1,  4],\n",
       "       [ 4,  1,  0,  4,  0,  3, 80,  6,  3,  3],\n",
       "       [ 2,  2,  4,  5,  0,  1,  5, 77,  3,  1],\n",
       "       [ 1,  6,  3,  1,  5,  2,  1,  3, 74,  9],\n",
       "       [ 5,  2,  3,  2,  3,  5,  0,  3, 10, 65]], dtype=int64)"
      ]
     },
     "execution_count": 107,
     "metadata": {},
     "output_type": "execute_result"
    }
   ],
   "source": [
    "y_pred = model.predict_classes(X_val)\n",
    "confusion_matrix(y_pred, y_val_labels)"
   ]
  },
  {
   "cell_type": "code",
   "execution_count": 108,
   "metadata": {},
   "outputs": [
    {
     "name": "stdout",
     "output_type": "stream",
     "text": [
      "Test loss: 0.7439253239631652\n",
      "Test accuracy: 0.771\n"
     ]
    }
   ],
   "source": [
    "test_scores = model.evaluate(X_test, y_test, verbose=0)\n",
    "print('Test loss:', test_scores[0])\n",
    "print('Test accuracy:', test_scores[1])"
   ]
  },
  {
   "cell_type": "code",
   "execution_count": 109,
   "metadata": {},
   "outputs": [
    {
     "data": {
      "text/plain": [
       "array([[82,  4,  0,  0,  2,  1,  3,  1,  2,  1],\n",
       "       [ 1, 74,  2,  1,  0,  0,  0,  3,  6,  3],\n",
       "       [ 1,  2, 76,  1,  1,  0,  1,  3,  0,  1],\n",
       "       [ 3,  1,  2, 75,  0,  1,  0,  3,  0,  1],\n",
       "       [ 2,  2,  1,  1, 83,  1,  2,  0, 12,  7],\n",
       "       [ 1,  1,  4,  7,  2, 84,  3,  2,  0,  2],\n",
       "       [ 6,  5,  3,  9,  1,  5, 85,  5,  0,  0],\n",
       "       [ 1,  4,  7,  4,  0,  5,  4, 74,  5,  3],\n",
       "       [ 1,  6,  3,  1,  8,  3,  0,  4, 64,  8],\n",
       "       [ 2,  1,  2,  1,  3,  0,  2,  5, 11, 74]], dtype=int64)"
      ]
     },
     "execution_count": 109,
     "metadata": {},
     "output_type": "execute_result"
    }
   ],
   "source": [
    "y_pred = model.predict_classes(X_test)\n",
    "confusion_matrix(y_pred, y_test_labels)"
   ]
  },
  {
   "cell_type": "code",
   "execution_count": 110,
   "metadata": {},
   "outputs": [
    {
     "name": "stdout",
     "output_type": "stream",
     "text": [
      "              precision    recall  f1-score   support\n",
      "\n",
      "           0       0.82      0.85      0.84        96\n",
      "           1       0.74      0.82      0.78        90\n",
      "           2       0.76      0.88      0.82        86\n",
      "           3       0.75      0.87      0.81        86\n",
      "           4       0.83      0.75      0.79       111\n",
      "           5       0.84      0.79      0.82       106\n",
      "           6       0.85      0.71      0.78       119\n",
      "           7       0.74      0.69      0.71       107\n",
      "           8       0.64      0.65      0.65        98\n",
      "           9       0.74      0.73      0.74       101\n",
      "\n",
      "    accuracy                           0.77      1000\n",
      "   macro avg       0.77      0.78      0.77      1000\n",
      "weighted avg       0.77      0.77      0.77      1000\n",
      "\n"
     ]
    }
   ],
   "source": [
    "print(classification_report(y_pred, y_test_labels))"
   ]
  },
  {
   "cell_type": "code",
   "execution_count": null,
   "metadata": {},
   "outputs": [],
   "source": []
  },
  {
   "cell_type": "code",
   "execution_count": null,
   "metadata": {},
   "outputs": [],
   "source": [
    "from keras.utils.vis_utils import plot_model\n",
    "plot_model(model, to_file='model_plot feedforward.png', show_shapes=True, show_layer_names=True)"
   ]
  }
 ],
 "metadata": {
  "kernelspec": {
   "display_name": "Python 3",
   "language": "python",
   "name": "python3"
  },
  "language_info": {
   "codemirror_mode": {
    "name": "ipython",
    "version": 3
   },
   "file_extension": ".py",
   "mimetype": "text/x-python",
   "name": "python",
   "nbconvert_exporter": "python",
   "pygments_lexer": "ipython3",
   "version": "3.6.4"
  }
 },
 "nbformat": 4,
 "nbformat_minor": 2
}
