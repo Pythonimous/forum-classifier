{
  "nbformat": 4,
  "nbformat_minor": 0,
  "metadata": {
    "kernelspec": {
      "display_name": "Python 3",
      "language": "python",
      "name": "python3"
    },
    "language_info": {
      "codemirror_mode": {
        "name": "ipython",
        "version": 3
      },
      "file_extension": ".py",
      "mimetype": "text/x-python",
      "name": "python",
      "nbconvert_exporter": "python",
      "pygments_lexer": "ipython3",
      "version": "3.6.9"
    },
    "colab": {
      "name": "Conv1D.ipynb",
      "provenance": []
    },
    "accelerator": "GPU"
  },
  "cells": [
    {
      "cell_type": "code",
      "metadata": {
        "id": "kvELXJAf-A3H",
        "colab_type": "code",
        "colab": {}
      },
      "source": [
        "import tensorflow as tf\n",
        "import numpy as np\n",
        "from utils import load_data, train_dev_test, make_map_from_nested, word_vectors, trigram_vectors, all_vectors\n",
        "from sklearn.preprocessing import LabelEncoder"
      ],
      "execution_count": 0,
      "outputs": []
    },
    {
      "cell_type": "code",
      "metadata": {
        "id": "S1ZPhQ_M-A3R",
        "colab_type": "code",
        "colab": {}
      },
      "source": [
        "import tensorflow.keras as keras\n",
        "from tensorflow.keras import Model\n",
        "from tensorflow.keras.models import Sequential\n",
        "from tensorflow.keras.layers import Embedding, Input, Dense, Dropout, Flatten, Concatenate, Conv1D, MaxPooling1D, BatchNormalization\n",
        "from tensorflow.keras import backend as K\n",
        "from tensorflow.keras.utils import to_categorical\n",
        "from tensorflow.keras.preprocessing.sequence import pad_sequences\n",
        "\n",
        "from tensorflow.keras.callbacks import EarlyStopping, ModelCheckpoint"
      ],
      "execution_count": 0,
      "outputs": []
    },
    {
      "cell_type": "code",
      "metadata": {
        "id": "57nkfPUU-A3Y",
        "colab_type": "code",
        "colab": {}
      },
      "source": [
        "seed = 42\n",
        "database, top_tokens = load_data('data')"
      ],
      "execution_count": 0,
      "outputs": []
    },
    {
      "cell_type": "code",
      "metadata": {
        "id": "8zWSv7Xv-A3e",
        "colab_type": "code",
        "colab": {
          "base_uri": "https://localhost:8080/",
          "height": 206
        },
        "outputId": "6d51a47c-958f-450f-dd52-ab7b30c08773"
      },
      "source": [
        "database.head()"
      ],
      "execution_count": 7,
      "outputs": [
        {
          "output_type": "execute_result",
          "data": {
            "text/html": [
              "<div>\n",
              "<style scoped>\n",
              "    .dataframe tbody tr th:only-of-type {\n",
              "        vertical-align: middle;\n",
              "    }\n",
              "\n",
              "    .dataframe tbody tr th {\n",
              "        vertical-align: top;\n",
              "    }\n",
              "\n",
              "    .dataframe thead th {\n",
              "        text-align: right;\n",
              "    }\n",
              "</style>\n",
              "<table border=\"1\" class=\"dataframe\">\n",
              "  <thead>\n",
              "    <tr style=\"text-align: right;\">\n",
              "      <th></th>\n",
              "      <th>username</th>\n",
              "      <th>text</th>\n",
              "      <th>class</th>\n",
              "    </tr>\n",
              "  </thead>\n",
              "  <tbody>\n",
              "    <tr>\n",
              "      <th>0</th>\n",
              "      <td>Porter</td>\n",
              "      <td>музыка человек какой музыка слушать русский ро...</td>\n",
              "      <td>Music</td>\n",
              "    </tr>\n",
              "    <tr>\n",
              "      <th>1</th>\n",
              "      <td>John Doe</td>\n",
              "      <td>тат дим билан фабрика корень рефлекс рука вверх</td>\n",
              "      <td>Music</td>\n",
              "    </tr>\n",
              "    <tr>\n",
              "      <th>2</th>\n",
              "      <td>AlexTV</td>\n",
              "      <td>электронный музыка</td>\n",
              "      <td>Music</td>\n",
              "    </tr>\n",
              "    <tr>\n",
              "      <th>3</th>\n",
              "      <td>Zeke</td>\n",
              "      <td>практически самый джон тимоти самый дело любит...</td>\n",
              "      <td>Music</td>\n",
              "    </tr>\n",
              "    <tr>\n",
              "      <th>4</th>\n",
              "      <td>Morchant</td>\n",
              "      <td>данный момент слушать офигительный</td>\n",
              "      <td>Music</td>\n",
              "    </tr>\n",
              "  </tbody>\n",
              "</table>\n",
              "</div>"
            ],
            "text/plain": [
              "   username                                               text  class\n",
              "0    Porter  музыка человек какой музыка слушать русский ро...  Music\n",
              "1  John Doe    тат дим билан фабрика корень рефлекс рука вверх  Music\n",
              "2    AlexTV                                 электронный музыка  Music\n",
              "3      Zeke  практически самый джон тимоти самый дело любит...  Music\n",
              "4  Morchant                 данный момент слушать офигительный  Music"
            ]
          },
          "metadata": {
            "tags": []
          },
          "execution_count": 7
        }
      ]
    },
    {
      "cell_type": "code",
      "metadata": {
        "id": "sstlkuiy-A3l",
        "colab_type": "code",
        "colab": {}
      },
      "source": [
        "classes = list(set(database['class']))\n",
        "classes.sort()"
      ],
      "execution_count": 0,
      "outputs": []
    },
    {
      "cell_type": "code",
      "metadata": {
        "id": "_IF5byAZ-A3q",
        "colab_type": "code",
        "colab": {}
      },
      "source": [
        "train, dev, test = train_dev_test(database, seed)"
      ],
      "execution_count": 0,
      "outputs": []
    },
    {
      "cell_type": "code",
      "metadata": {
        "id": "_ZMmvV52-A3w",
        "colab_type": "code",
        "colab": {}
      },
      "source": [
        "class_map = {classes[idx]:idx for idx in range(len(classes))}  # class mapping to integers\n",
        "word_map = make_map_from_nested(top_tokens['top_words'].values())\n",
        "trigram_map = make_map_from_nested(top_tokens['top_trigrams'].values())"
      ],
      "execution_count": 0,
      "outputs": []
    },
    {
      "cell_type": "code",
      "metadata": {
        "id": "ed6r9rLh-A32",
        "colab_type": "code",
        "colab": {}
      },
      "source": [
        "y_train_ints = np.array([class_map[label] for label in train['class']])\n",
        "y_dev_ints = np.array([class_map[label] for label in dev['class']])\n",
        "y_test_ints = np.array([class_map[label] for label in test['class']])"
      ],
      "execution_count": 0,
      "outputs": []
    },
    {
      "cell_type": "code",
      "metadata": {
        "id": "iCOEzdp2-A35",
        "colab_type": "code",
        "colab": {}
      },
      "source": [
        "y_train = to_categorical(y_train_ints, 10)\n",
        "y_dev = to_categorical(y_dev_ints, 10)\n",
        "y_test = to_categorical(y_test_ints, 10)"
      ],
      "execution_count": 0,
      "outputs": []
    },
    {
      "cell_type": "code",
      "metadata": {
        "id": "kOeQjl1oFJ0t",
        "colab_type": "code",
        "colab": {}
      },
      "source": [
        "results = set()\n",
        "for sen in train['text']:\n",
        "    results.update(sen.split())\n",
        "all_map = {w:i for i, w in enumerate(list(results))}"
      ],
      "execution_count": 0,
      "outputs": []
    },
    {
      "cell_type": "code",
      "metadata": {
        "id": "A65E01Oe-A4B",
        "colab_type": "code",
        "colab": {}
      },
      "source": [
        "X_train_words = word_vectors(train['text'], word_map)\n",
        "X_train_trigrams = trigram_vectors(train['text'], trigram_map)\n",
        "X_train_all = all_vectors(train['text'], all_map)\n",
        "X_dev_words = word_vectors(dev['text'], word_map)\n",
        "X_dev_trigrams = trigram_vectors(dev['text'], trigram_map)\n",
        "X_dev_all = all_vectors(dev['text'], all_map)\n",
        "X_test_words = word_vectors(test['text'], word_map)\n",
        "X_test_trigrams = trigram_vectors(test['text'], trigram_map)\n",
        "X_test_all = all_vectors(test['text'], all_map)"
      ],
      "execution_count": 0,
      "outputs": []
    },
    {
      "cell_type": "code",
      "metadata": {
        "id": "zzvYcfXF-A4K",
        "colab_type": "code",
        "colab": {}
      },
      "source": [
        "max_word_len = max(max([len(s) for s in X_train_words]),\n",
        "                   max([len(s) for s in X_dev_words]),\n",
        "                   max([len(s) for s in X_test_words]))\n",
        "max_tri_len = max(max([len(s) for s in X_train_trigrams]),\n",
        "                  max([len(s) for s in X_dev_trigrams]),\n",
        "                  max([len(s) for s in X_test_trigrams]))\n",
        "max_all_len = 350"
      ],
      "execution_count": 0,
      "outputs": []
    },
    {
      "cell_type": "code",
      "metadata": {
        "id": "ZqvhHIfr-A4S",
        "colab_type": "code",
        "colab": {}
      },
      "source": [
        "X_train_w = pad_sequences(X_train_words, max_word_len, padding='post')\n",
        "X_train_t = pad_sequences(X_train_trigrams, max_tri_len, padding='post')\n",
        "X_train_a = pad_sequences(X_train_all, max_all_len, padding='post')\n",
        "X_dev_w = pad_sequences(X_dev_words, max_word_len, padding='post')\n",
        "X_dev_t = pad_sequences(X_dev_trigrams, max_tri_len, padding='post')\n",
        "X_dev_a = pad_sequences(X_dev_all, max_all_len, padding='post')\n",
        "X_test_w = pad_sequences(X_test_words, max_word_len, padding='post')\n",
        "X_test_t = pad_sequences(X_test_trigrams, max_tri_len, padding='post')\n",
        "X_test_a = pad_sequences(X_test_all, max_all_len, padding='post')"
      ],
      "execution_count": 0,
      "outputs": []
    },
    {
      "cell_type": "markdown",
      "metadata": {
        "id": "iMmvU5uT-A4Z",
        "colab_type": "text"
      },
      "source": [
        "X_train_w = np.expand_dims(X_train_t, axis=2)\n",
        "X_dev_w = np.expand_dims(X_dev_t, axis=2)\n",
        "X_test_w = np.expand_dims(X_test_t, axis=2)\n",
        "X_train_t = np.expand_dims(X_train_t, axis=2)\n",
        "X_dev_t = np.expand_dims(X_dev_t, axis=2)\n",
        "X_test_t = np.expand_dims(X_test_t, axis=2)"
      ]
    },
    {
      "cell_type": "code",
      "metadata": {
        "id": "j2kQSvDi-A4b",
        "colab_type": "code",
        "colab": {}
      },
      "source": [
        "def build_model(word_vocab_size,\n",
        "                word_embedding_size,\n",
        "                word_input_length,\n",
        "                trigram_vocab_size,\n",
        "                trigram_embedding_size,\n",
        "                trigram_input_length,\n",
        "                all_vocab_size,\n",
        "                all_embedding_size,\n",
        "                all_input_length,\n",
        "                dropout_rate,\n",
        "                num_classes):\n",
        "    word_input = Input(shape=(word_input_length,))\n",
        "    trigram_input = Input(shape=(trigram_input_length,))\n",
        "    all_input = Input(shape=(all_input_length,))\n",
        "\n",
        "    word_embedding = Embedding(input_dim=word_vocab_size,\n",
        "                               output_dim=word_embedding_size,\n",
        "                               input_length=word_input_length,\n",
        "                               trainable=True)(word_input)\n",
        "    x1 = Conv1D(26, 5, activation='relu')(word_embedding)\n",
        "    x1 = MaxPooling1D(2)(x1)\n",
        "    x1 = Flatten()(x1)\n",
        "    x1 = BatchNormalization(trainable=True)(x1)\n",
        "    x1 = Dropout(dropout_rate)(x1)\n",
        "    x1 = Model(inputs=word_input, outputs=x1)\n",
        "\n",
        "    trigram_embedding = Embedding(input_dim=trigram_vocab_size,\n",
        "                               output_dim=trigram_embedding_size,\n",
        "                               input_length=trigram_input_length,\n",
        "                               trainable=True)(trigram_input)\n",
        "    x2 = Conv1D(26, 5, activation='relu')(trigram_embedding)\n",
        "    x2 = MaxPooling1D(2)(x2)\n",
        "    x2 = Flatten()(x2)\n",
        "    x2 = BatchNormalization(trainable=True)(x2)\n",
        "    x2 = Dropout(dropout_rate)(x2)\n",
        "    x2 = Model(inputs=trigram_input, outputs=x2)\n",
        "\n",
        "    all_embedding = Embedding(input_dim=all_vocab_size,\n",
        "                              output_dim=all_embedding_size,\n",
        "                              input_length=all_input_length,\n",
        "                              trainable=True)(all_input)\n",
        "    x3 = Conv1D(52, 10, activation='relu')(all_embedding)\n",
        "    x3 = MaxPooling1D(4)(x3)\n",
        "    x3 = Flatten()(x3)\n",
        "    x3 = BatchNormalization(trainable=True)(x3)\n",
        "    x3 = Dropout(dropout_rate)(x3)\n",
        "    x3 = Model(inputs=all_input, outputs=x3)\n",
        "\n",
        "    combined = Concatenate()([x1.output, x2.output, x3.output])\n",
        "    z = Dense(512, activation='relu')(combined)\n",
        "    z = BatchNormalization(trainable=True)(z)\n",
        "    z = Dropout(dropout_rate)(z)\n",
        "    z = Dense(256, activation='relu')(z)\n",
        "    z = BatchNormalization(trainable=True)(z)\n",
        "    z = Dropout(dropout_rate)(z)\n",
        "    z = Dense(num_classes, activation='softmax')(z)\n",
        "\n",
        "    model = Model(inputs=[x1.input, x2.input, x3.input], outputs=z)\n",
        "\n",
        "    return model"
      ],
      "execution_count": 0,
      "outputs": []
    },
    {
      "cell_type": "code",
      "metadata": {
        "id": "dlGx-oA2-A4h",
        "colab_type": "code",
        "colab": {}
      },
      "source": [
        "word_vocab_size = len(word_map) + 1  # Adding 1 because of reserved 0 index\n",
        "word_embedding_size = 200\n",
        "trigram_vocab_size = len(trigram_map) + 1\n",
        "trigram_embedding_size = 100\n",
        "all_vocab_size = len(all_map) + 1\n",
        "all_embedding_size = 400\n",
        "dropout_rate = 0.5\n",
        "batch_size = 512\n",
        "epochs = 100\n",
        "num_classes = 10"
      ],
      "execution_count": 0,
      "outputs": []
    },
    {
      "cell_type": "code",
      "metadata": {
        "id": "BJI7RbI1-A44",
        "colab_type": "code",
        "colab": {}
      },
      "source": [
        "model = build_model(word_vocab_size, word_embedding_size, max_word_len,\n",
        "                    trigram_vocab_size, trigram_embedding_size, max_tri_len,\n",
        "                    all_vocab_size, all_embedding_size, max_all_len,\n",
        "                    dropout_rate, num_classes)"
      ],
      "execution_count": 0,
      "outputs": []
    },
    {
      "cell_type": "code",
      "metadata": {
        "id": "WzRoOTeB-A5G",
        "colab_type": "code",
        "colab": {}
      },
      "source": [
        "earlystop = EarlyStopping(monitor='val_loss', patience=2)\n",
        "mc = ModelCheckpoint('best_model.h5', monitor='val_loss', mode='min', save_best_only=True)"
      ],
      "execution_count": 0,
      "outputs": []
    },
    {
      "cell_type": "code",
      "metadata": {
        "id": "tL-lruk6-A5N",
        "colab_type": "code",
        "colab": {
          "base_uri": "https://localhost:8080/",
          "height": 1000
        },
        "outputId": "18d3cf11-8080-4674-f310-a5cd86bc76ab"
      },
      "source": [
        "model.compile(loss=keras.losses.categorical_crossentropy,\n",
        "              optimizer='adam',\n",
        "              metrics=['accuracy'])\n",
        "print(model.summary())"
      ],
      "execution_count": 21,
      "outputs": [
        {
          "output_type": "stream",
          "text": [
            "Model: \"model_3\"\n",
            "__________________________________________________________________________________________________\n",
            "Layer (type)                    Output Shape         Param #     Connected to                     \n",
            "==================================================================================================\n",
            "input_1 (InputLayer)            [(None, 385)]        0                                            \n",
            "__________________________________________________________________________________________________\n",
            "input_2 (InputLayer)            [(None, 614)]        0                                            \n",
            "__________________________________________________________________________________________________\n",
            "input_3 (InputLayer)            [(None, 350)]        0                                            \n",
            "__________________________________________________________________________________________________\n",
            "embedding (Embedding)           (None, 385, 200)     218000      input_1[0][0]                    \n",
            "__________________________________________________________________________________________________\n",
            "embedding_1 (Embedding)         (None, 614, 100)     106000      input_2[0][0]                    \n",
            "__________________________________________________________________________________________________\n",
            "embedding_2 (Embedding)         (None, 350, 400)     59303600    input_3[0][0]                    \n",
            "__________________________________________________________________________________________________\n",
            "conv1d (Conv1D)                 (None, 381, 26)      26026       embedding[0][0]                  \n",
            "__________________________________________________________________________________________________\n",
            "conv1d_1 (Conv1D)               (None, 610, 26)      13026       embedding_1[0][0]                \n",
            "__________________________________________________________________________________________________\n",
            "conv1d_2 (Conv1D)               (None, 341, 52)      208052      embedding_2[0][0]                \n",
            "__________________________________________________________________________________________________\n",
            "max_pooling1d (MaxPooling1D)    (None, 190, 26)      0           conv1d[0][0]                     \n",
            "__________________________________________________________________________________________________\n",
            "max_pooling1d_1 (MaxPooling1D)  (None, 305, 26)      0           conv1d_1[0][0]                   \n",
            "__________________________________________________________________________________________________\n",
            "max_pooling1d_2 (MaxPooling1D)  (None, 85, 52)       0           conv1d_2[0][0]                   \n",
            "__________________________________________________________________________________________________\n",
            "flatten (Flatten)               (None, 4940)         0           max_pooling1d[0][0]              \n",
            "__________________________________________________________________________________________________\n",
            "flatten_1 (Flatten)             (None, 7930)         0           max_pooling1d_1[0][0]            \n",
            "__________________________________________________________________________________________________\n",
            "flatten_2 (Flatten)             (None, 4420)         0           max_pooling1d_2[0][0]            \n",
            "__________________________________________________________________________________________________\n",
            "batch_normalization (BatchNorma (None, 4940)         19760       flatten[0][0]                    \n",
            "__________________________________________________________________________________________________\n",
            "batch_normalization_1 (BatchNor (None, 7930)         31720       flatten_1[0][0]                  \n",
            "__________________________________________________________________________________________________\n",
            "batch_normalization_2 (BatchNor (None, 4420)         17680       flatten_2[0][0]                  \n",
            "__________________________________________________________________________________________________\n",
            "dropout (Dropout)               (None, 4940)         0           batch_normalization[0][0]        \n",
            "__________________________________________________________________________________________________\n",
            "dropout_1 (Dropout)             (None, 7930)         0           batch_normalization_1[0][0]      \n",
            "__________________________________________________________________________________________________\n",
            "dropout_2 (Dropout)             (None, 4420)         0           batch_normalization_2[0][0]      \n",
            "__________________________________________________________________________________________________\n",
            "concatenate (Concatenate)       (None, 17290)        0           dropout[0][0]                    \n",
            "                                                                 dropout_1[0][0]                  \n",
            "                                                                 dropout_2[0][0]                  \n",
            "__________________________________________________________________________________________________\n",
            "dense (Dense)                   (None, 512)          8852992     concatenate[0][0]                \n",
            "__________________________________________________________________________________________________\n",
            "batch_normalization_3 (BatchNor (None, 512)          2048        dense[0][0]                      \n",
            "__________________________________________________________________________________________________\n",
            "dropout_3 (Dropout)             (None, 512)          0           batch_normalization_3[0][0]      \n",
            "__________________________________________________________________________________________________\n",
            "dense_1 (Dense)                 (None, 256)          131328      dropout_3[0][0]                  \n",
            "__________________________________________________________________________________________________\n",
            "batch_normalization_4 (BatchNor (None, 256)          1024        dense_1[0][0]                    \n",
            "__________________________________________________________________________________________________\n",
            "dropout_4 (Dropout)             (None, 256)          0           batch_normalization_4[0][0]      \n",
            "__________________________________________________________________________________________________\n",
            "dense_2 (Dense)                 (None, 10)           2570        dropout_4[0][0]                  \n",
            "==================================================================================================\n",
            "Total params: 68,933,826\n",
            "Trainable params: 68,897,710\n",
            "Non-trainable params: 36,116\n",
            "__________________________________________________________________________________________________\n",
            "None\n"
          ],
          "name": "stdout"
        }
      ]
    },
    {
      "cell_type": "code",
      "metadata": {
        "id": "3gKW1JDF-A5c",
        "colab_type": "code",
        "colab": {
          "base_uri": "https://localhost:8080/",
          "height": 191
        },
        "outputId": "8e16e4e6-73aa-4440-a45c-0d55fa5c8680"
      },
      "source": [
        "history=model.fit([X_train_w, X_train_t, X_train_a], y_train,\n",
        "          batch_size=batch_size,\n",
        "          epochs=epochs,\n",
        "          callbacks = [earlystop, mc],\n",
        "          verbose=1,\n",
        "          validation_data=([X_dev_w, X_dev_t, X_dev_a], y_dev))"
      ],
      "execution_count": 22,
      "outputs": [
        {
          "output_type": "stream",
          "text": [
            "Epoch 1/100\n",
            "419/419 [==============================] - 298s 711ms/step - loss: 0.9638 - accuracy: 0.7096 - val_loss: 0.9318 - val_accuracy: 0.7132\n",
            "Epoch 2/100\n",
            "419/419 [==============================] - 292s 697ms/step - loss: 0.3434 - accuracy: 0.8959 - val_loss: 1.8208 - val_accuracy: 0.6308\n",
            "Epoch 3/100\n",
            "419/419 [==============================] - 295s 703ms/step - loss: 0.2109 - accuracy: 0.9367 - val_loss: 0.4688 - val_accuracy: 0.8630\n",
            "Epoch 4/100\n",
            "419/419 [==============================] - 292s 697ms/step - loss: 0.1567 - accuracy: 0.9520 - val_loss: 0.9222 - val_accuracy: 0.7178\n",
            "Epoch 5/100\n",
            "419/419 [==============================] - 292s 698ms/step - loss: 0.1249 - accuracy: 0.9616 - val_loss: 0.7523 - val_accuracy: 0.7841\n"
          ],
          "name": "stdout"
        }
      ]
    },
    {
      "cell_type": "code",
      "metadata": {
        "id": "PW_ON4PgBqiE",
        "colab_type": "code",
        "colab": {}
      },
      "source": [
        "import matplotlib.pyplot as plt\n",
        "import numpy as np\n",
        "%matplotlib inline"
      ],
      "execution_count": 0,
      "outputs": []
    },
    {
      "cell_type": "code",
      "metadata": {
        "id": "6pCw2vvJ-A5m",
        "colab_type": "code",
        "colab": {
          "base_uri": "https://localhost:8080/",
          "height": 295
        },
        "outputId": "647036ad-a5cd-481e-de2e-7e1fc3f06d8b"
      },
      "source": [
        "acc = history.history['accuracy']\n",
        "val_acc = history.history['val_accuracy']\n",
        "epochs = range(1, len(acc) + 1)\n",
        "\n",
        "plt.plot(epochs, acc, 'r', label='Training acc')\n",
        "plt.plot(epochs, val_acc, 'b', label='Validation acc')\n",
        "plt.title('Training and validation accuracy')\n",
        "plt.xlabel('Epochs')\n",
        "plt.ylabel('Accuracy')\n",
        "plt.legend()\n",
        "\n",
        "plt.show()"
      ],
      "execution_count": 24,
      "outputs": [
        {
          "output_type": "display_data",
          "data": {
            "image/png": "[encoded data removed]",
            "text/plain": [
              "<Figure size 432x288 with 1 Axes>"
            ]
          },
          "metadata": {
            "tags": [],
            "needs_background": "light"
          }
        }
      ]
    },
    {
      "cell_type": "code",
      "metadata": {
        "id": "f1Nri6Z3Br7a",
        "colab_type": "code",
        "colab": {
          "base_uri": "https://localhost:8080/",
          "height": 295
        },
        "outputId": "8750da77-daa9-4b42-dd30-861f21a4a74e"
      },
      "source": [
        "loss = history.history['loss']\n",
        "val_loss = history.history['val_loss']\n",
        "epochs = range(1, len(acc) + 1)\n",
        "\n",
        "plt.plot(epochs, loss, 'r', label='Training loss')\n",
        "plt.plot(epochs, val_loss, 'b', label='Validation loss')\n",
        "plt.title('Training and validation loss')\n",
        "plt.xlabel('Epochs')\n",
        "plt.ylabel('Loss')\n",
        "plt.legend()\n",
        "\n",
        "plt.show()"
      ],
      "execution_count": 25,
      "outputs": [
        {
          "output_type": "display_data",
          "data": {
            "image/png": "[encoded data removed]",
            "text/plain": [
              "<Figure size 432x288 with 1 Axes>"
            ]
          },
          "metadata": {
            "tags": [],
            "needs_background": "light"
          }
        }
      ]
    },
    {
      "cell_type": "code",
      "metadata": {
        "id": "3trkvtFHBtH9",
        "colab_type": "code",
        "colab": {
          "base_uri": "https://localhost:8080/",
          "height": 52
        },
        "outputId": "c05cfbad-9e44-470c-b204-464f32e846ca"
      },
      "source": [
        "score = model.evaluate([X_test_w, X_test_t, X_test_a], y_test, verbose=0)\n",
        "print('Test loss:', score[0])\n",
        "print('Test accuracy:', score[1])"
      ],
      "execution_count": 27,
      "outputs": [
        {
          "output_type": "stream",
          "text": [
            "Test loss: 0.762759804725647\n",
            "Test accuracy: 0.7836861610412598\n"
          ],
          "name": "stdout"
        }
      ]
    },
    {
      "cell_type": "code",
      "metadata": {
        "id": "541UJbRcCYXU",
        "colab_type": "code",
        "colab": {}
      },
      "source": [
        ""
      ],
      "execution_count": 0,
      "outputs": []
    }
  ]
}