{
  "nbformat": 4,
  "nbformat_minor": 0,
  "metadata": {
    "kernelspec": {
      "display_name": "Python 3",
      "language": "python",
      "name": "python3"
    },
    "language_info": {
      "codemirror_mode": {
        "name": "ipython",
        "version": 3
      },
      "file_extension": ".py",
      "mimetype": "text/x-python",
      "name": "python",
      "nbconvert_exporter": "python",
      "pygments_lexer": "ipython3",
      "version": "3.6.9"
    },
    "colab": {
      "name": "Conv1D.ipynb",
      "provenance": [],
      "collapsed_sections": []
    },
    "accelerator": "GPU"
  },
  "cells": [
    {
      "cell_type": "code",
      "metadata": {
        "id": "LwFExL0AaU7G",
        "colab_type": "code",
        "outputId": "3dc6e3ec-2101-46a9-ffab-778397862e75",
        "colab": {
          "base_uri": "https://localhost:8080/",
          "height": 129
        }
      },
      "source": [
        "from google.colab import drive\n",
        "drive.mount('/content/gdrive')"
      ],
      "execution_count": 1,
      "outputs": [
        {
          "output_type": "stream",
          "text": [
            "Go to this URL in a browser: https://accounts.google.com/o/oauth2/auth?client_id=947318989803-6bn6qk8qdgf4n4g3pfee6491hc0brc4i.apps.googleusercontent.com&redirect_uri=urn%3aietf%3awg%3aoauth%3a2.0%3aoob&response_type=code&scope=email%20https%3a%2f%2fwww.googleapis.com%2fauth%2fdocs.test%20https%3a%2f%2fwww.googleapis.com%2fauth%2fdrive%20https%3a%2f%2fwww.googleapis.com%2fauth%2fdrive.photos.readonly%20https%3a%2f%2fwww.googleapis.com%2fauth%2fpeopleapi.readonly\n",
            "\n",
            "Enter your authorization code:\n",
            "··········\n",
            "Mounted at /content/gdrive\n"
          ],
          "name": "stdout"
        }
      ]
    },
    {
      "cell_type": "code",
      "metadata": {
        "id": "NwMUupd3c__M",
        "colab_type": "code",
        "colab": {}
      },
      "source": [
        "import os\n",
        "os.chdir('gdrive/My Drive/data')"
      ],
      "execution_count": 0,
      "outputs": []
    },
    {
      "cell_type": "code",
      "metadata": {
        "id": "kvELXJAf-A3H",
        "colab_type": "code",
        "colab": {}
      },
      "source": [
        "import tensorflow as tf\n",
        "import numpy as np\n",
        "from utils import load_data, train_dev_test, make_map_from_nested, word_vectors, trigram_vectors, all_vectors\n",
        "from sklearn.preprocessing import LabelEncoder"
      ],
      "execution_count": 0,
      "outputs": []
    },
    {
      "cell_type": "code",
      "metadata": {
        "id": "S1ZPhQ_M-A3R",
        "colab_type": "code",
        "colab": {}
      },
      "source": [
        "import tensorflow.keras as keras\n",
        "from tensorflow.keras import Model\n",
        "from tensorflow.keras.models import Sequential\n",
        "from tensorflow.keras.layers import Embedding, Input, Dense, Dropout, Flatten, Concatenate, Conv1D, MaxPooling1D, BatchNormalization\n",
        "from tensorflow.keras import backend as K\n",
        "from tensorflow.keras.utils import to_categorical\n",
        "from tensorflow.keras.preprocessing.sequence import pad_sequences\n",
        "\n",
        "from tensorflow.keras.callbacks import EarlyStopping, ModelCheckpoint"
      ],
      "execution_count": 0,
      "outputs": []
    },
    {
      "cell_type": "code",
      "metadata": {
        "id": "57nkfPUU-A3Y",
        "colab_type": "code",
        "colab": {}
      },
      "source": [
        "seed = 42\n",
        "database, top_tokens = load_data('./')"
      ],
      "execution_count": 0,
      "outputs": []
    },
    {
      "cell_type": "code",
      "metadata": {
        "id": "sstlkuiy-A3l",
        "colab_type": "code",
        "colab": {}
      },
      "source": [
        "classes = list(set(database['class']))\n",
        "classes.sort()"
      ],
      "execution_count": 0,
      "outputs": []
    },
    {
      "cell_type": "code",
      "metadata": {
        "id": "_IF5byAZ-A3q",
        "colab_type": "code",
        "colab": {}
      },
      "source": [
        "train, dev, test = train_dev_test(database, seed)"
      ],
      "execution_count": 0,
      "outputs": []
    },
    {
      "cell_type": "code",
      "metadata": {
        "id": "_QF5bTxjnnNu",
        "colab_type": "code",
        "colab": {
          "base_uri": "https://localhost:8080/",
          "height": 35
        },
        "outputId": "01f3de4a-f94e-4634-baad-08153a1039db"
      },
      "source": [
        "len(train), len(dev), len(test)"
      ],
      "execution_count": 8,
      "outputs": [
        {
          "output_type": "execute_result",
          "data": {
            "text/plain": [
              "(170840, 9491, 9492)"
            ]
          },
          "metadata": {
            "tags": []
          },
          "execution_count": 8
        }
      ]
    },
    {
      "cell_type": "code",
      "metadata": {
        "id": "_ZMmvV52-A3w",
        "colab_type": "code",
        "colab": {}
      },
      "source": [
        "class_map = {classes[idx]:idx for idx in range(len(classes))}  # class mapping to integers\n",
        "word_map = make_map_from_nested(top_tokens['top_words'].values())\n",
        "trigram_map = make_map_from_nested(top_tokens['top_trigrams'].values())"
      ],
      "execution_count": 0,
      "outputs": []
    },
    {
      "cell_type": "code",
      "metadata": {
        "id": "ed6r9rLh-A32",
        "colab_type": "code",
        "colab": {}
      },
      "source": [
        "y_train_ints = np.array([class_map[label] for label in train['class']])\n",
        "y_dev_ints = np.array([class_map[label] for label in dev['class']])\n",
        "y_test_ints = np.array([class_map[label] for label in test['class']])"
      ],
      "execution_count": 0,
      "outputs": []
    },
    {
      "cell_type": "code",
      "metadata": {
        "id": "iCOEzdp2-A35",
        "colab_type": "code",
        "colab": {}
      },
      "source": [
        "y_train = to_categorical(y_train_ints, 10)\n",
        "y_dev = to_categorical(y_dev_ints, 10)\n",
        "y_test = to_categorical(y_test_ints, 10)"
      ],
      "execution_count": 0,
      "outputs": []
    },
    {
      "cell_type": "code",
      "metadata": {
        "id": "kOeQjl1oFJ0t",
        "colab_type": "code",
        "colab": {}
      },
      "source": [
        "results = set()\n",
        "for sen in train['text']:\n",
        "    results.update(sen.split())\n",
        "all_map = {w:i for i, w in enumerate(list(results))}"
      ],
      "execution_count": 0,
      "outputs": []
    },
    {
      "cell_type": "code",
      "metadata": {
        "id": "A65E01Oe-A4B",
        "colab_type": "code",
        "colab": {}
      },
      "source": [
        "X_train_words = word_vectors(train['text'], word_map)\n",
        "X_train_trigrams = trigram_vectors(train['text'], trigram_map)\n",
        "X_train_all = all_vectors(train['text'], all_map)\n",
        "X_dev_words = word_vectors(dev['text'], word_map)\n",
        "X_dev_trigrams = trigram_vectors(dev['text'], trigram_map)\n",
        "X_dev_all = all_vectors(dev['text'], all_map)\n",
        "X_test_words = word_vectors(test['text'], word_map)\n",
        "X_test_trigrams = trigram_vectors(test['text'], trigram_map)\n",
        "X_test_all = all_vectors(test['text'], all_map)"
      ],
      "execution_count": 0,
      "outputs": []
    },
    {
      "cell_type": "code",
      "metadata": {
        "id": "zzvYcfXF-A4K",
        "colab_type": "code",
        "colab": {}
      },
      "source": [
        "max_word_len = max([len(s) for s in X_train_words])\n",
        "max_tri_len = max([len(s) for s in X_train_trigrams])\n",
        "max_all_len = max([len(s) for s in X_train_all])"
      ],
      "execution_count": 0,
      "outputs": []
    },
    {
      "cell_type": "code",
      "metadata": {
        "id": "3Hfi-51Bn3O6",
        "colab_type": "code",
        "colab": {
          "base_uri": "https://localhost:8080/",
          "height": 35
        },
        "outputId": "8b5d7733-f86f-4c3d-f290-9be74c116c96"
      },
      "source": [
        "max_all_len"
      ],
      "execution_count": 16,
      "outputs": [
        {
          "output_type": "execute_result",
          "data": {
            "text/plain": [
              "30"
            ]
          },
          "metadata": {
            "tags": []
          },
          "execution_count": 16
        }
      ]
    },
    {
      "cell_type": "code",
      "metadata": {
        "id": "ZqvhHIfr-A4S",
        "colab_type": "code",
        "colab": {}
      },
      "source": [
        "X_train_w = pad_sequences(X_train_words, max_word_len, padding='post')\n",
        "X_train_t = pad_sequences(X_train_trigrams, max_tri_len, padding='post')\n",
        "X_train_a = pad_sequences(X_train_all, max_all_len, padding='post')\n",
        "X_dev_w = pad_sequences(X_dev_words, max_word_len, padding='post')\n",
        "X_dev_t = pad_sequences(X_dev_trigrams, max_tri_len, padding='post')\n",
        "X_dev_a = pad_sequences(X_dev_all, max_all_len, padding='post')\n",
        "X_test_w = pad_sequences(X_test_words, max_word_len, padding='post')\n",
        "X_test_t = pad_sequences(X_test_trigrams, max_tri_len, padding='post')\n",
        "X_test_a = pad_sequences(X_test_all, max_all_len, padding='post')"
      ],
      "execution_count": 0,
      "outputs": []
    },
    {
      "cell_type": "markdown",
      "metadata": {
        "id": "iMmvU5uT-A4Z",
        "colab_type": "text"
      },
      "source": [
        "X_train_w = np.expand_dims(X_train_t, axis=2)\n",
        "X_dev_w = np.expand_dims(X_dev_t, axis=2)\n",
        "X_test_w = np.expand_dims(X_test_t, axis=2)\n",
        "X_train_t = np.expand_dims(X_train_t, axis=2)\n",
        "X_dev_t = np.expand_dims(X_dev_t, axis=2)\n",
        "X_test_t = np.expand_dims(X_test_t, axis=2)"
      ]
    },
    {
      "cell_type": "code",
      "metadata": {
        "id": "j2kQSvDi-A4b",
        "colab_type": "code",
        "colab": {}
      },
      "source": [
        "def build_model(word_vocab_size, word_embedding_size, word_input_length,\n",
        "                trigram_vocab_size, trigram_embedding_size, trigram_input_length,\n",
        "                all_vocab_size, all_embedding_size, all_input_length,\n",
        "                dropout_rate, num_classes):\n",
        "    word_input = Input(shape=(word_input_length,))\n",
        "    trigram_input = Input(shape=(trigram_input_length,))\n",
        "    all_input = Input(shape=(all_input_length,))\n",
        "\n",
        "    word_embedding = Embedding(input_dim=word_vocab_size,\n",
        "                               output_dim=word_embedding_size,\n",
        "                               input_length=word_input_length,\n",
        "                               trainable=True)(word_input)\n",
        "    x1 = Conv1D(26, 2, activation='relu')(word_embedding)\n",
        "    x1 = MaxPooling1D(2)(x1)\n",
        "    x1 = Flatten()(x1)\n",
        "    x1 = BatchNormalization(trainable=True)(x1)\n",
        "    x1 = Model(inputs=word_input, outputs=x1)\n",
        "\n",
        "    trigram_embedding = Embedding(input_dim=trigram_vocab_size,\n",
        "                               output_dim=trigram_embedding_size,\n",
        "                               input_length=trigram_input_length,\n",
        "                               trainable=True)(trigram_input)\n",
        "    x2 = Conv1D(26, 2, activation='relu')(trigram_embedding)\n",
        "    x2 = MaxPooling1D(2)(x2)\n",
        "    x2 = Flatten()(x2)\n",
        "    x2 = BatchNormalization(trainable=True)(x2)\n",
        "    x2 = Model(inputs=trigram_input, outputs=x2)\n",
        "\n",
        "    all_embedding = Embedding(input_dim=all_vocab_size,\n",
        "                              output_dim=all_embedding_size,\n",
        "                              input_length=all_input_length,\n",
        "                              trainable=True)(all_input)\n",
        "    x3 = Conv1D(52, 2, activation='relu')(all_embedding)\n",
        "    x3 = MaxPooling1D(3)(x3)\n",
        "    x3 = Flatten()(x3)\n",
        "    x3 = BatchNormalization(trainable=True)(x3)\n",
        "    x3 = Model(inputs=all_input, outputs=x3)\n",
        "\n",
        "    combined = Concatenate()([x1.output, x2.output, x3.output])\n",
        "    z = Dense(512, activation='relu')(combined)\n",
        "    z = BatchNormalization(trainable=True)(z)\n",
        "    z = Dropout(dropout_rate)(z)\n",
        "    z = Dense(256, activation='relu')(z)\n",
        "    z = BatchNormalization(trainable=True)(z)\n",
        "    z = Dropout(dropout_rate)(z)\n",
        "    z = Dense(num_classes, activation='softmax')(z)\n",
        "\n",
        "    model = Model(inputs=[x1.input, x2.input, x3.input], outputs=z)\n",
        "\n",
        "    return model"
      ],
      "execution_count": 0,
      "outputs": []
    },
    {
      "cell_type": "code",
      "metadata": {
        "id": "dlGx-oA2-A4h",
        "colab_type": "code",
        "colab": {}
      },
      "source": [
        "word_vocab_size = len(word_map) + 1  # Adding 1 because of reserved 0 index\n",
        "word_embedding_size = 100\n",
        "trigram_vocab_size = len(trigram_map) + 1\n",
        "trigram_embedding_size = 100\n",
        "all_vocab_size = len(all_map) + 1\n",
        "all_embedding_size = 150\n",
        "dropout_rate = 0.5\n",
        "batch_size = 512\n",
        "epochs = 100\n",
        "num_classes = 10"
      ],
      "execution_count": 0,
      "outputs": []
    },
    {
      "cell_type": "code",
      "metadata": {
        "id": "BJI7RbI1-A44",
        "colab_type": "code",
        "colab": {}
      },
      "source": [
        "model = build_model(word_vocab_size, word_embedding_size, max_word_len,\n",
        "                    trigram_vocab_size, trigram_embedding_size, max_tri_len,\n",
        "                    all_vocab_size, all_embedding_size, max_all_len,\n",
        "                    dropout_rate, num_classes)"
      ],
      "execution_count": 0,
      "outputs": []
    },
    {
      "cell_type": "code",
      "metadata": {
        "id": "WzRoOTeB-A5G",
        "colab_type": "code",
        "colab": {}
      },
      "source": [
        "earlystop = EarlyStopping(monitor='val_accuracy', patience=2)\n",
        "mc = ModelCheckpoint('best_model.h5', monitor='val_loss', mode='min', save_best_only=True)"
      ],
      "execution_count": 0,
      "outputs": []
    },
    {
      "cell_type": "code",
      "metadata": {
        "id": "tL-lruk6-A5N",
        "colab_type": "code",
        "outputId": "0a94d38a-53fa-43fc-9eac-6571c86753ee",
        "colab": {
          "base_uri": "https://localhost:8080/",
          "height": 1000
        }
      },
      "source": [
        "model.compile(loss=keras.losses.categorical_crossentropy,\n",
        "              optimizer='adam',\n",
        "              metrics=['accuracy'])\n",
        "print(model.summary())"
      ],
      "execution_count": 22,
      "outputs": [
        {
          "output_type": "stream",
          "text": [
            "Model: \"model_3\"\n",
            "__________________________________________________________________________________________________\n",
            "Layer (type)                    Output Shape         Param #     Connected to                     \n",
            "==================================================================================================\n",
            "input_1 (InputLayer)            [(None, 25)]         0                                            \n",
            "__________________________________________________________________________________________________\n",
            "input_2 (InputLayer)            [(None, 51)]         0                                            \n",
            "__________________________________________________________________________________________________\n",
            "input_3 (InputLayer)            [(None, 30)]         0                                            \n",
            "__________________________________________________________________________________________________\n",
            "embedding (Embedding)           (None, 25, 100)      171400      input_1[0][0]                    \n",
            "__________________________________________________________________________________________________\n",
            "embedding_1 (Embedding)         (None, 51, 100)      146200      input_2[0][0]                    \n",
            "__________________________________________________________________________________________________\n",
            "embedding_2 (Embedding)         (None, 30, 150)      19613550    input_3[0][0]                    \n",
            "__________________________________________________________________________________________________\n",
            "conv1d (Conv1D)                 (None, 24, 26)       5226        embedding[0][0]                  \n",
            "__________________________________________________________________________________________________\n",
            "conv1d_1 (Conv1D)               (None, 50, 26)       5226        embedding_1[0][0]                \n",
            "__________________________________________________________________________________________________\n",
            "conv1d_2 (Conv1D)               (None, 29, 52)       15652       embedding_2[0][0]                \n",
            "__________________________________________________________________________________________________\n",
            "max_pooling1d (MaxPooling1D)    (None, 12, 26)       0           conv1d[0][0]                     \n",
            "__________________________________________________________________________________________________\n",
            "max_pooling1d_1 (MaxPooling1D)  (None, 25, 26)       0           conv1d_1[0][0]                   \n",
            "__________________________________________________________________________________________________\n",
            "max_pooling1d_2 (MaxPooling1D)  (None, 9, 52)        0           conv1d_2[0][0]                   \n",
            "__________________________________________________________________________________________________\n",
            "flatten (Flatten)               (None, 312)          0           max_pooling1d[0][0]              \n",
            "__________________________________________________________________________________________________\n",
            "flatten_1 (Flatten)             (None, 650)          0           max_pooling1d_1[0][0]            \n",
            "__________________________________________________________________________________________________\n",
            "flatten_2 (Flatten)             (None, 468)          0           max_pooling1d_2[0][0]            \n",
            "__________________________________________________________________________________________________\n",
            "batch_normalization (BatchNorma (None, 312)          1248        flatten[0][0]                    \n",
            "__________________________________________________________________________________________________\n",
            "batch_normalization_1 (BatchNor (None, 650)          2600        flatten_1[0][0]                  \n",
            "__________________________________________________________________________________________________\n",
            "batch_normalization_2 (BatchNor (None, 468)          1872        flatten_2[0][0]                  \n",
            "__________________________________________________________________________________________________\n",
            "concatenate (Concatenate)       (None, 1430)         0           batch_normalization[0][0]        \n",
            "                                                                 batch_normalization_1[0][0]      \n",
            "                                                                 batch_normalization_2[0][0]      \n",
            "__________________________________________________________________________________________________\n",
            "dense (Dense)                   (None, 512)          732672      concatenate[0][0]                \n",
            "__________________________________________________________________________________________________\n",
            "batch_normalization_3 (BatchNor (None, 512)          2048        dense[0][0]                      \n",
            "__________________________________________________________________________________________________\n",
            "dropout (Dropout)               (None, 512)          0           batch_normalization_3[0][0]      \n",
            "__________________________________________________________________________________________________\n",
            "dense_1 (Dense)                 (None, 256)          131328      dropout[0][0]                    \n",
            "__________________________________________________________________________________________________\n",
            "batch_normalization_4 (BatchNor (None, 256)          1024        dense_1[0][0]                    \n",
            "__________________________________________________________________________________________________\n",
            "dropout_1 (Dropout)             (None, 256)          0           batch_normalization_4[0][0]      \n",
            "__________________________________________________________________________________________________\n",
            "dense_2 (Dense)                 (None, 10)           2570        dropout_1[0][0]                  \n",
            "==================================================================================================\n",
            "Total params: 20,832,616\n",
            "Trainable params: 20,828,220\n",
            "Non-trainable params: 4,396\n",
            "__________________________________________________________________________________________________\n",
            "None\n"
          ],
          "name": "stdout"
        }
      ]
    },
    {
      "cell_type": "code",
      "metadata": {
        "id": "3gKW1JDF-A5c",
        "colab_type": "code",
        "outputId": "19c86bb5-8d35-476d-e72f-5695bdb63589",
        "colab": {
          "base_uri": "https://localhost:8080/",
          "height": 237
        }
      },
      "source": [
        "history=model.fit([X_train_w, X_train_t, X_train_a], y_train,\n",
        "          batch_size=batch_size,\n",
        "          epochs=epochs,\n",
        "          callbacks = [mc, earlystop],\n",
        "          verbose=1,\n",
        "          validation_data=([X_dev_w, X_dev_t, X_dev_a], y_dev))"
      ],
      "execution_count": 23,
      "outputs": [
        {
          "output_type": "stream",
          "text": [
            "Epoch 1/100\n",
            "334/334 [==============================] - 71s 213ms/step - loss: 0.7818 - accuracy: 0.7742 - val_loss: 0.5932 - val_accuracy: 0.8294\n",
            "Epoch 2/100\n",
            "334/334 [==============================] - 68s 205ms/step - loss: 0.1779 - accuracy: 0.9475 - val_loss: 0.2325 - val_accuracy: 0.9273\n",
            "Epoch 3/100\n",
            "334/334 [==============================] - 65s 195ms/step - loss: 0.0552 - accuracy: 0.9839 - val_loss: 0.2492 - val_accuracy: 0.9353\n",
            "Epoch 4/100\n",
            "334/334 [==============================] - 64s 193ms/step - loss: 0.0187 - accuracy: 0.9948 - val_loss: 0.2684 - val_accuracy: 0.9364\n",
            "Epoch 5/100\n",
            "334/334 [==============================] - 64s 191ms/step - loss: 0.0094 - accuracy: 0.9973 - val_loss: 0.2915 - val_accuracy: 0.9348\n",
            "Epoch 6/100\n",
            "334/334 [==============================] - 64s 191ms/step - loss: 0.0090 - accuracy: 0.9973 - val_loss: 0.3123 - val_accuracy: 0.9362\n"
          ],
          "name": "stdout"
        }
      ]
    },
    {
      "cell_type": "code",
      "metadata": {
        "id": "PW_ON4PgBqiE",
        "colab_type": "code",
        "colab": {}
      },
      "source": [
        "import matplotlib.pyplot as plt\n",
        "import numpy as np\n",
        "%matplotlib inline"
      ],
      "execution_count": 0,
      "outputs": []
    },
    {
      "cell_type": "code",
      "metadata": {
        "id": "6pCw2vvJ-A5m",
        "colab_type": "code",
        "outputId": "be5dcee4-8971-494f-9213-6687e2c2d484",
        "colab": {
          "base_uri": "https://localhost:8080/",
          "height": 295
        }
      },
      "source": [
        "acc = history.history['accuracy']\n",
        "val_acc = history.history['val_accuracy']\n",
        "epochs = range(1, len(acc) + 1)\n",
        "\n",
        "plt.plot(epochs, acc, 'r', label='Training acc')\n",
        "plt.plot(epochs, val_acc, 'b', label='Validation acc')\n",
        "plt.title('Training and validation accuracy')\n",
        "plt.xlabel('Epochs')\n",
        "plt.ylabel('Accuracy')\n",
        "plt.legend()\n",
        "\n",
        "plt.show()"
      ],
      "execution_count": 25,
      "outputs": [
        {
          "output_type": "display_data",
          "data": {
            "image/png": "[encoded data removed]",
            "text/plain": [
              "<Figure size 432x288 with 1 Axes>"
            ]
          },
          "metadata": {
            "tags": [],
            "needs_background": "light"
          }
        }
      ]
    },
    {
      "cell_type": "code",
      "metadata": {
        "id": "f1Nri6Z3Br7a",
        "colab_type": "code",
        "outputId": "e8f5e4d4-d156-45c3-c6f7-4a0af61244ab",
        "colab": {
          "base_uri": "https://localhost:8080/",
          "height": 295
        }
      },
      "source": [
        "loss = history.history['loss']\n",
        "val_loss = history.history['val_loss']\n",
        "epochs = range(1, len(acc) + 1)\n",
        "\n",
        "plt.plot(epochs, loss, 'r', label='Training loss')\n",
        "plt.plot(epochs, val_loss, 'b', label='Validation loss')\n",
        "plt.title('Training and validation loss')\n",
        "plt.xlabel('Epochs')\n",
        "plt.ylabel('Loss')\n",
        "plt.legend()\n",
        "\n",
        "plt.show()"
      ],
      "execution_count": 26,
      "outputs": [
        {
          "output_type": "display_data",
          "data": {
            "image/png": "[encoded data removed]",
            "text/plain": [
              "<Figure size 432x288 with 1 Axes>"
            ]
          },
          "metadata": {
            "tags": [],
            "needs_background": "light"
          }
        }
      ]
    },
    {
      "cell_type": "code",
      "metadata": {
        "id": "RdQp6qjEaaY3",
        "colab_type": "code",
        "colab": {}
      },
      "source": [
        "model.load_weights('best_model.h5')"
      ],
      "execution_count": 0,
      "outputs": []
    },
    {
      "cell_type": "code",
      "metadata": {
        "id": "3trkvtFHBtH9",
        "colab_type": "code",
        "outputId": "fdfb51c4-575a-4e18-c546-d584e2ec5b97",
        "colab": {
          "base_uri": "https://localhost:8080/",
          "height": 54
        }
      },
      "source": [
        "score = model.evaluate([X_test_w, X_test_t, X_test_a], y_test, verbose=0)\n",
        "print('Test loss:', score[0])\n",
        "print('Test accuracy:', score[1])"
      ],
      "execution_count": 28,
      "outputs": [
        {
          "output_type": "stream",
          "text": [
            "Test loss: 0.24777686595916748\n",
            "Test accuracy: 0.9290981888771057\n"
          ],
          "name": "stdout"
        }
      ]
    },
    {
      "cell_type": "code",
      "metadata": {
        "id": "541UJbRcCYXU",
        "colab_type": "code",
        "outputId": "58bc4c02-3c9d-424c-8dba-113f325a8ebf",
        "colab": {
          "base_uri": "https://localhost:8080/",
          "height": 35
        }
      },
      "source": [
        "score"
      ],
      "execution_count": 29,
      "outputs": [
        {
          "output_type": "execute_result",
          "data": {
            "text/plain": [
              "[0.24777686595916748, 0.9290981888771057]"
            ]
          },
          "metadata": {
            "tags": []
          },
          "execution_count": 29
        }
      ]
    },
    {
      "cell_type": "code",
      "metadata": {
        "id": "NsITGf4za4E2",
        "colab_type": "code",
        "colab": {}
      },
      "source": [
        "from sklearn.metrics import confusion_matrix, classification_report"
      ],
      "execution_count": 0,
      "outputs": []
    },
    {
      "cell_type": "code",
      "metadata": {
        "id": "xQ5P7XioeMu1",
        "colab_type": "code",
        "colab": {}
      },
      "source": [
        "y_preds = model.predict([X_test_w, X_test_t, X_test_a]).argmax(axis=1)"
      ],
      "execution_count": 0,
      "outputs": []
    },
    {
      "cell_type": "code",
      "metadata": {
        "id": "HFmbQ-FmezVz",
        "colab_type": "code",
        "outputId": "bcca366d-2fbe-4e33-eba7-23c05b761839",
        "colab": {
          "base_uri": "https://localhost:8080/",
          "height": 201
        }
      },
      "source": [
        "confusion_matrix(y_test_ints, y_preds)"
      ],
      "execution_count": 32,
      "outputs": [
        {
          "output_type": "execute_result",
          "data": {
            "text/plain": [
              "array([[ 228,    2,   18,    0,    1,    0,   28,    4,    0,    1],\n",
              "       [   6,  149,   20,    4,    0,    3,    1,    5,    3,    5],\n",
              "       [  10,   11, 1198,   14,    8,    4,   39,   10,    2,    6],\n",
              "       [  11,    6,   34,  530,    0,    3,   19,    6,    0,    2],\n",
              "       [   4,    1,   31,    1,  561,    2,    8,    3,    5,   18],\n",
              "       [   2,    3,    6,   10,    1, 2053,   29,    9,    0,    9],\n",
              "       [  20,    3,   12,   18,    4,    8, 3088,    6,    2,    3],\n",
              "       [   6,    7,   21,    9,    1,    1,   14,  742,    0,    6],\n",
              "       [   2,    6,   10,    2,    4,    2,    8,    1,   63,   20],\n",
              "       [   2,    5,   18,    2,    1,    3,    6,    4,    8,  207]])"
            ]
          },
          "metadata": {
            "tags": []
          },
          "execution_count": 32
        }
      ]
    },
    {
      "cell_type": "code",
      "metadata": {
        "id": "PxPbOo2QeUGH",
        "colab_type": "code",
        "outputId": "c757acb5-7533-4b23-e47f-da621ce9e0d2",
        "colab": {
          "base_uri": "https://localhost:8080/",
          "height": 329
        }
      },
      "source": [
        "print(classification_report(y_test_ints, y_preds))"
      ],
      "execution_count": 33,
      "outputs": [
        {
          "output_type": "stream",
          "text": [
            "              precision    recall  f1-score   support\n",
            "\n",
            "           0       0.78      0.81      0.80       282\n",
            "           1       0.77      0.76      0.77       196\n",
            "           2       0.88      0.92      0.90      1302\n",
            "           3       0.90      0.87      0.88       611\n",
            "           4       0.97      0.88      0.92       634\n",
            "           5       0.99      0.97      0.98      2122\n",
            "           6       0.95      0.98      0.96      3164\n",
            "           7       0.94      0.92      0.93       807\n",
            "           8       0.76      0.53      0.63       118\n",
            "           9       0.75      0.81      0.78       256\n",
            "\n",
            "    accuracy                           0.93      9492\n",
            "   macro avg       0.87      0.84      0.85      9492\n",
            "weighted avg       0.93      0.93      0.93      9492\n",
            "\n"
          ],
          "name": "stdout"
        }
      ]
    },
    {
      "cell_type": "code",
      "metadata": {
        "id": "MozOOVl5eXO9",
        "colab_type": "code",
        "colab": {}
      },
      "source": [
        ""
      ],
      "execution_count": 0,
      "outputs": []
    }
  ]
}