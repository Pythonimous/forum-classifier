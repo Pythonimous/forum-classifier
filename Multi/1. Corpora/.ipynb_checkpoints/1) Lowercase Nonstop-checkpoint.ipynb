{
 "cells": [
  {
   "cell_type": "code",
   "execution_count": 1,
   "metadata": {},
   "outputs": [],
   "source": [
    "import string\n",
    "import nltk\n",
    "import re\n",
    "from tqdm import tqdm"
   ]
  },
  {
   "cell_type": "code",
   "execution_count": 2,
   "metadata": {},
   "outputs": [],
   "source": [
    "russian_stopwords = nltk.corpus.stopwords.words(\"russian\")"
   ]
  },
  {
   "cell_type": "code",
   "execution_count": 3,
   "metadata": {},
   "outputs": [],
   "source": [
    "def preproc_text(i):\n",
    "    i = i.rstrip().lower().replace('-то',' -то').replace('-нибудь',' -нибудь').replace('ё','е')\n",
    "    for c in list(string.punctuation + '1234567890'):\n",
    "        i = i.replace(c, ' ')\n",
    "    i = i.replace('»', ' ').replace('«', ' ').replace('—', '').replace('–', '')\n",
    "    i = re.sub(u'[A-z]', u'', i)\n",
    "    i = ' '.join(i.split())\n",
    "    return i"
   ]
  },
  {
   "cell_type": "code",
   "execution_count": 4,
   "metadata": {},
   "outputs": [],
   "source": [
    "def preproc(lst):\n",
    "    t_list = [preproc_text(t) for t in tqdm(lst)]\n",
    "    return t_list"
   ]
  },
  {
   "cell_type": "code",
   "execution_count": 5,
   "metadata": {},
   "outputs": [],
   "source": [
    "def singlesennonstop(sen):\n",
    "    tokens = [token for token in sen if token not in russian_stopwords]\n",
    "    text = \" \".join(tokens)\n",
    "    return text"
   ]
  },
  {
   "cell_type": "code",
   "execution_count": 6,
   "metadata": {},
   "outputs": [],
   "source": [
    "def nonstop(txt):\n",
    "    tokens = [nltk.word_tokenize(sentence) for sentence in txt]\n",
    "    tokens = [singlesennonstop(sentence) for sentence in tokens]\n",
    "    return tokens"
   ]
  },
  {
   "cell_type": "code",
   "execution_count": 7,
   "metadata": {},
   "outputs": [],
   "source": [
    "def fullprocess(textname):\n",
    "    with open(textname + '.txt', 'r', encoding='utf-8') as c:\n",
    "        texts = c.read().split('\\nNEWTEXT\\n')\n",
    "    c.close()\n",
    "    clean_texts = preproc(texts)\n",
    "    erased = nonstop(clean_texts)\n",
    "    with open(textname+'_clean.txt', 'w', encoding='utf-8') as cl:\n",
    "        cl.write('\\n'.join(erased))\n",
    "    return erased[0]"
   ]
  },
  {
   "cell_type": "code",
   "execution_count": 8,
   "metadata": {},
   "outputs": [
    {
     "name": "stderr",
     "output_type": "stream",
     "text": [
      "100%|█████████████████████████████████| 87844/87844 [00:05<00:00, 16077.45it/s]\n"
     ]
    },
    {
     "data": {
      "text/plain": [
       "'очень советую прочесть мангу создатели сериала упустили экранизации очень большую интересную часть истории которая следует победы шишио правда кусочек истории показали второй ове это лишь маленький кусочек всей истории рассказанной манге'"
      ]
     },
     "execution_count": 8,
     "metadata": {},
     "output_type": "execute_result"
    }
   ],
   "source": [
    "fullprocess('Train_corpus')"
   ]
  },
  {
   "cell_type": "code",
   "execution_count": 9,
   "metadata": {},
   "outputs": [
    {
     "name": "stderr",
     "output_type": "stream",
     "text": [
      "100%|███████████████████████████████████| 1000/1000 [00:00<00:00, 15683.10it/s]\n"
     ]
    },
    {
     "data": {
      "text/plain": [
       "'усе относительно товарищ относительно аниме оценивали моим критериям делаю озабоченное лицо год просто позорным вообще ибо редко какое аниме подогнать формулу идеального продукта ладно год вышел отнюдь плохим шедевров подарил двухразовую годноту количестве одноразовой годноты примерно откровенного хлама знаю смотрел рано дропал'"
      ]
     },
     "execution_count": 9,
     "metadata": {},
     "output_type": "execute_result"
    }
   ],
   "source": [
    "fullprocess('Test_corpus')"
   ]
  },
  {
   "cell_type": "code",
   "execution_count": 10,
   "metadata": {},
   "outputs": [
    {
     "name": "stderr",
     "output_type": "stream",
     "text": [
      "100%|███████████████████████████████████| 1000/1000 [00:00<00:00, 15607.06it/s]\n"
     ]
    },
    {
     "data": {
      "text/plain": [
       "'паренек имени щин живет городе эталоне кодовым названием № щина двух лет растили высшую элиту обитает эксклюзивном районе таких важных персон вообще жизнь прекрасна спокойна году ночь своего летия главный герой встречает молодого человека имени незуми сбежавшего зоны повышенной безопасности привносит жизнь щина серьезные перемены помощник режиссера кендзи нагасаки впервые жизни попытается самостоятельно снять целый сериал дружно посмотрим получится затеи подхвате кендзи сценарист одного научного рейлгана паприки агента паранойи сейщи минаками это весомый аргумент анимацию взвалила судить трейлерам задачей сделать красиво студия справилась верим лучшее надеемся отчетливо прозвучавший этих самых трейлерах яой подтекст это лишь легкое недопонимание нашей стороны начало показа июля пятница'"
      ]
     },
     "execution_count": 10,
     "metadata": {},
     "output_type": "execute_result"
    }
   ],
   "source": [
    "fullprocess('Val_corpus')"
   ]
  },
  {
   "cell_type": "code",
   "execution_count": null,
   "metadata": {},
   "outputs": [],
   "source": []
  }
 ],
 "metadata": {
  "kernelspec": {
   "display_name": "Python 3",
   "language": "python",
   "name": "python3"
  },
  "language_info": {
   "codemirror_mode": {
    "name": "ipython",
    "version": 3
   },
   "file_extension": ".py",
   "mimetype": "text/x-python",
   "name": "python",
   "nbconvert_exporter": "python",
   "pygments_lexer": "ipython3",
   "version": "3.6.9"
  }
 },
 "nbformat": 4,
 "nbformat_minor": 2
}
